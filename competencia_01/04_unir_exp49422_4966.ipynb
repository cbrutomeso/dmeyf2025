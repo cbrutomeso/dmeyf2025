{
 "cells": [
  {
   "cell_type": "code",
   "execution_count": 1,
   "id": "b53f235b",
   "metadata": {},
   "outputs": [
    {
     "name": "stdout",
     "output_type": "stream",
     "text": [
      "Cantidad de clientes con Predicted=1 que coinciden en ambos envíos: 7412\n"
     ]
    }
   ],
   "source": [
    "import polars as pl\n",
    "\n",
    "# Cambiar extensión de .txt a .csv\n",
    "ka1 = pl.read_csv(\"./exp/exp49422/kaggle/KA49422_10000.csv\")\n",
    "ka2 = pl.read_csv(\"./exp/exp4966/kaggle/KA4966_11000.csv\")\n",
    "\n",
    "# Filtrar clientes que tienen Predicted == 1\n",
    "cli1 = set(ka1.filter(pl.col(\"Predicted\") == 1)[\"numero_de_cliente\"].to_list())\n",
    "cli2 = set(ka2.filter(pl.col(\"Predicted\") == 1)[\"numero_de_cliente\"].to_list())\n",
    "\n",
    "# Intersección\n",
    "coinciden = cli1 & cli2\n",
    "\n",
    "print(f\"Cantidad de clientes con Predicted=1 que coinciden en ambos envíos: {len(coinciden)}\")\n"
   ]
  },
  {
   "cell_type": "code",
   "execution_count": 2,
   "id": "0df999c2",
   "metadata": {},
   "outputs": [
    {
     "name": "stderr",
     "output_type": "stream",
     "text": [
      "/tmp/ipykernel_1880949/3917391916.py:6: DeprecationWarning: use of `how='outer'` should be replaced with `how='full'`.\n",
      "(Deprecated in version 0.20.29)\n",
      "  df_merged = ka1.join(ka2, on=\"numero_de_cliente\", how=\"outer\")\n"
     ]
    },
    {
     "name": "stdout",
     "output_type": "stream",
     "text": [
      "CSV generado: KA_union_49422_vs_4966.csv\n",
      "   Total clientes: 164,313\n",
      "   Predicted = 1: 13,588\n",
      "   Predicted = 0: 150,725\n"
     ]
    }
   ],
   "source": [
    "# Renombrar columnas para distinguir después del join\n",
    "ka1 = ka1.rename({\"Predicted\": \"Predicted_49422\"})\n",
    "ka2 = ka2.rename({\"Predicted\": \"Predicted_4966\"})\n",
    "\n",
    "# Hacer join por numero_de_cliente\n",
    "df_merged = ka1.join(ka2, on=\"numero_de_cliente\", how=\"outer\")\n",
    "\n",
    "# Crear nueva columna: 1 cuando AL MENOS UNO predice 1 (OR)\n",
    "df_final = df_merged.with_columns([\n",
    "    pl.when(\n",
    "        (pl.col(\"Predicted_49422\") == 1) | (pl.col(\"Predicted_4966\") == 1)\n",
    "    )\n",
    "    .then(1)\n",
    "    .otherwise(0)\n",
    "    .alias(\"Predicted\")\n",
    "])\n",
    "\n",
    "# Seleccionar solo las columnas del formato original\n",
    "df_final = df_final.select([\"numero_de_cliente\", \"Predicted\"])\n",
    "\n",
    "# Guardar CSV\n",
    "df_final.write_csv(\"./exp/KA_union_49422_vs_4966.csv\")\n",
    "\n",
    "# Estadísticas\n",
    "total_clientes = len(df_final)\n",
    "clientes_pred_1 = (df_final[\"Predicted\"] == 1).sum()\n",
    "\n",
    "print(f\"CSV generado: KA_union_49422_vs_4966.csv\")\n",
    "print(f\"   Total clientes: {total_clientes:,}\")\n",
    "print(f\"   Predicted = 1: {clientes_pred_1:,}\")\n",
    "print(f\"   Predicted = 0: {total_clientes - clientes_pred_1:,}\")"
   ]
  }
 ],
 "metadata": {
  "kernelspec": {
   "display_name": "venv",
   "language": "python",
   "name": "python3"
  },
  "language_info": {
   "codemirror_mode": {
    "name": "ipython",
    "version": 3
   },
   "file_extension": ".py",
   "mimetype": "text/x-python",
   "name": "python",
   "nbconvert_exporter": "python",
   "pygments_lexer": "ipython3",
   "version": "3.11.2"
  }
 },
 "nbformat": 4,
 "nbformat_minor": 5
}
