{
  "cells": [
    {
      "cell_type": "code",
      "execution_count": 1,
      "metadata": {},
      "outputs": [
        {
          "name": "stderr",
          "output_type": "stream",
          "text": [
            "/home/lilitapano/.venv/lib/python3.12/site-packages/tqdm/auto.py:21: TqdmWarning: IProgress not found. Please update jupyter and ipywidgets. See https://ipywidgets.readthedocs.io/en/stable/user_install.html\n",
            "  from .autonotebook import tqdm as notebook_tqdm\n"
          ]
        }
      ],
      "source": [
        "!pip install polars numpy pandas lightgbm optuna scikit-learn pyarrow -q\n",
        "from datetime import datetime\n",
        "import os\n",
        "import polars as pl\n",
        "import numpy as np\n",
        "import pandas as pd\n",
        "import yaml\n",
        "import random\n",
        "import lightgbm as lgb\n",
        "import optuna\n",
        "from sklearn.model_selection import StratifiedKFold, cross_val_score\n",
        "from sklearn.metrics import roc_auc_score\n",
        "import gc\n",
        "\n",
        "import warnings\n",
        "warnings.filterwarnings(\"ignore\", category=UserWarning, message=\"X does not have valid feature names\")"
      ]
    },
    {
      "cell_type": "code",
      "execution_count": 2,
      "metadata": {},
      "outputs": [],
      "source": [
        "# -------- Fijar semillas --------\n",
        "SEED = 42\n",
        "random.seed(SEED)\n",
        "np.random.seed(SEED)\n",
        "os.environ[\"PYTHONHASHSEED\"] = str(SEED)"
      ]
    },
    {
      "cell_type": "markdown",
      "metadata": {
        "id": "dseB4qb9RqUb"
      },
      "source": [
        "## Generacion de la clase_ternaria"
      ]
    },
    {
      "cell_type": "code",
      "execution_count": null,
      "metadata": {},
      "outputs": [
        {
          "data": {
            "text/html": [
              "<div><style>\n",
              ".dataframe > thead > tr,\n",
              ".dataframe > tbody > tr {\n",
              "  text-align: right;\n",
              "  white-space: pre-wrap;\n",
              "}\n",
              "</style>\n",
              "<small>shape: (5, 154)</small><table border=\"1\" class=\"dataframe\"><thead><tr><th>numero_de_cliente</th><th>foto_mes</th><th>active_quarter</th><th>cliente_vip</th><th>internet</th><th>cliente_edad</th><th>cliente_antiguedad</th><th>mrentabilidad</th><th>mrentabilidad_annual</th><th>mcomisiones</th><th>mactivos_margen</th><th>mpasivos_margen</th><th>cproductos</th><th>tcuentas</th><th>ccuenta_corriente</th><th>mcuenta_corriente_adicional</th><th>mcuenta_corriente</th><th>ccaja_ahorro</th><th>mcaja_ahorro</th><th>mcaja_ahorro_adicional</th><th>mcaja_ahorro_dolares</th><th>cdescubierto_preacordado</th><th>mcuentas_saldo</th><th>ctarjeta_debito</th><th>ctarjeta_debito_transacciones</th><th>mautoservicio</th><th>ctarjeta_visa</th><th>ctarjeta_visa_transacciones</th><th>mtarjeta_visa_consumo</th><th>ctarjeta_master</th><th>ctarjeta_master_transacciones</th><th>mtarjeta_master_consumo</th><th>cprestamos_personales</th><th>mprestamos_personales</th><th>cprestamos_prendarios</th><th>mprestamos_prendarios</th><th>cprestamos_hipotecarios</th><th>&hellip;</th><th>Master_msaldodolares</th><th>Master_mconsumospesos</th><th>Master_mconsumosdolares</th><th>Master_mlimitecompra</th><th>Master_madelantopesos</th><th>Master_madelantodolares</th><th>Master_fultimo_cierre</th><th>Master_mpagado</th><th>Master_mpagospesos</th><th>Master_mpagosdolares</th><th>Master_fechaalta</th><th>Master_mconsumototal</th><th>Master_cconsumos</th><th>Master_cadelantosefectivo</th><th>Master_mpagominimo</th><th>Visa_delinquency</th><th>Visa_status</th><th>Visa_mfinanciacion_limite</th><th>Visa_Fvencimiento</th><th>Visa_Finiciomora</th><th>Visa_msaldototal</th><th>Visa_msaldopesos</th><th>Visa_msaldodolares</th><th>Visa_mconsumospesos</th><th>Visa_mconsumosdolares</th><th>Visa_mlimitecompra</th><th>Visa_madelantopesos</th><th>Visa_madelantodolares</th><th>Visa_fultimo_cierre</th><th>Visa_mpagado</th><th>Visa_mpagospesos</th><th>Visa_mpagosdolares</th><th>Visa_fechaalta</th><th>Visa_mconsumototal</th><th>Visa_cconsumos</th><th>Visa_cadelantosefectivo</th><th>Visa_mpagominimo</th></tr><tr><td>i64</td><td>i64</td><td>i64</td><td>i64</td><td>i64</td><td>i64</td><td>i64</td><td>f64</td><td>f64</td><td>f64</td><td>f64</td><td>f64</td><td>i64</td><td>i64</td><td>i64</td><td>f64</td><td>f64</td><td>i64</td><td>f64</td><td>f64</td><td>f64</td><td>i64</td><td>f64</td><td>i64</td><td>i64</td><td>f64</td><td>i64</td><td>i64</td><td>f64</td><td>i64</td><td>i64</td><td>f64</td><td>i64</td><td>f64</td><td>i64</td><td>f64</td><td>i64</td><td>&hellip;</td><td>f64</td><td>f64</td><td>f64</td><td>f64</td><td>f64</td><td>f64</td><td>i64</td><td>f64</td><td>f64</td><td>f64</td><td>i64</td><td>f64</td><td>i64</td><td>i64</td><td>f64</td><td>i64</td><td>i64</td><td>f64</td><td>i64</td><td>i64</td><td>f64</td><td>f64</td><td>f64</td><td>f64</td><td>f64</td><td>f64</td><td>f64</td><td>f64</td><td>i64</td><td>f64</td><td>f64</td><td>f64</td><td>i64</td><td>f64</td><td>i64</td><td>i64</td><td>f64</td></tr></thead><tbody><tr><td>249221323</td><td>202101</td><td>1</td><td>0</td><td>0</td><td>46</td><td>93</td><td>3070.24</td><td>15691.1</td><td>1278.11</td><td>890.96</td><td>636.86</td><td>8</td><td>1</td><td>1</td><td>0.0</td><td>-314.48</td><td>2</td><td>25761.53</td><td>0.0</td><td>10240.09</td><td>1</td><td>22890.77</td><td>1</td><td>5</td><td>35013.67</td><td>1</td><td>10</td><td>15929.92</td><td>1</td><td>13</td><td>27145.02</td><td>0</td><td>0.0</td><td>0</td><td>0.0</td><td>0</td><td>&hellip;</td><td>5171.55</td><td>10853.35</td><td>58.6</td><td>70380.0</td><td>0.0</td><td>0.0</td><td>4</td><td>0.0</td><td>-10385.48</td><td>0.0</td><td>2814</td><td>10853.35</td><td>7</td><td>0</td><td>9290.16</td><td>0</td><td>0</td><td>63342.0</td><td>-849</td><td>null</td><td>43251.02</td><td>50733.44</td><td>0.0</td><td>6743.38</td><td>1.36</td><td>70380.0</td><td>0.0</td><td>0.0</td><td>4</td><td>0.0</td><td>-20833.47</td><td>0.0</td><td>2814</td><td>6743.38</td><td>6</td><td>0</td><td>9559.95</td></tr><tr><td>249227600</td><td>202101</td><td>1</td><td>0</td><td>0</td><td>42</td><td>278</td><td>496.21</td><td>15321.8</td><td>418.97</td><td>-1138.55</td><td>1204.4</td><td>9</td><td>1</td><td>1</td><td>0.0</td><td>0.0</td><td>2</td><td>84736.17</td><td>0.0</td><td>30617.86</td><td>1</td><td>157762.37</td><td>1</td><td>19</td><td>20489.02</td><td>1</td><td>11</td><td>13110.17</td><td>1</td><td>0</td><td>0.0</td><td>1</td><td>85831.92</td><td>0</td><td>0.0</td><td>0</td><td>&hellip;</td><td>0.0</td><td>null</td><td>null</td><td>84456.0</td><td>null</td><td>null</td><td>4</td><td>0.0</td><td>null</td><td>null</td><td>3524</td><td>null</td><td>null</td><td>null</td><td>0.0</td><td>0</td><td>0</td><td>152020.8</td><td>-1063</td><td>null</td><td>11310.74</td><td>13267.49</td><td>0.0</td><td>9419.9</td><td>0.0</td><td>168912.0</td><td>0.0</td><td>0.0</td><td>11</td><td>13267.49</td><td>-9662.51</td><td>0.0</td><td>5541</td><td>9419.9</td><td>8</td><td>0</td><td>1900.26</td></tr><tr><td>249234235</td><td>202101</td><td>1</td><td>0</td><td>0</td><td>54</td><td>17</td><td>806.56</td><td>10549.8</td><td>174.26</td><td>546.73</td><td>-7.68</td><td>7</td><td>1</td><td>1</td><td>0.0</td><td>-129.29</td><td>2</td><td>0.0</td><td>0.0</td><td>0.0</td><td>1</td><td>-157.45</td><td>1</td><td>0</td><td>0.0</td><td>1</td><td>6</td><td>6156.93</td><td>1</td><td>0</td><td>0.0</td><td>0</td><td>0.0</td><td>0</td><td>0.0</td><td>0</td><td>&hellip;</td><td>0.0</td><td>null</td><td>null</td><td>225216.0</td><td>null</td><td>null</td><td>11</td><td>0.0</td><td>null</td><td>null</td><td>243</td><td>null</td><td>null</td><td>null</td><td>0.0</td><td>0</td><td>0</td><td>202694.4</td><td>-1702</td><td>null</td><td>19029.85</td><td>22322.01</td><td>0.0</td><td>2821.32</td><td>0.0</td><td>225216.0</td><td>0.0</td><td>0.0</td><td>4</td><td>0.0</td><td>-4692.0</td><td>0.0</td><td>577</td><td>2821.32</td><td>2</td><td>0</td><td>6885.51</td></tr><tr><td>249244449</td><td>202101</td><td>1</td><td>0</td><td>0</td><td>61</td><td>290</td><td>27485.71</td><td>65621.74</td><td>23590.68</td><td>-317.72</td><td>3638.29</td><td>7</td><td>1</td><td>1</td><td>0.0</td><td>0.0</td><td>2</td><td>252326.77</td><td>0.0</td><td>30200.06</td><td>1</td><td>271890.17</td><td>6</td><td>0</td><td>0.0</td><td>1</td><td>8</td><td>23509.71</td><td>1</td><td>0</td><td>0.0</td><td>0</td><td>0.0</td><td>0</td><td>0.0</td><td>0</td><td>&hellip;</td><td>0.0</td><td>null</td><td>null</td><td>84456.0</td><td>null</td><td>null</td><td>18</td><td>0.0</td><td>null</td><td>null</td><td>6752</td><td>null</td><td>null</td><td>null</td><td>0.0</td><td>0</td><td>0</td><td>76010.4</td><td>-879</td><td>null</td><td>20282.89</td><td>23791.82</td><td>0.0</td><td>23509.71</td><td>0.0</td><td>84456.0</td><td>0.0</td><td>0.0</td><td>25</td><td>23800.17</td><td>-20349.22</td><td>0.0</td><td>7916</td><td>23509.71</td><td>8</td><td>0</td><td>1219.92</td></tr><tr><td>249244739</td><td>202101</td><td>1</td><td>0</td><td>0</td><td>66</td><td>320</td><td>3306.82</td><td>48787.99</td><td>3274.95</td><td>-2002.76</td><td>2029.93</td><td>8</td><td>1</td><td>1</td><td>0.0</td><td>-1141.96</td><td>3</td><td>48569.5</td><td>20085.44</td><td>20635.82</td><td>1</td><td>43125.7</td><td>2</td><td>8</td><td>8094.87</td><td>1</td><td>15</td><td>38271.01</td><td>1</td><td>2</td><td>1613.88</td><td>0</td><td>0.0</td><td>0</td><td>0.0</td><td>0</td><td>&hellip;</td><td>627.0</td><td>619.84</td><td>7.1</td><td>197064.0</td><td>0.0</td><td>0.0</td><td>4</td><td>0.0</td><td>-61284.59</td><td>0.0</td><td>1958</td><td>619.84</td><td>1</td><td>0</td><td>985.32</td><td>0</td><td>0</td><td>177357.6</td><td>-1337</td><td>null</td><td>32883.64</td><td>38572.5</td><td>0.0</td><td>20397.54</td><td>0.0</td><td>197064.0</td><td>0.0</td><td>0.0</td><td>4</td><td>0.0</td><td>-88178.37</td><td>0.0</td><td>1958</td><td>20397.54</td><td>8</td><td>0</td><td>2627.52</td></tr></tbody></table></div>"
            ],
            "text/plain": [
              "shape: (5, 154)\n",
              "┌───────────┬──────────┬───────────┬───────────┬───┬───────────┬───────────┬───────────┬───────────┐\n",
              "│ numero_de ┆ foto_mes ┆ active_qu ┆ cliente_v ┆ … ┆ Visa_mcon ┆ Visa_ccon ┆ Visa_cade ┆ Visa_mpag │\n",
              "│ _cliente  ┆ ---      ┆ arter     ┆ ip        ┆   ┆ sumototal ┆ sumos     ┆ lantosefe ┆ ominimo   │\n",
              "│ ---       ┆ i64      ┆ ---       ┆ ---       ┆   ┆ ---       ┆ ---       ┆ ctivo     ┆ ---       │\n",
              "│ i64       ┆          ┆ i64       ┆ i64       ┆   ┆ f64       ┆ i64       ┆ ---       ┆ f64       │\n",
              "│           ┆          ┆           ┆           ┆   ┆           ┆           ┆ i64       ┆           │\n",
              "╞═══════════╪══════════╪═══════════╪═══════════╪═══╪═══════════╪═══════════╪═══════════╪═══════════╡\n",
              "│ 249221323 ┆ 202101   ┆ 1         ┆ 0         ┆ … ┆ 6743.38   ┆ 6         ┆ 0         ┆ 9559.95   │\n",
              "│ 249227600 ┆ 202101   ┆ 1         ┆ 0         ┆ … ┆ 9419.9    ┆ 8         ┆ 0         ┆ 1900.26   │\n",
              "│ 249234235 ┆ 202101   ┆ 1         ┆ 0         ┆ … ┆ 2821.32   ┆ 2         ┆ 0         ┆ 6885.51   │\n",
              "│ 249244449 ┆ 202101   ┆ 1         ┆ 0         ┆ … ┆ 23509.71  ┆ 8         ┆ 0         ┆ 1219.92   │\n",
              "│ 249244739 ┆ 202101   ┆ 1         ┆ 0         ┆ … ┆ 20397.54  ┆ 8         ┆ 0         ┆ 2627.52   │\n",
              "└───────────┴──────────┴───────────┴───────────┴───┴───────────┴───────────┴───────────┴───────────┘"
            ]
          },
          "execution_count": 3,
          "metadata": {},
          "output_type": "execute_result"
        }
      ],
      "source": [
        "df = pl.read_csv(\n",
        "    \"datasets/competencia_01_crudo.csv\",\n",
        "    infer_schema_length=100000\n",
        ")\n",
        "df.head()"
      ]
    },
    {
      "cell_type": "code",
      "execution_count": 4,
      "metadata": {},
      "outputs": [
        {
          "data": {
            "text/html": [
              "<div><style>\n",
              ".dataframe > thead > tr,\n",
              ".dataframe > tbody > tr {\n",
              "  text-align: right;\n",
              "  white-space: pre-wrap;\n",
              "}\n",
              "</style>\n",
              "<small>shape: (5, 155)</small><table border=\"1\" class=\"dataframe\"><thead><tr><th>numero_de_cliente</th><th>foto_mes</th><th>active_quarter</th><th>cliente_vip</th><th>internet</th><th>cliente_edad</th><th>cliente_antiguedad</th><th>mrentabilidad</th><th>mrentabilidad_annual</th><th>mcomisiones</th><th>mactivos_margen</th><th>mpasivos_margen</th><th>cproductos</th><th>tcuentas</th><th>ccuenta_corriente</th><th>mcuenta_corriente_adicional</th><th>mcuenta_corriente</th><th>ccaja_ahorro</th><th>mcaja_ahorro</th><th>mcaja_ahorro_adicional</th><th>mcaja_ahorro_dolares</th><th>cdescubierto_preacordado</th><th>mcuentas_saldo</th><th>ctarjeta_debito</th><th>ctarjeta_debito_transacciones</th><th>mautoservicio</th><th>ctarjeta_visa</th><th>ctarjeta_visa_transacciones</th><th>mtarjeta_visa_consumo</th><th>ctarjeta_master</th><th>ctarjeta_master_transacciones</th><th>mtarjeta_master_consumo</th><th>cprestamos_personales</th><th>mprestamos_personales</th><th>cprestamos_prendarios</th><th>mprestamos_prendarios</th><th>cprestamos_hipotecarios</th><th>&hellip;</th><th>Master_mconsumospesos</th><th>Master_mconsumosdolares</th><th>Master_mlimitecompra</th><th>Master_madelantopesos</th><th>Master_madelantodolares</th><th>Master_fultimo_cierre</th><th>Master_mpagado</th><th>Master_mpagospesos</th><th>Master_mpagosdolares</th><th>Master_fechaalta</th><th>Master_mconsumototal</th><th>Master_cconsumos</th><th>Master_cadelantosefectivo</th><th>Master_mpagominimo</th><th>Visa_delinquency</th><th>Visa_status</th><th>Visa_mfinanciacion_limite</th><th>Visa_Fvencimiento</th><th>Visa_Finiciomora</th><th>Visa_msaldototal</th><th>Visa_msaldopesos</th><th>Visa_msaldodolares</th><th>Visa_mconsumospesos</th><th>Visa_mconsumosdolares</th><th>Visa_mlimitecompra</th><th>Visa_madelantopesos</th><th>Visa_madelantodolares</th><th>Visa_fultimo_cierre</th><th>Visa_mpagado</th><th>Visa_mpagospesos</th><th>Visa_mpagosdolares</th><th>Visa_fechaalta</th><th>Visa_mconsumototal</th><th>Visa_cconsumos</th><th>Visa_cadelantosefectivo</th><th>Visa_mpagominimo</th><th>clase_ternaria</th></tr><tr><td>i64</td><td>i64</td><td>i64</td><td>i64</td><td>i64</td><td>i64</td><td>i64</td><td>f64</td><td>f64</td><td>f64</td><td>f64</td><td>f64</td><td>i64</td><td>i64</td><td>i64</td><td>f64</td><td>f64</td><td>i64</td><td>f64</td><td>f64</td><td>f64</td><td>i64</td><td>f64</td><td>i64</td><td>i64</td><td>f64</td><td>i64</td><td>i64</td><td>f64</td><td>i64</td><td>i64</td><td>f64</td><td>i64</td><td>f64</td><td>i64</td><td>f64</td><td>i64</td><td>&hellip;</td><td>f64</td><td>f64</td><td>f64</td><td>f64</td><td>f64</td><td>i64</td><td>f64</td><td>f64</td><td>f64</td><td>i64</td><td>f64</td><td>i64</td><td>i64</td><td>f64</td><td>i64</td><td>i64</td><td>f64</td><td>i64</td><td>i64</td><td>f64</td><td>f64</td><td>f64</td><td>f64</td><td>f64</td><td>f64</td><td>f64</td><td>f64</td><td>i64</td><td>f64</td><td>f64</td><td>f64</td><td>i64</td><td>f64</td><td>i64</td><td>i64</td><td>f64</td><td>str</td></tr></thead><tbody><tr><td>249221323</td><td>202101</td><td>1</td><td>0</td><td>0</td><td>46</td><td>93</td><td>3070.24</td><td>15691.1</td><td>1278.11</td><td>890.96</td><td>636.86</td><td>8</td><td>1</td><td>1</td><td>0.0</td><td>-314.48</td><td>2</td><td>25761.53</td><td>0.0</td><td>10240.09</td><td>1</td><td>22890.77</td><td>1</td><td>5</td><td>35013.67</td><td>1</td><td>10</td><td>15929.92</td><td>1</td><td>13</td><td>27145.02</td><td>0</td><td>0.0</td><td>0</td><td>0.0</td><td>0</td><td>&hellip;</td><td>10853.35</td><td>58.6</td><td>70380.0</td><td>0.0</td><td>0.0</td><td>4</td><td>0.0</td><td>-10385.48</td><td>0.0</td><td>2814</td><td>10853.35</td><td>7</td><td>0</td><td>9290.16</td><td>0</td><td>0</td><td>63342.0</td><td>-849</td><td>null</td><td>43251.02</td><td>50733.44</td><td>0.0</td><td>6743.38</td><td>1.36</td><td>70380.0</td><td>0.0</td><td>0.0</td><td>4</td><td>0.0</td><td>-20833.47</td><td>0.0</td><td>2814</td><td>6743.38</td><td>6</td><td>0</td><td>9559.95</td><td>&quot;CONTINUA&quot;</td></tr><tr><td>249221323</td><td>202102</td><td>1</td><td>0</td><td>0</td><td>46</td><td>94</td><td>3385.85</td><td>19103.66</td><td>1230.47</td><td>1631.3</td><td>206.19</td><td>8</td><td>1</td><td>1</td><td>0.0</td><td>0.0</td><td>2</td><td>8116.43</td><td>0.0</td><td>10536.47</td><td>1</td><td>10629.59</td><td>1</td><td>1</td><td>2315.5</td><td>1</td><td>11</td><td>17285.39</td><td>1</td><td>22</td><td>25713.45</td><td>0</td><td>0.0</td><td>0</td><td>0.0</td><td>0</td><td>&hellip;</td><td>10910.41</td><td>56.8</td><td>70380.0</td><td>0.0</td><td>0.0</td><td>-3</td><td>42765.48</td><td>-42426.83</td><td>59.3</td><td>2842</td><td>10910.41</td><td>17</td><td>0</td><td>8539.44</td><td>0</td><td>0</td><td>63342.0</td><td>-821</td><td>null</td><td>19687.47</td><td>23093.4</td><td>0.0</td><td>7715.26</td><td>1.77</td><td>70380.0</td><td>0.0</td><td>0.0</td><td>-3</td><td>50733.44</td><td>-50733.44</td><td>0.0</td><td>2842</td><td>7715.26</td><td>8</td><td>0</td><td>7413.36</td><td>&quot;CONTINUA&quot;</td></tr><tr><td>249221323</td><td>202103</td><td>1</td><td>0</td><td>0</td><td>46</td><td>95</td><td>5341.18</td><td>24020.21</td><td>755.85</td><td>2768.95</td><td>1140.11</td><td>8</td><td>1</td><td>1</td><td>0.0</td><td>-3933.18</td><td>2</td><td>4015.77</td><td>0.0</td><td>10789.84</td><td>1</td><td>4650.31</td><td>1</td><td>0</td><td>0.0</td><td>1</td><td>10</td><td>18976.09</td><td>1</td><td>16</td><td>45821.57</td><td>0</td><td>0.0</td><td>0</td><td>0.0</td><td>0</td><td>&hellip;</td><td>30992.11</td><td>39.83</td><td>70380.0</td><td>0.0</td><td>0.0</td><td>1</td><td>0.0</td><td>-42534.65</td><td>57.48</td><td>2873</td><td>30992.11</td><td>11</td><td>0</td><td>0.0</td><td>0</td><td>0</td><td>63342.0</td><td>-790</td><td>null</td><td>-2453.06</td><td>-2877.43</td><td>0.0</td><td>10703.0</td><td>1.53</td><td>70380.0</td><td>0.0</td><td>0.0</td><td>1</td><td>0.0</td><td>-50733.44</td><td>0.0</td><td>2873</td><td>10703.0</td><td>7</td><td>0</td><td>0.0</td><td>&quot;CONTINUA&quot;</td></tr><tr><td>249221323</td><td>202104</td><td>1</td><td>0</td><td>0</td><td>46</td><td>96</td><td>5356.62</td><td>29189.81</td><td>1470.2</td><td>2627.7</td><td>685.53</td><td>8</td><td>1</td><td>1</td><td>0.0</td><td>-1960.57</td><td>2</td><td>2136.11</td><td>0.0</td><td>10974.0</td><td>1</td><td>9358.46</td><td>1</td><td>0</td><td>0.0</td><td>1</td><td>10</td><td>19201.77</td><td>1</td><td>18</td><td>17373.08</td><td>0</td><td>0.0</td><td>0</td><td>0.0</td><td>0</td><td>&hellip;</td><td>10360.48</td><td>49.19</td><td>70380.0</td><td>0.0</td><td>0.0</td><td>2</td><td>0.0</td><td>-42579.46</td><td>40.31</td><td>2903</td><td>10360.48</td><td>14</td><td>0</td><td>4821.03</td><td>0</td><td>0</td><td>63342.0</td><td>-760</td><td>null</td><td>14545.66</td><td>17062.05</td><td>0.0</td><td>8094.73</td><td>1.51</td><td>70380.0</td><td>0.0</td><td>0.0</td><td>2</td><td>0.0</td><td>0.0</td><td>0.0</td><td>2903</td><td>8094.73</td><td>6</td><td>0</td><td>0.0</td><td>&quot;CONTINUA&quot;</td></tr><tr><td>249221323</td><td>202105</td><td>1</td><td>0</td><td>0</td><td>46</td><td>97</td><td>2489.25</td><td>31505.78</td><td>1008.8</td><td>952.16</td><td>309.95</td><td>8</td><td>1</td><td>1</td><td>0.0</td><td>-263.5</td><td>2</td><td>6204.56</td><td>0.0</td><td>11106.55</td><td>1</td><td>13240.63</td><td>1</td><td>1</td><td>2216.97</td><td>1</td><td>9</td><td>19278.3</td><td>1</td><td>14</td><td>16708.69</td><td>0</td><td>0.0</td><td>0</td><td>0.0</td><td>0</td><td>&hellip;</td><td>7293.92</td><td>43.34</td><td>70380.0</td><td>0.0</td><td>0.0</td><td>5</td><td>0.0</td><td>-21115.45</td><td>49.78</td><td>2934</td><td>7293.92</td><td>10</td><td>0</td><td>4586.43</td><td>0</td><td>0</td><td>63342.0</td><td>-729</td><td>null</td><td>17064.74</td><td>20016.94</td><td>0.0</td><td>9051.98</td><td>1.48</td><td>70380.0</td><td>0.0</td><td>0.0</td><td>5</td><td>0.0</td><td>-17062.05</td><td>0.0</td><td>2934</td><td>9051.98</td><td>6</td><td>0</td><td>2111.4</td><td>null</td></tr></tbody></table></div>"
            ],
            "text/plain": [
              "shape: (5, 155)\n",
              "┌───────────┬──────────┬───────────┬───────────┬───┬───────────┬───────────┬───────────┬───────────┐\n",
              "│ numero_de ┆ foto_mes ┆ active_qu ┆ cliente_v ┆ … ┆ Visa_ccon ┆ Visa_cade ┆ Visa_mpag ┆ clase_ter │\n",
              "│ _cliente  ┆ ---      ┆ arter     ┆ ip        ┆   ┆ sumos     ┆ lantosefe ┆ ominimo   ┆ naria     │\n",
              "│ ---       ┆ i64      ┆ ---       ┆ ---       ┆   ┆ ---       ┆ ctivo     ┆ ---       ┆ ---       │\n",
              "│ i64       ┆          ┆ i64       ┆ i64       ┆   ┆ i64       ┆ ---       ┆ f64       ┆ str       │\n",
              "│           ┆          ┆           ┆           ┆   ┆           ┆ i64       ┆           ┆           │\n",
              "╞═══════════╪══════════╪═══════════╪═══════════╪═══╪═══════════╪═══════════╪═══════════╪═══════════╡\n",
              "│ 249221323 ┆ 202101   ┆ 1         ┆ 0         ┆ … ┆ 6         ┆ 0         ┆ 9559.95   ┆ CONTINUA  │\n",
              "│ 249221323 ┆ 202102   ┆ 1         ┆ 0         ┆ … ┆ 8         ┆ 0         ┆ 7413.36   ┆ CONTINUA  │\n",
              "│ 249221323 ┆ 202103   ┆ 1         ┆ 0         ┆ … ┆ 7         ┆ 0         ┆ 0.0       ┆ CONTINUA  │\n",
              "│ 249221323 ┆ 202104   ┆ 1         ┆ 0         ┆ … ┆ 6         ┆ 0         ┆ 0.0       ┆ CONTINUA  │\n",
              "│ 249221323 ┆ 202105   ┆ 1         ┆ 0         ┆ … ┆ 6         ┆ 0         ┆ 2111.4    ┆ null      │\n",
              "└───────────┴──────────┴───────────┴───────────┴───┴───────────┴───────────┴───────────┴───────────┘"
            ]
          },
          "execution_count": 4,
          "metadata": {},
          "output_type": "execute_result"
        }
      ],
      "source": [
        "def agregar_clase_ternaria(df: pl.DataFrame) -> pl.DataFrame:\n",
        "    \"\"\"\n",
        "    Agrega columna clase_ternaria:\n",
        "    - periodo_ultimo -> clase_ternaria = None\n",
        "    - periodo_anteultimo -> solo puede ser BAJA+1 o None\n",
        "    - resto -> CONTINUA / BAJA+1 / BAJA+2\n",
        "    \"\"\"\n",
        "    # calculo periodo0\n",
        "    df = df.with_columns(\n",
        "        ((pl.col(\"foto_mes\") // 100) * 12 + (pl.col(\"foto_mes\") % 100)).alias(\"periodo0\")\n",
        "    )\n",
        "\n",
        "    # calculo topes globales\n",
        "    periodo_ultimo = df[\"periodo0\"].max()\n",
        "    periodo_anteultimo = periodo_ultimo - 1\n",
        "\n",
        "    # ordeno y calculo leads (shift tipo \"lead\")\n",
        "    df = (\n",
        "        df.lazy()\n",
        "        .sort([\"numero_de_cliente\", \"periodo0\"])\n",
        "        .with_columns([\n",
        "            pl.col(\"periodo0\").shift(-1).over(\"numero_de_cliente\").alias(\"periodo1\"),\n",
        "            pl.col(\"periodo0\").shift(-2).over(\"numero_de_cliente\").alias(\"periodo2\"),\n",
        "        ])\n",
        "        # asigno clase_ternaria\n",
        "        .with_columns([\n",
        "            pl.when(\n",
        "                # BAJA+1\n",
        "                (pl.col(\"periodo0\") < periodo_ultimo)\n",
        "                & (pl.col(\"periodo1\").is_null() | (pl.col(\"periodo0\") + 1 < pl.col(\"periodo1\")))\n",
        "            )\n",
        "            .then(pl.lit(\"BAJA+1\"))\n",
        "            .when(\n",
        "                # BAJA+2\n",
        "                (pl.col(\"periodo0\") < periodo_anteultimo)\n",
        "                & (pl.col(\"periodo0\") + 1 == pl.col(\"periodo1\"))\n",
        "                & (pl.col(\"periodo2\").is_null() | (pl.col(\"periodo0\") + 2 < pl.col(\"periodo2\")))\n",
        "            )\n",
        "            .then(pl.lit(\"BAJA+2\"))\n",
        "            .when(\n",
        "                # CONTINUA: solo válido si no estamos en ultimo o anteultimo\n",
        "                (pl.col(\"periodo0\") < periodo_anteultimo)\n",
        "            )\n",
        "            .then(pl.lit(\"CONTINUA\"))\n",
        "            .otherwise(None)   # último y anteúltimo pueden quedar en None\n",
        "            .alias(\"clase_ternaria\")\n",
        "        ])\n",
        "        .collect()\n",
        "    )\n",
        "\n",
        "    return df\n",
        "\n",
        "\n",
        "# Agregar la columna clase_ternaria al dataframe\n",
        "df = agregar_clase_ternaria(df)\n",
        "df = df.drop([\"periodo0\", \"periodo1\", \"periodo2\"])\n",
        "df.head()"
      ]
    },
    {
      "cell_type": "code",
      "execution_count": 5,
      "metadata": {
        "id": "S3hL7tv8W4rn"
      },
      "outputs": [
        {
          "name": "stdout",
          "output_type": "stream",
          "text": [
            "shape: (6, 5)\n",
            "┌──────────┬──────────┬────────┬────────┬────────┐\n",
            "│ foto_mes ┆ CONTINUA ┆ null   ┆ BAJA+2 ┆ BAJA+1 │\n",
            "│ ---      ┆ ---      ┆ ---    ┆ ---    ┆ ---    │\n",
            "│ i64      ┆ u32      ┆ u32    ┆ u32    ┆ u32    │\n",
            "╞══════════╪══════════╪════════╪════════╪════════╡\n",
            "│ 202101   ┆ 160080   ┆ 0      ┆ 825    ┆ 622    │\n",
            "│ 202102   ┆ 160292   ┆ 0      ┆ 1032   ┆ 831    │\n",
            "│ 202103   ┆ 161119   ┆ 0      ┆ 951    ┆ 1039   │\n",
            "│ 202104   ┆ 161333   ┆ 0      ┆ 1130   ┆ 955    │\n",
            "│ 202105   ┆ 0        ┆ 162783 ┆ 0      ┆ 1134   │\n",
            "│ 202106   ┆ 0        ┆ 164313 ┆ 0      ┆ 0      │\n",
            "└──────────┴──────────┴────────┴────────┴────────┘\n"
          ]
        }
      ],
      "source": [
        "tabla = (\n",
        "    df.pivot(\n",
        "        values=\"numero_de_cliente\",\n",
        "        index=\"foto_mes\",\n",
        "        on=\"clase_ternaria\",\n",
        "        aggregate_function=\"len\"\n",
        "    )\n",
        "    .fill_null(0)  # reemplazar nulls por 0\n",
        ")\n",
        "\n",
        "print(tabla)"
      ]
    },
    {
      "cell_type": "code",
      "execution_count": null,
      "metadata": {},
      "outputs": [],
      "source": [
        "df.write_csv(\"datasets/competencia_01.csv.gz\")"
      ]
    },
    {
      "cell_type": "markdown",
      "metadata": {
        "id": "oSKhZRToy2F7"
      },
      "source": [
        "## Optimizacion Hiperparámetros"
      ]
    },
    {
      "cell_type": "markdown",
      "metadata": {
        "id": "cOdlKd7lUm2I"
      },
      "source": [
        "aqui debe cargar SU semilla primigenia\n",
        "<br>recuerde cambiar el numero de experimento en cada corrida nueva"
      ]
    },
    {
      "cell_type": "code",
      "execution_count": 7,
      "metadata": {
        "id": "ASYkebOu2mF6"
      },
      "outputs": [],
      "source": [
        "PARAM = {}\n",
        "PARAM[\"experimento\"] = 4942\n",
        "PARAM[\"semilla_primigenia\"] = 200357"
      ]
    },
    {
      "cell_type": "code",
      "execution_count": 8,
      "metadata": {
        "id": "ezOhQdbA293o"
      },
      "outputs": [],
      "source": [
        "# training and future\n",
        "PARAM[\"train\"] = [202101,202102,202103]\n",
        "PARAM[\"train_final\"] = [202101,202102,202103]\n",
        "PARAM[\"future\"] = [202104]\n",
        "PARAM[\"kaggle\"] = [202106]\n",
        "PARAM[\"semilla_kaggle\"] = 314159\n",
        "PARAM[\"cortes\"] = list(range(6000, 19001, 500))"
      ]
    },
    {
      "cell_type": "code",
      "execution_count": 9,
      "metadata": {
        "id": "jtB0Lub42rHO"
      },
      "outputs": [],
      "source": [
        "# un undersampling de 0.1  toma solo el 10% de los CONTINUA\n",
        "# undersampling de 1.0  implica tomar TODOS los datos\n",
        "\n",
        "PARAM[\"trainingstrategy\"] = {}\n",
        "PARAM[\"trainingstrategy\"][\"undersampling\"] = 1.0"
      ]
    },
    {
      "cell_type": "markdown",
      "metadata": {
        "id": "Iz-6Qt6BUaA3"
      },
      "source": [
        "### Definicion de Parametros"
      ]
    },
    {
      "cell_type": "code",
      "execution_count": 10,
      "metadata": {
        "id": "OFxm-xiNUOJX"
      },
      "outputs": [],
      "source": [
        "# Parámetros de LightGBM\n",
        "\n",
        "PARAM[\"hyperparametertuning\"] = {}\n",
        "PARAM[\"hyperparametertuning\"][\"xval_folds\"] = 5\n",
        "\n",
        "# Parámetros fijos de LightGBM que serán sobreescritos por la parte variable de la BO\n",
        "PARAM[\"lgbm\"] = {}\n",
        "PARAM[\"lgbm\"][\"param_fijos\"] = {\n",
        "    \"boosting\": \"gbdt\",  # puede ir 'dart', no probar 'random_forest'\n",
        "    \"objective\": \"binary\",\n",
        "    \"metric\": \"auc\",\n",
        "    \"first_metric_only\": False,\n",
        "    \"boost_from_average\": True,\n",
        "    \"feature_pre_filter\": False,\n",
        "    \"force_row_wise\": True,  # para reducir warnings\n",
        "    \"verbosity\": -100,\n",
        "\n",
        "    \"seed\": PARAM[\"semilla_primigenia\"],\n",
        "\n",
        "    \"min_gain_to_split\": 0,  # min_gain_to_split >= 0\n",
        "    \"min_sum_hessian_in_leaf\": 0.001,  # min_sum_hessian_in_leaf >= 0.0\n",
        "    \"max_bin\": 31,  # lo debo dejar fijo, no participa de la BO\n",
        "\n",
        "    \"pos_bagging_fraction\": 1.0,  # 0.0 < pos_bagging_fraction <= 1.0\n",
        "    \"neg_bagging_fraction\": 1.0,  # 0.0 < neg_bagging_fraction <= 1.0\n",
        "    \"is_unbalance\": False,\n",
        "    \"scale_pos_weight\": 1.0,\n",
        "\n",
        "    \"max_drop\": 50,  # <=0 significa sin límite\n",
        "    \"skip_drop\": 0.5,  # 0.0 <= skip_drop <= 1.0\n",
        "\n",
        "    \"extra_trees\": False,\n",
        "\n",
        "    \"num_iterations\": 1200\n",
        "}"
      ]
    },
    {
      "cell_type": "markdown",
      "metadata": {
        "id": "D5Yj-JV4yvOt"
      },
      "source": [
        "Aqui se definen los hiperparámetros de LightGBM que participan de la Bayesian Optimization"
      ]
    },
    {
      "cell_type": "code",
      "execution_count": 11,
      "metadata": {
        "id": "jENpR26ZyuS8"
      },
      "outputs": [],
      "source": [
        "# Aquí se definen los límites de los hiperparámetros para la Optimización Bayesiana\n",
        "PARAM[\"hyperparametertuning\"][\"hs\"] = {\n",
        "    \"learning_rate\":    {\"type\": \"float\", \"bounds\": (0.005, 0.05)},\n",
        "    \"feature_fraction\": {\"type\": \"float\", \"bounds\": (0.3, 0.8)},\n",
        "    \"min_data_in_leaf\": {\"type\": \"int\",   \"bounds\": (100, 30000)},\n",
        "    \"num_leaves\":       {\"type\": \"int\",   \"bounds\": (10, 25000)},\n",
        "    \"max_depth\":        {\"type\": \"int\",   \"bounds\": (-1, 30)},\n",
        "    \"lambda_l1\":        {\"type\": \"float\", \"bounds\": (0.0, 10.0)},\n",
        "    \"lambda_l2\":        {\"type\": \"float\", \"bounds\": (0.0, 10.0)},\n",
        "    \"bagging_fraction\": {\"type\": \"float\", \"bounds\": (0.5, 1.0)}\n",
        "}"
      ]
    },
    {
      "cell_type": "markdown",
      "metadata": {
        "id": "-_RPFUb3zMoW"
      },
      "source": [
        "A mayor cantidad de hiperparámetros, se debe aumentar las iteraciones de la Bayesian Optimization\n",
        "<br> 30 es un valor muy tacaño, pero corre rápido\n",
        "<br> deberia partir de 50, alcanzando los 100 si se dispone de tiempo"
      ]
    },
    {
      "cell_type": "code",
      "execution_count": 12,
      "metadata": {
        "id": "q5Rd3pnbzSiG"
      },
      "outputs": [],
      "source": [
        "# Definir la cantidad de iteraciones para la optimización bayesiana\n",
        "PARAM[\"hyperparametertuning\"][\"iteraciones\"] = 50  # iteraciones bayesianas"
      ]
    },
    {
      "cell_type": "code",
      "execution_count": 13,
      "metadata": {
        "id": "or53-q3bmE5d"
      },
      "outputs": [],
      "source": [
        "# particionar agrega una columna llamada fold a un dataset\n",
        "#   que consiste en una particion estratificada segun agrupa\n",
        "# particionar( data=dataset, division=c(70,30),\n",
        "#  agrupa=clase_ternaria, seed=semilla)   crea una particion 70, 30\n",
        "\n",
        "def particionar(data: pl.DataFrame, division, agrupa=\"\", campo=\"fold\", start=1, seed=None):\n",
        "    \"\"\"\n",
        "    Replica la función R particionar() usando Polars.\n",
        "    \n",
        "    Args:\n",
        "        data: DataFrame de Polars\n",
        "        division: Lista con las proporciones de cada fold (ej: [70, 30])\n",
        "        agrupa: Nombre de la columna para estratificación (opcional)\n",
        "        campo: Nombre de la columna resultante (default: \"fold\")\n",
        "        start: Número inicial para los folds (default: 1)\n",
        "        seed: Semilla para reproducibilidad (opcional)\n",
        "    \n",
        "    Returns:\n",
        "        DataFrame con la columna de folds agregada\n",
        "    \"\"\"\n",
        "    if seed is not None:\n",
        "        np.random.seed(seed)\n",
        "    \n",
        "    # Crear los bloques repetidos según la división\n",
        "    bloques = np.concatenate([\n",
        "        np.repeat(i, d) for i, d in enumerate(division, start=start)\n",
        "    ])\n",
        "    \n",
        "    def asignar_fold(df):\n",
        "        n = len(df)\n",
        "        # Mezclar los bloques y repetir hasta cubrir todas las filas\n",
        "        folds = np.resize(np.random.permutation(bloques), n)\n",
        "        return df.with_columns(pl.Series(campo, folds))\n",
        "    \n",
        "    if agrupa and agrupa != \"\":\n",
        "        # Estratificación por grupo\n",
        "        result = (\n",
        "            data.group_by(agrupa, maintain_order=True)\n",
        "            .map_groups(asignar_fold)\n",
        "        )\n",
        "    else:\n",
        "        # Sin estratificación\n",
        "        n = data.height\n",
        "        folds = np.resize(np.random.permutation(bloques), n)\n",
        "        result = data.with_columns(pl.Series(campo, folds))\n",
        "    \n",
        "    return result"
      ]
    },
    {
      "cell_type": "code",
      "execution_count": 14,
      "metadata": {},
      "outputs": [
        {
          "name": "stdout",
          "output_type": "stream",
          "text": [
            "Resultado:\n",
            "shape: (20, 3)\n",
            "┌─────┬────────────────┬──────┐\n",
            "│ id  ┆ clase_ternaria ┆ fold │\n",
            "│ --- ┆ ---            ┆ ---  │\n",
            "│ i64 ┆ str            ┆ i64  │\n",
            "╞═════╪════════════════╪══════╡\n",
            "│ 1   ┆ A              ┆ 1    │\n",
            "│ 4   ┆ A              ┆ 1    │\n",
            "│ 5   ┆ A              ┆ 1    │\n",
            "│ 6   ┆ A              ┆ 1    │\n",
            "│ 7   ┆ A              ┆ 1    │\n",
            "│ …   ┆ …              ┆ …    │\n",
            "│ 11  ┆ B              ┆ 2    │\n",
            "│ 12  ┆ B              ┆ 2    │\n",
            "│ 17  ┆ B              ┆ 2    │\n",
            "│ 18  ┆ B              ┆ 2    │\n",
            "│ 19  ┆ B              ┆ 2    │\n",
            "└─────┴────────────────┴──────┘\n",
            "\n",
            "Conteo por fold:\n",
            "shape: (2, 2)\n",
            "┌──────┬───────┐\n",
            "│ fold ┆ count │\n",
            "│ ---  ┆ ---   │\n",
            "│ i64  ┆ u32   │\n",
            "╞══════╪═══════╡\n",
            "│ 2    ┆ 8     │\n",
            "│ 1    ┆ 12    │\n",
            "└──────┴───────┘\n"
          ]
        }
      ],
      "source": [
        "# DataFrame de ejemplo\n",
        "# Crear datos de ejemplo\n",
        "df = pl.DataFrame({\n",
        "    \"id\": range(1, 21),\n",
        "    \"clase_ternaria\": [\"A\"] * 10 + [\"B\"] * 10\n",
        "})\n",
        "\n",
        "# Partición 70/30 estratificada\n",
        "df_particionado = particionar(\n",
        "    data=df, \n",
        "    division=[70, 30], \n",
        "    agrupa=\"clase_ternaria\", \n",
        "    seed=123\n",
        ")\n",
        "\n",
        "print(\"Resultado:\")\n",
        "print(df_particionado.sort([\"clase_ternaria\", \"fold\"]))\n",
        "print(\"\\nConteo por fold:\")\n",
        "print(df_particionado['fold'].value_counts())"
      ]
    },
    {
      "cell_type": "code",
      "execution_count": 15,
      "metadata": {
        "id": "CGKOZ9aMmKxi"
      },
      "outputs": [],
      "source": [
        "def realidad_inicializar(pfuture: pl.DataFrame, pparam: dict) -> pl.DataFrame:\n",
        "    \"\"\"\n",
        "    Inicializa el dataset de realidad para medir la ganancia.\n",
        "    Replica la función R realidad_inicializar().\n",
        "    \n",
        "    Args:\n",
        "        pfuture: DataFrame con los datos del futuro\n",
        "        pparam: Diccionario con los parámetros (debe contener 'semilla_kaggle')\n",
        "    \n",
        "    Returns:\n",
        "        DataFrame con las columnas necesarias y la partición aplicada\n",
        "    \"\"\"\n",
        "    # Seleccionar solo las columnas necesarias (equivalente a pfuture[, list(numero_de_cliente, foto_mes, clase_ternaria)])\n",
        "    drealidad = pfuture.select([\"numero_de_cliente\", \"foto_mes\", \"clase_ternaria\"])\n",
        "    \n",
        "    # Aplicar la partición usando la función particionar que creamos antes\n",
        "    drealidad = particionar(\n",
        "        data=drealidad,\n",
        "        division=[3, 7],  # 30% y 70%\n",
        "        agrupa=\"clase_ternaria\",\n",
        "        seed=pparam[\"semilla_kaggle\"]\n",
        "    )\n",
        "    \n",
        "    return drealidad"
      ]
    },
    {
      "cell_type": "code",
      "execution_count": 16,
      "metadata": {},
      "outputs": [
        {
          "name": "stdout",
          "output_type": "stream",
          "text": [
            "=== Probando función particionar ===\n",
            "Resultado partición 70/30:\n",
            "shape: (20, 3)\n",
            "┌─────┬────────────────┬──────┐\n",
            "│ id  ┆ clase_ternaria ┆ fold │\n",
            "│ --- ┆ ---            ┆ ---  │\n",
            "│ i64 ┆ str            ┆ i64  │\n",
            "╞═════╪════════════════╪══════╡\n",
            "│ 1   ┆ A              ┆ 1    │\n",
            "│ 4   ┆ A              ┆ 1    │\n",
            "│ 5   ┆ A              ┆ 1    │\n",
            "│ 6   ┆ A              ┆ 1    │\n",
            "│ 7   ┆ A              ┆ 1    │\n",
            "│ …   ┆ …              ┆ …    │\n",
            "│ 11  ┆ B              ┆ 2    │\n",
            "│ 12  ┆ B              ┆ 2    │\n",
            "│ 17  ┆ B              ┆ 2    │\n",
            "│ 18  ┆ B              ┆ 2    │\n",
            "│ 19  ┆ B              ┆ 2    │\n",
            "└─────┴────────────────┴──────┘\n",
            "\n",
            "Conteo por fold:\n",
            "shape: (2, 2)\n",
            "┌──────┬───────┐\n",
            "│ fold ┆ count │\n",
            "│ ---  ┆ ---   │\n",
            "│ i64  ┆ u32   │\n",
            "╞══════╪═══════╡\n",
            "│ 2    ┆ 8     │\n",
            "│ 1    ┆ 12    │\n",
            "└──────┴───────┘\n",
            "\n",
            "Verificación estratificación:\n",
            "Clase A: shape: (2, 2)\n",
            "┌──────┬───────┐\n",
            "│ fold ┆ count │\n",
            "│ ---  ┆ ---   │\n",
            "│ i64  ┆ u32   │\n",
            "╞══════╪═══════╡\n",
            "│ 2    ┆ 3     │\n",
            "│ 1    ┆ 7     │\n",
            "└──────┴───────┘\n",
            "Clase B: shape: (2, 2)\n",
            "┌──────┬───────┐\n",
            "│ fold ┆ count │\n",
            "│ ---  ┆ ---   │\n",
            "│ i64  ┆ u32   │\n",
            "╞══════╪═══════╡\n",
            "│ 1    ┆ 5     │\n",
            "│ 2    ┆ 5     │\n",
            "└──────┴───────┘\n",
            "\n",
            "=== Probando función realidad_inicializar ===\n",
            "Dataset de realidad inicializado:\n",
            "Shape: (100, 4)\n",
            "Columnas: ['numero_de_cliente', 'foto_mes', 'clase_ternaria', 'fold']\n",
            "\n",
            "Primeras filas:\n",
            "shape: (10, 4)\n",
            "┌───────────────────┬──────────┬────────────────┬──────┐\n",
            "│ numero_de_cliente ┆ foto_mes ┆ clase_ternaria ┆ fold │\n",
            "│ ---               ┆ ---      ┆ ---            ┆ ---  │\n",
            "│ i64               ┆ i64      ┆ str            ┆ i64  │\n",
            "╞═══════════════════╪══════════╪════════════════╪══════╡\n",
            "│ 1                 ┆ 202104   ┆ CONTINUA       ┆ 2    │\n",
            "│ 2                 ┆ 202104   ┆ CONTINUA       ┆ 2    │\n",
            "│ 3                 ┆ 202104   ┆ CONTINUA       ┆ 2    │\n",
            "│ 4                 ┆ 202104   ┆ CONTINUA       ┆ 2    │\n",
            "│ 5                 ┆ 202104   ┆ CONTINUA       ┆ 2    │\n",
            "│ 6                 ┆ 202104   ┆ CONTINUA       ┆ 1    │\n",
            "│ 7                 ┆ 202104   ┆ CONTINUA       ┆ 1    │\n",
            "│ 8                 ┆ 202104   ┆ CONTINUA       ┆ 2    │\n",
            "│ 9                 ┆ 202104   ┆ CONTINUA       ┆ 2    │\n",
            "│ 10                ┆ 202104   ┆ CONTINUA       ┆ 1    │\n",
            "└───────────────────┴──────────┴────────────────┴──────┘\n",
            "\n",
            "Conteo por fold:\n",
            "shape: (2, 2)\n",
            "┌──────┬───────┐\n",
            "│ fold ┆ count │\n",
            "│ ---  ┆ ---   │\n",
            "│ i64  ┆ u32   │\n",
            "╞══════╪═══════╡\n",
            "│ 2    ┆ 70    │\n",
            "│ 1    ┆ 30    │\n",
            "└──────┴───────┘\n",
            "\n",
            "Verificación estratificación en realidad:\n",
            "Clase CONTINUA: shape: (2, 2)\n",
            "┌──────┬───────┐\n",
            "│ fold ┆ count │\n",
            "│ ---  ┆ ---   │\n",
            "│ i64  ┆ u32   │\n",
            "╞══════╪═══════╡\n",
            "│ 1    ┆ 24    │\n",
            "│ 2    ┆ 56    │\n",
            "└──────┴───────┘\n",
            "Clase BAJA+1: shape: (2, 2)\n",
            "┌──────┬───────┐\n",
            "│ fold ┆ count │\n",
            "│ ---  ┆ ---   │\n",
            "│ i64  ┆ u32   │\n",
            "╞══════╪═══════╡\n",
            "│ 2    ┆ 10    │\n",
            "│ 1    ┆ 5     │\n",
            "└──────┴───────┘\n",
            "Clase BAJA+2: shape: (2, 2)\n",
            "┌──────┬───────┐\n",
            "│ fold ┆ count │\n",
            "│ ---  ┆ ---   │\n",
            "│ i64  ┆ u32   │\n",
            "╞══════╪═══════╡\n",
            "│ 1    ┆ 1     │\n",
            "│ 2    ┆ 4     │\n",
            "└──────┴───────┘\n"
          ]
        }
      ],
      "source": [
        "def test_particionar_y_realidad():\n",
        "    \"\"\"\n",
        "    Función de prueba para verificar que ambas funciones trabajen correctamente\n",
        "    \"\"\"\n",
        "    print(\"=== Probando función particionar ===\")\n",
        "    \n",
        "    # Crear datos de ejemplo\n",
        "    df_test = pl.DataFrame({\n",
        "        \"id\": range(1, 21),\n",
        "        \"clase_ternaria\": [\"A\"] * 10 + [\"B\"] * 10\n",
        "    })\n",
        "    \n",
        "    # Test 1: Partición básica\n",
        "    df_particionado = particionar(\n",
        "        data=df_test, \n",
        "        division=[70, 30], \n",
        "        agrupa=\"clase_ternaria\", \n",
        "        seed=123\n",
        "    )\n",
        "    \n",
        "    print(\"Resultado partición 70/30:\")\n",
        "    print(df_particionado.sort([\"clase_ternaria\", \"fold\"]))\n",
        "    print(\"\\nConteo por fold:\")\n",
        "    print(df_particionado['fold'].value_counts())\n",
        "    \n",
        "    # Test 2: Verificar estratificación\n",
        "    print(\"\\nVerificación estratificación:\")\n",
        "    for clase in [\"A\", \"B\"]:\n",
        "        subset = df_particionado.filter(pl.col(\"clase_ternaria\") == clase)\n",
        "        counts = subset['fold'].value_counts()\n",
        "        print(f\"Clase {clase}: {counts}\")\n",
        "    \n",
        "    print(\"\\n=== Probando función realidad_inicializar ===\")\n",
        "    \n",
        "    # Crear datos simulando el futuro\n",
        "    df_future = pl.DataFrame({\n",
        "        \"numero_de_cliente\": range(1, 101),\n",
        "        \"foto_mes\": [202104] * 100,  # Mes del futuro\n",
        "        \"clase_ternaria\": [\"CONTINUA\"] * 80 + [\"BAJA+1\"] * 15 + [\"BAJA+2\"] * 5,\n",
        "        \"otra_columna\": range(101, 201)  # Columna extra que no debe aparecer\n",
        "    })\n",
        "    \n",
        "    # Parámetros de prueba\n",
        "    param_test = {\n",
        "        \"semilla_kaggle\": 314159\n",
        "    }\n",
        "    \n",
        "    # Inicializar realidad\n",
        "    drealidad = realidad_inicializar(df_future, param_test)\n",
        "    \n",
        "    print(\"Dataset de realidad inicializado:\")\n",
        "    print(f\"Shape: {drealidad.shape}\")\n",
        "    print(f\"Columnas: {drealidad.columns}\")\n",
        "    print(\"\\nPrimeras filas:\")\n",
        "    print(drealidad.head(10))\n",
        "    \n",
        "    print(\"\\nConteo por fold:\")\n",
        "    print(drealidad['fold'].value_counts())\n",
        "    \n",
        "    print(\"\\nVerificación estratificación en realidad:\")\n",
        "    for clase in [\"CONTINUA\", \"BAJA+1\", \"BAJA+2\"]:\n",
        "        subset = drealidad.filter(pl.col(\"clase_ternaria\") == clase)\n",
        "        if len(subset) > 0:\n",
        "            counts = subset['fold'].value_counts()\n",
        "            print(f\"Clase {clase}: {counts}\")\n",
        "    \n",
        "    return df_particionado, drealidad\n",
        "\n",
        "# Ejecutar las pruebas\n",
        "df_particionado, drealidad = test_particionar_y_realidad()"
      ]
    },
    {
      "cell_type": "code",
      "execution_count": 17,
      "metadata": {
        "id": "6aVLFlEbmM3s"
      },
      "outputs": [],
      "source": [
        "# Evalúa la ganancia en los datos de la realidad usando polars\n",
        "\n",
        "def realidad_evaluar(prealidad: pl.DataFrame, pprediccion: pl.DataFrame) -> dict:\n",
        "    \"\"\"\n",
        "    Evalúa la ganancia en los datos de la realidad.\n",
        "    Replica la función R realidad_evaluar().\n",
        "    \n",
        "    Args:\n",
        "        prealidad: DataFrame con la realidad (debe tener columnas: numero_de_cliente, foto_mes, fold, clase_ternaria)\n",
        "        pprediccion: DataFrame con las predicciones (debe tener columnas: numero_de_cliente, foto_mes, Predicted)\n",
        "    \n",
        "    Returns:\n",
        "        dict: Diccionario con las ganancias 'public', 'private' y 'total'\n",
        "    \"\"\"\n",
        "    # Join de la realidad con las predicciones (equivalente a prealidad[pprediccion, on=...])\n",
        "    df_joined = prealidad.join(\n",
        "        pprediccion.select([\"numero_de_cliente\", \"foto_mes\", \"Predicted\"]),\n",
        "        on=[\"numero_de_cliente\", \"foto_mes\"],\n",
        "        how=\"left\"\n",
        "    )\n",
        "    \n",
        "    # Agrupar por fold, predicted, clase_ternaria y contar (equivalente a tbl <- prealidad[, list(\"qty\"=.N), list(fold, predicted, clase_ternaria)])\n",
        "    tbl = (\n",
        "        df_joined\n",
        "        .group_by([\"fold\", \"Predicted\", \"clase_ternaria\"])\n",
        "        .agg(pl.len().alias(\"qty\"))\n",
        "    )\n",
        "    \n",
        "    # Calcular ganancia por registro\n",
        "    tbl = tbl.with_columns(\n",
        "        pl.when(pl.col(\"clase_ternaria\") == \"BAJA+2\")\n",
        "        .then(pl.col(\"qty\") * 780000)\n",
        "        .otherwise(pl.col(\"qty\") * -20000)\n",
        "        .alias(\"ganancia\")\n",
        "    )\n",
        "    \n",
        "    # Calcular métricas\n",
        "    res = {}\n",
        "    \n",
        "    # Ganancia pública: fold==1 y predicted==1, dividido por 0.3\n",
        "    public_ganancia = (\n",
        "        tbl.filter((pl.col(\"fold\") == 1) & (pl.col(\"Predicted\") == 1))\n",
        "        .select(pl.col(\"ganancia\").sum())\n",
        "        .item()\n",
        "    )\n",
        "    res[\"public\"] = public_ganancia / 0.3 if public_ganancia is not None else 0\n",
        "    \n",
        "    # Ganancia privada: fold==2 y predicted==1, dividido por 0.7\n",
        "    private_ganancia = (\n",
        "        tbl.filter((pl.col(\"fold\") == 2) & (pl.col(\"Predicted\") == 1))\n",
        "        .select(pl.col(\"ganancia\").sum())\n",
        "        .item()\n",
        "    )\n",
        "    res[\"private\"] = private_ganancia / 0.7 if private_ganancia is not None else 0\n",
        "    \n",
        "    # Ganancia total: predicted==1\n",
        "    total_ganancia = (\n",
        "        tbl.filter(pl.col(\"Predicted\") == 1)\n",
        "        .select(pl.col(\"ganancia\").sum())\n",
        "        .item()\n",
        "    )\n",
        "    res[\"total\"] = total_ganancia if total_ganancia is not None else 0\n",
        "    \n",
        "    return res"
      ]
    },
    {
      "cell_type": "code",
      "execution_count": 18,
      "metadata": {},
      "outputs": [
        {
          "name": "stdout",
          "output_type": "stream",
          "text": [
            "=== Probando función realidad_evaluar ===\n",
            "Datos de realidad:\n",
            "Total registros: 100\n",
            "Distribución por fold:\n",
            "shape: (2, 2)\n",
            "┌──────┬───────┐\n",
            "│ fold ┆ count │\n",
            "│ ---  ┆ ---   │\n",
            "│ i64  ┆ u32   │\n",
            "╞══════╪═══════╡\n",
            "│ 1    ┆ 30    │\n",
            "│ 2    ┆ 70    │\n",
            "└──────┴───────┘\n",
            "Distribución por clase:\n",
            "shape: (3, 2)\n",
            "┌────────────────┬───────┐\n",
            "│ clase_ternaria ┆ count │\n",
            "│ ---            ┆ ---   │\n",
            "│ str            ┆ u32   │\n",
            "╞════════════════╪═══════╡\n",
            "│ BAJA+2         ┆ 5     │\n",
            "│ BAJA+1         ┆ 15    │\n",
            "│ CONTINUA       ┆ 80    │\n",
            "└────────────────┴───────┘\n",
            "\n",
            "Predicciones:\n",
            "Clientes seleccionados: 10\n",
            "shape: (10, 3)\n",
            "┌───────────────────┬──────────┬───────────┐\n",
            "│ numero_de_cliente ┆ foto_mes ┆ Predicted │\n",
            "│ ---               ┆ ---      ┆ ---       │\n",
            "│ i64               ┆ i64      ┆ i64       │\n",
            "╞═══════════════════╪══════════╪═══════════╡\n",
            "│ 1                 ┆ 202104   ┆ 1         │\n",
            "│ 5                 ┆ 202104   ┆ 1         │\n",
            "│ 10                ┆ 202104   ┆ 1         │\n",
            "│ 15                ┆ 202104   ┆ 1         │\n",
            "│ 20                ┆ 202104   ┆ 1         │\n",
            "│ 25                ┆ 202104   ┆ 1         │\n",
            "│ 30                ┆ 202104   ┆ 1         │\n",
            "│ 35                ┆ 202104   ┆ 1         │\n",
            "│ 40                ┆ 202104   ┆ 1         │\n",
            "│ 45                ┆ 202104   ┆ 1         │\n",
            "└───────────────────┴──────────┴───────────┘\n",
            "\n",
            "=== Resultados de ganancia ===\n",
            "Ganancia Pública (fold=1): -466,667\n",
            "Ganancia Privada (fold=2): -85,714\n",
            "Ganancia Total: -200,000\n",
            "\n",
            "=== Verificación manual ===\n",
            "Clientes seleccionados con sus clases:\n",
            "shape: (10, 3)\n",
            "┌───────────────────┬──────┬────────────────┐\n",
            "│ numero_de_cliente ┆ fold ┆ clase_ternaria │\n",
            "│ ---               ┆ ---  ┆ ---            │\n",
            "│ i64               ┆ i64  ┆ str            │\n",
            "╞═══════════════════╪══════╪════════════════╡\n",
            "│ 1                 ┆ 1    ┆ CONTINUA       │\n",
            "│ 5                 ┆ 1    ┆ CONTINUA       │\n",
            "│ 10                ┆ 1    ┆ CONTINUA       │\n",
            "│ 15                ┆ 1    ┆ CONTINUA       │\n",
            "│ 20                ┆ 1    ┆ CONTINUA       │\n",
            "│ 25                ┆ 1    ┆ CONTINUA       │\n",
            "│ 30                ┆ 1    ┆ CONTINUA       │\n",
            "│ 35                ┆ 2    ┆ CONTINUA       │\n",
            "│ 40                ┆ 2    ┆ CONTINUA       │\n",
            "│ 45                ┆ 2    ┆ CONTINUA       │\n",
            "└───────────────────┴──────┴────────────────┘\n",
            "\n",
            "Ganancia manual total: -200,000\n",
            "Coincide con función: True\n"
          ]
        }
      ],
      "source": [
        "def test_realidad_evaluar():\n",
        "    \"\"\"\n",
        "    Función de prueba para verificar que realidad_evaluar funcione correctamente\n",
        "    \"\"\"\n",
        "    print(\"=== Probando función realidad_evaluar ===\")\n",
        "    \n",
        "    # Crear datos de realidad simulados\n",
        "    drealidad = pl.DataFrame({\n",
        "        \"numero_de_cliente\": list(range(1, 101)),\n",
        "        \"foto_mes\": [202104] * 100,\n",
        "        \"fold\": [1] * 30 + [2] * 70,  # 30% público, 70% privado\n",
        "        \"clase_ternaria\": [\"CONTINUA\"] * 80 + [\"BAJA+1\"] * 15 + [\"BAJA+2\"] * 5\n",
        "    })\n",
        "    \n",
        "    # Crear predicciones simuladas (algunos clientes seleccionados)\n",
        "    pprediccion = pl.DataFrame({\n",
        "        \"numero_de_cliente\": [1, 5, 10, 15, 20, 25, 30, 35, 40, 45],  # 10 clientes seleccionados\n",
        "        \"foto_mes\": [202104] * 10,\n",
        "        \"Predicted\": [1] * 10  # Todos predichos como BAJA\n",
        "    })\n",
        "    \n",
        "    print(\"Datos de realidad:\")\n",
        "    print(f\"Total registros: {drealidad.height}\")\n",
        "    print(\"Distribución por fold:\")\n",
        "    print(drealidad['fold'].value_counts())\n",
        "    print(\"Distribución por clase:\")\n",
        "    print(drealidad['clase_ternaria'].value_counts())\n",
        "    \n",
        "    print(\"\\nPredicciones:\")\n",
        "    print(f\"Clientes seleccionados: {pprediccion.height}\")\n",
        "    print(pprediccion)\n",
        "    \n",
        "    # Evaluar ganancia\n",
        "    resultado = realidad_evaluar(drealidad, pprediccion)\n",
        "    \n",
        "    print(\"\\n=== Resultados de ganancia ===\")\n",
        "    print(f\"Ganancia Pública (fold=1): {resultado['public']:,.0f}\")\n",
        "    print(f\"Ganancia Privada (fold=2): {resultado['private']:,.0f}\")\n",
        "    print(f\"Ganancia Total: {resultado['total']:,.0f}\")\n",
        "    \n",
        "    # Verificar manualmente algunos cálculos\n",
        "    print(\"\\n=== Verificación manual ===\")\n",
        "    \n",
        "    # Join para ver qué clientes fueron seleccionados y sus clases\n",
        "    df_joined = drealidad.join(\n",
        "        pprediccion.select([\"numero_de_cliente\", \"Predicted\"]),\n",
        "        on=[\"numero_de_cliente\"],\n",
        "        how=\"inner\"\n",
        "    )\n",
        "    \n",
        "    print(\"Clientes seleccionados con sus clases:\")\n",
        "    print(df_joined.select([\"numero_de_cliente\", \"fold\", \"clase_ternaria\"]))\n",
        "    \n",
        "    # Calcular ganancia manual\n",
        "    ganancia_manual = 0\n",
        "    for row in df_joined.iter_rows(named=True):\n",
        "        if row[\"clase_ternaria\"] == \"BAJA+2\":\n",
        "            ganancia_manual += 780000\n",
        "        else:\n",
        "            ganancia_manual += -20000\n",
        "    \n",
        "    print(f\"\\nGanancia manual total: {ganancia_manual:,.0f}\")\n",
        "    print(f\"Coincide con función: {abs(ganancia_manual - resultado['total']) < 1}\")\n",
        "    \n",
        "    return resultado\n",
        "\n",
        "# Ejecutar la prueba\n",
        "resultado = test_realidad_evaluar()"
      ]
    },
    {
      "cell_type": "markdown",
      "metadata": {
        "id": "4RWZXL1VZjMI"
      },
      "source": [
        "### Preprocesamiento"
      ]
    },
    {
      "cell_type": "code",
      "execution_count": null,
      "metadata": {
        "id": "j3toG9-lZm4K"
      },
      "outputs": [],
      "source": [
        "# carpeta de trabajo\n",
        "\n",
        "# Definir la carpeta de trabajo y crearla si no existe\n",
        "base_path = \"exp\"\n",
        "experimento_folder = f\"HT{PARAM['experimento']}\"\n",
        "experimento_path = os.path.join(base_path, experimento_folder)\n",
        "\n",
        "# Crear la carpeta del experimento si no existe\n",
        "os.makedirs(experimento_path, exist_ok=True)"
      ]
    },
    {
      "cell_type": "code",
      "execution_count": null,
      "metadata": {
        "id": "FM3lxKoLZ643"
      },
      "outputs": [
        {
          "data": {
            "text/html": [
              "<div><style>\n",
              ".dataframe > thead > tr,\n",
              ".dataframe > tbody > tr {\n",
              "  text-align: right;\n",
              "  white-space: pre-wrap;\n",
              "}\n",
              "</style>\n",
              "<small>shape: (5, 155)</small><table border=\"1\" class=\"dataframe\"><thead><tr><th>numero_de_cliente</th><th>foto_mes</th><th>active_quarter</th><th>cliente_vip</th><th>internet</th><th>cliente_edad</th><th>cliente_antiguedad</th><th>mrentabilidad</th><th>mrentabilidad_annual</th><th>mcomisiones</th><th>mactivos_margen</th><th>mpasivos_margen</th><th>cproductos</th><th>tcuentas</th><th>ccuenta_corriente</th><th>mcuenta_corriente_adicional</th><th>mcuenta_corriente</th><th>ccaja_ahorro</th><th>mcaja_ahorro</th><th>mcaja_ahorro_adicional</th><th>mcaja_ahorro_dolares</th><th>cdescubierto_preacordado</th><th>mcuentas_saldo</th><th>ctarjeta_debito</th><th>ctarjeta_debito_transacciones</th><th>mautoservicio</th><th>ctarjeta_visa</th><th>ctarjeta_visa_transacciones</th><th>mtarjeta_visa_consumo</th><th>ctarjeta_master</th><th>ctarjeta_master_transacciones</th><th>mtarjeta_master_consumo</th><th>cprestamos_personales</th><th>mprestamos_personales</th><th>cprestamos_prendarios</th><th>mprestamos_prendarios</th><th>cprestamos_hipotecarios</th><th>&hellip;</th><th>Master_mconsumospesos</th><th>Master_mconsumosdolares</th><th>Master_mlimitecompra</th><th>Master_madelantopesos</th><th>Master_madelantodolares</th><th>Master_fultimo_cierre</th><th>Master_mpagado</th><th>Master_mpagospesos</th><th>Master_mpagosdolares</th><th>Master_fechaalta</th><th>Master_mconsumototal</th><th>Master_cconsumos</th><th>Master_cadelantosefectivo</th><th>Master_mpagominimo</th><th>Visa_delinquency</th><th>Visa_status</th><th>Visa_mfinanciacion_limite</th><th>Visa_Fvencimiento</th><th>Visa_Finiciomora</th><th>Visa_msaldototal</th><th>Visa_msaldopesos</th><th>Visa_msaldodolares</th><th>Visa_mconsumospesos</th><th>Visa_mconsumosdolares</th><th>Visa_mlimitecompra</th><th>Visa_madelantopesos</th><th>Visa_madelantodolares</th><th>Visa_fultimo_cierre</th><th>Visa_mpagado</th><th>Visa_mpagospesos</th><th>Visa_mpagosdolares</th><th>Visa_fechaalta</th><th>Visa_mconsumototal</th><th>Visa_cconsumos</th><th>Visa_cadelantosefectivo</th><th>Visa_mpagominimo</th><th>clase_ternaria</th></tr><tr><td>i64</td><td>i64</td><td>i64</td><td>i64</td><td>i64</td><td>i64</td><td>i64</td><td>f64</td><td>f64</td><td>f64</td><td>f64</td><td>f64</td><td>i64</td><td>i64</td><td>i64</td><td>f64</td><td>f64</td><td>i64</td><td>f64</td><td>f64</td><td>f64</td><td>i64</td><td>f64</td><td>i64</td><td>i64</td><td>f64</td><td>i64</td><td>i64</td><td>f64</td><td>i64</td><td>i64</td><td>f64</td><td>i64</td><td>f64</td><td>i64</td><td>f64</td><td>i64</td><td>&hellip;</td><td>f64</td><td>f64</td><td>f64</td><td>f64</td><td>f64</td><td>i64</td><td>f64</td><td>f64</td><td>f64</td><td>i64</td><td>f64</td><td>i64</td><td>i64</td><td>f64</td><td>i64</td><td>i64</td><td>f64</td><td>i64</td><td>i64</td><td>f64</td><td>f64</td><td>f64</td><td>f64</td><td>f64</td><td>f64</td><td>f64</td><td>f64</td><td>i64</td><td>f64</td><td>f64</td><td>f64</td><td>i64</td><td>f64</td><td>i64</td><td>i64</td><td>f64</td><td>str</td></tr></thead><tbody><tr><td>249221323</td><td>202101</td><td>1</td><td>0</td><td>0</td><td>46</td><td>93</td><td>3070.24</td><td>15691.1</td><td>1278.11</td><td>890.96</td><td>636.86</td><td>8</td><td>1</td><td>1</td><td>0.0</td><td>-314.48</td><td>2</td><td>25761.53</td><td>0.0</td><td>10240.09</td><td>1</td><td>22890.77</td><td>1</td><td>5</td><td>35013.67</td><td>1</td><td>10</td><td>15929.92</td><td>1</td><td>13</td><td>27145.02</td><td>0</td><td>0.0</td><td>0</td><td>0.0</td><td>0</td><td>&hellip;</td><td>10853.35</td><td>58.6</td><td>70380.0</td><td>0.0</td><td>0.0</td><td>4</td><td>0.0</td><td>-10385.48</td><td>0.0</td><td>2814</td><td>10853.35</td><td>7</td><td>0</td><td>9290.16</td><td>0</td><td>0</td><td>63342.0</td><td>-849</td><td>null</td><td>43251.02</td><td>50733.44</td><td>0.0</td><td>6743.38</td><td>1.36</td><td>70380.0</td><td>0.0</td><td>0.0</td><td>4</td><td>0.0</td><td>-20833.47</td><td>0.0</td><td>2814</td><td>6743.38</td><td>6</td><td>0</td><td>9559.95</td><td>&quot;CONTINUA&quot;</td></tr><tr><td>249221323</td><td>202102</td><td>1</td><td>0</td><td>0</td><td>46</td><td>94</td><td>3385.85</td><td>19103.66</td><td>1230.47</td><td>1631.3</td><td>206.19</td><td>8</td><td>1</td><td>1</td><td>0.0</td><td>0.0</td><td>2</td><td>8116.43</td><td>0.0</td><td>10536.47</td><td>1</td><td>10629.59</td><td>1</td><td>1</td><td>2315.5</td><td>1</td><td>11</td><td>17285.39</td><td>1</td><td>22</td><td>25713.45</td><td>0</td><td>0.0</td><td>0</td><td>0.0</td><td>0</td><td>&hellip;</td><td>10910.41</td><td>56.8</td><td>70380.0</td><td>0.0</td><td>0.0</td><td>-3</td><td>42765.48</td><td>-42426.83</td><td>59.3</td><td>2842</td><td>10910.41</td><td>17</td><td>0</td><td>8539.44</td><td>0</td><td>0</td><td>63342.0</td><td>-821</td><td>null</td><td>19687.47</td><td>23093.4</td><td>0.0</td><td>7715.26</td><td>1.77</td><td>70380.0</td><td>0.0</td><td>0.0</td><td>-3</td><td>50733.44</td><td>-50733.44</td><td>0.0</td><td>2842</td><td>7715.26</td><td>8</td><td>0</td><td>7413.36</td><td>&quot;CONTINUA&quot;</td></tr><tr><td>249221323</td><td>202103</td><td>1</td><td>0</td><td>0</td><td>46</td><td>95</td><td>5341.18</td><td>24020.21</td><td>755.85</td><td>2768.95</td><td>1140.11</td><td>8</td><td>1</td><td>1</td><td>0.0</td><td>-3933.18</td><td>2</td><td>4015.77</td><td>0.0</td><td>10789.84</td><td>1</td><td>4650.31</td><td>1</td><td>0</td><td>0.0</td><td>1</td><td>10</td><td>18976.09</td><td>1</td><td>16</td><td>45821.57</td><td>0</td><td>0.0</td><td>0</td><td>0.0</td><td>0</td><td>&hellip;</td><td>30992.11</td><td>39.83</td><td>70380.0</td><td>0.0</td><td>0.0</td><td>1</td><td>0.0</td><td>-42534.65</td><td>57.48</td><td>2873</td><td>30992.11</td><td>11</td><td>0</td><td>0.0</td><td>0</td><td>0</td><td>63342.0</td><td>-790</td><td>null</td><td>-2453.06</td><td>-2877.43</td><td>0.0</td><td>10703.0</td><td>1.53</td><td>70380.0</td><td>0.0</td><td>0.0</td><td>1</td><td>0.0</td><td>-50733.44</td><td>0.0</td><td>2873</td><td>10703.0</td><td>7</td><td>0</td><td>0.0</td><td>&quot;CONTINUA&quot;</td></tr><tr><td>249221323</td><td>202104</td><td>1</td><td>0</td><td>0</td><td>46</td><td>96</td><td>5356.62</td><td>29189.81</td><td>1470.2</td><td>2627.7</td><td>685.53</td><td>8</td><td>1</td><td>1</td><td>0.0</td><td>-1960.57</td><td>2</td><td>2136.11</td><td>0.0</td><td>10974.0</td><td>1</td><td>9358.46</td><td>1</td><td>0</td><td>0.0</td><td>1</td><td>10</td><td>19201.77</td><td>1</td><td>18</td><td>17373.08</td><td>0</td><td>0.0</td><td>0</td><td>0.0</td><td>0</td><td>&hellip;</td><td>10360.48</td><td>49.19</td><td>70380.0</td><td>0.0</td><td>0.0</td><td>2</td><td>0.0</td><td>-42579.46</td><td>40.31</td><td>2903</td><td>10360.48</td><td>14</td><td>0</td><td>4821.03</td><td>0</td><td>0</td><td>63342.0</td><td>-760</td><td>null</td><td>14545.66</td><td>17062.05</td><td>0.0</td><td>8094.73</td><td>1.51</td><td>70380.0</td><td>0.0</td><td>0.0</td><td>2</td><td>0.0</td><td>0.0</td><td>0.0</td><td>2903</td><td>8094.73</td><td>6</td><td>0</td><td>0.0</td><td>&quot;CONTINUA&quot;</td></tr><tr><td>249221323</td><td>202105</td><td>1</td><td>0</td><td>0</td><td>46</td><td>97</td><td>2489.25</td><td>31505.78</td><td>1008.8</td><td>952.16</td><td>309.95</td><td>8</td><td>1</td><td>1</td><td>0.0</td><td>-263.5</td><td>2</td><td>6204.56</td><td>0.0</td><td>11106.55</td><td>1</td><td>13240.63</td><td>1</td><td>1</td><td>2216.97</td><td>1</td><td>9</td><td>19278.3</td><td>1</td><td>14</td><td>16708.69</td><td>0</td><td>0.0</td><td>0</td><td>0.0</td><td>0</td><td>&hellip;</td><td>7293.92</td><td>43.34</td><td>70380.0</td><td>0.0</td><td>0.0</td><td>5</td><td>0.0</td><td>-21115.45</td><td>49.78</td><td>2934</td><td>7293.92</td><td>10</td><td>0</td><td>4586.43</td><td>0</td><td>0</td><td>63342.0</td><td>-729</td><td>null</td><td>17064.74</td><td>20016.94</td><td>0.0</td><td>9051.98</td><td>1.48</td><td>70380.0</td><td>0.0</td><td>0.0</td><td>5</td><td>0.0</td><td>-17062.05</td><td>0.0</td><td>2934</td><td>9051.98</td><td>6</td><td>0</td><td>2111.4</td><td>null</td></tr></tbody></table></div>"
            ],
            "text/plain": [
              "shape: (5, 155)\n",
              "┌───────────┬──────────┬───────────┬───────────┬───┬───────────┬───────────┬───────────┬───────────┐\n",
              "│ numero_de ┆ foto_mes ┆ active_qu ┆ cliente_v ┆ … ┆ Visa_ccon ┆ Visa_cade ┆ Visa_mpag ┆ clase_ter │\n",
              "│ _cliente  ┆ ---      ┆ arter     ┆ ip        ┆   ┆ sumos     ┆ lantosefe ┆ ominimo   ┆ naria     │\n",
              "│ ---       ┆ i64      ┆ ---       ┆ ---       ┆   ┆ ---       ┆ ctivo     ┆ ---       ┆ ---       │\n",
              "│ i64       ┆          ┆ i64       ┆ i64       ┆   ┆ i64       ┆ ---       ┆ f64       ┆ str       │\n",
              "│           ┆          ┆           ┆           ┆   ┆           ┆ i64       ┆           ┆           │\n",
              "╞═══════════╪══════════╪═══════════╪═══════════╪═══╪═══════════╪═══════════╪═══════════╪═══════════╡\n",
              "│ 249221323 ┆ 202101   ┆ 1         ┆ 0         ┆ … ┆ 6         ┆ 0         ┆ 9559.95   ┆ CONTINUA  │\n",
              "│ 249221323 ┆ 202102   ┆ 1         ┆ 0         ┆ … ┆ 8         ┆ 0         ┆ 7413.36   ┆ CONTINUA  │\n",
              "│ 249221323 ┆ 202103   ┆ 1         ┆ 0         ┆ … ┆ 7         ┆ 0         ┆ 0.0       ┆ CONTINUA  │\n",
              "│ 249221323 ┆ 202104   ┆ 1         ┆ 0         ┆ … ┆ 6         ┆ 0         ┆ 0.0       ┆ CONTINUA  │\n",
              "│ 249221323 ┆ 202105   ┆ 1         ┆ 0         ┆ … ┆ 6         ┆ 0         ┆ 2111.4    ┆ null      │\n",
              "└───────────┴──────────┴───────────┴───────────┴───┴───────────┴───────────┴───────────┴───────────┘"
            ]
          },
          "execution_count": 20,
          "metadata": {},
          "output_type": "execute_result"
        }
      ],
      "source": [
        "# Lectura del dataset\n",
        "dataset = pl.read_csv(\"datasets/competencia_01.csv.gz\", infer_schema_length=100000)\n",
        "dataset.head()"
      ]
    },
    {
      "cell_type": "code",
      "execution_count": 21,
      "metadata": {},
      "outputs": [],
      "source": [
        "#dataset = dataset.group_by(\"clase_ternaria\", maintain_order=True).map_groups(lambda group: group.sample(fraction=0.1, seed=42))"
      ]
    },
    {
      "cell_type": "code",
      "execution_count": 22,
      "metadata": {},
      "outputs": [
        {
          "data": {
            "text/plain": [
              "(978439, 155)"
            ]
          },
          "execution_count": 22,
          "metadata": {},
          "output_type": "execute_result"
        }
      ],
      "source": [
        "dataset.shape"
      ]
    },
    {
      "cell_type": "code",
      "execution_count": 23,
      "metadata": {},
      "outputs": [
        {
          "data": {
            "text/html": [
              "<div><style>\n",
              ".dataframe > thead > tr,\n",
              ".dataframe > tbody > tr {\n",
              "  text-align: right;\n",
              "  white-space: pre-wrap;\n",
              "}\n",
              "</style>\n",
              "<small>shape: (5, 155)</small><table border=\"1\" class=\"dataframe\"><thead><tr><th>numero_de_cliente</th><th>foto_mes</th><th>active_quarter</th><th>cliente_vip</th><th>internet</th><th>cliente_edad</th><th>cliente_antiguedad</th><th>mrentabilidad</th><th>mrentabilidad_annual</th><th>mcomisiones</th><th>mactivos_margen</th><th>mpasivos_margen</th><th>cproductos</th><th>tcuentas</th><th>ccuenta_corriente</th><th>mcuenta_corriente_adicional</th><th>mcuenta_corriente</th><th>ccaja_ahorro</th><th>mcaja_ahorro</th><th>mcaja_ahorro_adicional</th><th>mcaja_ahorro_dolares</th><th>cdescubierto_preacordado</th><th>mcuentas_saldo</th><th>ctarjeta_debito</th><th>ctarjeta_debito_transacciones</th><th>mautoservicio</th><th>ctarjeta_visa</th><th>ctarjeta_visa_transacciones</th><th>mtarjeta_visa_consumo</th><th>ctarjeta_master</th><th>ctarjeta_master_transacciones</th><th>mtarjeta_master_consumo</th><th>cprestamos_personales</th><th>mprestamos_personales</th><th>cprestamos_prendarios</th><th>mprestamos_prendarios</th><th>cprestamos_hipotecarios</th><th>&hellip;</th><th>Master_mconsumospesos</th><th>Master_mconsumosdolares</th><th>Master_mlimitecompra</th><th>Master_madelantopesos</th><th>Master_madelantodolares</th><th>Master_fultimo_cierre</th><th>Master_mpagado</th><th>Master_mpagospesos</th><th>Master_mpagosdolares</th><th>Master_fechaalta</th><th>Master_mconsumototal</th><th>Master_cconsumos</th><th>Master_cadelantosefectivo</th><th>Master_mpagominimo</th><th>Visa_delinquency</th><th>Visa_status</th><th>Visa_mfinanciacion_limite</th><th>Visa_Fvencimiento</th><th>Visa_Finiciomora</th><th>Visa_msaldototal</th><th>Visa_msaldopesos</th><th>Visa_msaldodolares</th><th>Visa_mconsumospesos</th><th>Visa_mconsumosdolares</th><th>Visa_mlimitecompra</th><th>Visa_madelantopesos</th><th>Visa_madelantodolares</th><th>Visa_fultimo_cierre</th><th>Visa_mpagado</th><th>Visa_mpagospesos</th><th>Visa_mpagosdolares</th><th>Visa_fechaalta</th><th>Visa_mconsumototal</th><th>Visa_cconsumos</th><th>Visa_cadelantosefectivo</th><th>Visa_mpagominimo</th><th>clase_ternaria</th></tr><tr><td>i64</td><td>i64</td><td>i64</td><td>i64</td><td>i64</td><td>i64</td><td>i64</td><td>f64</td><td>f64</td><td>f64</td><td>f64</td><td>f64</td><td>i64</td><td>i64</td><td>i64</td><td>f64</td><td>f64</td><td>i64</td><td>f64</td><td>f64</td><td>f64</td><td>i64</td><td>f64</td><td>i64</td><td>i64</td><td>f64</td><td>i64</td><td>i64</td><td>f64</td><td>i64</td><td>i64</td><td>f64</td><td>i64</td><td>f64</td><td>i64</td><td>f64</td><td>i64</td><td>&hellip;</td><td>f64</td><td>f64</td><td>f64</td><td>f64</td><td>f64</td><td>i64</td><td>f64</td><td>f64</td><td>f64</td><td>i64</td><td>f64</td><td>i64</td><td>i64</td><td>f64</td><td>i64</td><td>i64</td><td>f64</td><td>i64</td><td>i64</td><td>f64</td><td>f64</td><td>f64</td><td>f64</td><td>f64</td><td>f64</td><td>f64</td><td>f64</td><td>i64</td><td>f64</td><td>f64</td><td>f64</td><td>i64</td><td>f64</td><td>i64</td><td>i64</td><td>f64</td><td>str</td></tr></thead><tbody><tr><td>249221323</td><td>202101</td><td>1</td><td>0</td><td>0</td><td>46</td><td>93</td><td>3070.24</td><td>15691.1</td><td>1278.11</td><td>890.96</td><td>636.86</td><td>8</td><td>1</td><td>1</td><td>0.0</td><td>-314.48</td><td>2</td><td>25761.53</td><td>0.0</td><td>10240.09</td><td>1</td><td>22890.77</td><td>1</td><td>5</td><td>35013.67</td><td>1</td><td>10</td><td>15929.92</td><td>1</td><td>13</td><td>27145.02</td><td>0</td><td>0.0</td><td>0</td><td>0.0</td><td>0</td><td>&hellip;</td><td>10853.35</td><td>58.6</td><td>70380.0</td><td>0.0</td><td>0.0</td><td>4</td><td>0.0</td><td>-10385.48</td><td>0.0</td><td>2814</td><td>10853.35</td><td>7</td><td>0</td><td>9290.16</td><td>0</td><td>0</td><td>63342.0</td><td>-849</td><td>null</td><td>43251.02</td><td>50733.44</td><td>0.0</td><td>6743.38</td><td>1.36</td><td>70380.0</td><td>0.0</td><td>0.0</td><td>4</td><td>0.0</td><td>-20833.47</td><td>0.0</td><td>2814</td><td>6743.38</td><td>6</td><td>0</td><td>9559.95</td><td>&quot;CONTINUA&quot;</td></tr><tr><td>249221323</td><td>202102</td><td>1</td><td>0</td><td>0</td><td>46</td><td>94</td><td>3385.85</td><td>19103.66</td><td>1230.47</td><td>1631.3</td><td>206.19</td><td>8</td><td>1</td><td>1</td><td>0.0</td><td>0.0</td><td>2</td><td>8116.43</td><td>0.0</td><td>10536.47</td><td>1</td><td>10629.59</td><td>1</td><td>1</td><td>2315.5</td><td>1</td><td>11</td><td>17285.39</td><td>1</td><td>22</td><td>25713.45</td><td>0</td><td>0.0</td><td>0</td><td>0.0</td><td>0</td><td>&hellip;</td><td>10910.41</td><td>56.8</td><td>70380.0</td><td>0.0</td><td>0.0</td><td>-3</td><td>42765.48</td><td>-42426.83</td><td>59.3</td><td>2842</td><td>10910.41</td><td>17</td><td>0</td><td>8539.44</td><td>0</td><td>0</td><td>63342.0</td><td>-821</td><td>null</td><td>19687.47</td><td>23093.4</td><td>0.0</td><td>7715.26</td><td>1.77</td><td>70380.0</td><td>0.0</td><td>0.0</td><td>-3</td><td>50733.44</td><td>-50733.44</td><td>0.0</td><td>2842</td><td>7715.26</td><td>8</td><td>0</td><td>7413.36</td><td>&quot;CONTINUA&quot;</td></tr><tr><td>249221323</td><td>202103</td><td>1</td><td>0</td><td>0</td><td>46</td><td>95</td><td>5341.18</td><td>24020.21</td><td>755.85</td><td>2768.95</td><td>1140.11</td><td>8</td><td>1</td><td>1</td><td>0.0</td><td>-3933.18</td><td>2</td><td>4015.77</td><td>0.0</td><td>10789.84</td><td>1</td><td>4650.31</td><td>1</td><td>0</td><td>0.0</td><td>1</td><td>10</td><td>18976.09</td><td>1</td><td>16</td><td>45821.57</td><td>0</td><td>0.0</td><td>0</td><td>0.0</td><td>0</td><td>&hellip;</td><td>30992.11</td><td>39.83</td><td>70380.0</td><td>0.0</td><td>0.0</td><td>1</td><td>0.0</td><td>-42534.65</td><td>57.48</td><td>2873</td><td>30992.11</td><td>11</td><td>0</td><td>0.0</td><td>0</td><td>0</td><td>63342.0</td><td>-790</td><td>null</td><td>-2453.06</td><td>-2877.43</td><td>0.0</td><td>10703.0</td><td>1.53</td><td>70380.0</td><td>0.0</td><td>0.0</td><td>1</td><td>0.0</td><td>-50733.44</td><td>0.0</td><td>2873</td><td>10703.0</td><td>7</td><td>0</td><td>0.0</td><td>&quot;CONTINUA&quot;</td></tr><tr><td>249227600</td><td>202101</td><td>1</td><td>0</td><td>0</td><td>42</td><td>278</td><td>496.21</td><td>15321.8</td><td>418.97</td><td>-1138.55</td><td>1204.4</td><td>9</td><td>1</td><td>1</td><td>0.0</td><td>0.0</td><td>2</td><td>84736.17</td><td>0.0</td><td>30617.86</td><td>1</td><td>157762.37</td><td>1</td><td>19</td><td>20489.02</td><td>1</td><td>11</td><td>13110.17</td><td>1</td><td>0</td><td>0.0</td><td>1</td><td>85831.92</td><td>0</td><td>0.0</td><td>0</td><td>&hellip;</td><td>null</td><td>null</td><td>84456.0</td><td>null</td><td>null</td><td>4</td><td>0.0</td><td>null</td><td>null</td><td>3524</td><td>null</td><td>null</td><td>null</td><td>0.0</td><td>0</td><td>0</td><td>152020.8</td><td>-1063</td><td>null</td><td>11310.74</td><td>13267.49</td><td>0.0</td><td>9419.9</td><td>0.0</td><td>168912.0</td><td>0.0</td><td>0.0</td><td>11</td><td>13267.49</td><td>-9662.51</td><td>0.0</td><td>5541</td><td>9419.9</td><td>8</td><td>0</td><td>1900.26</td><td>&quot;CONTINUA&quot;</td></tr><tr><td>249227600</td><td>202102</td><td>1</td><td>0</td><td>0</td><td>42</td><td>279</td><td>723.9</td><td>14653.52</td><td>274.82</td><td>-819.21</td><td>1202.06</td><td>9</td><td>1</td><td>1</td><td>0.0</td><td>0.0</td><td>2</td><td>95070.92</td><td>0.0</td><td>31504.04</td><td>1</td><td>143863.88</td><td>1</td><td>16</td><td>15232.36</td><td>1</td><td>13</td><td>17372.85</td><td>1</td><td>0</td><td>0.0</td><td>1</td><td>84412.35</td><td>0</td><td>0.0</td><td>0</td><td>&hellip;</td><td>null</td><td>null</td><td>84456.0</td><td>null</td><td>null</td><td>-3</td><td>0.0</td><td>null</td><td>null</td><td>3552</td><td>null</td><td>null</td><td>null</td><td>0.0</td><td>0</td><td>0</td><td>152020.8</td><td>-1035</td><td>null</td><td>14988.35</td><td>17581.33</td><td>0.0</td><td>11947.53</td><td>0.0</td><td>168912.0</td><td>0.0</td><td>0.0</td><td>4</td><td>0.0</td><td>-13267.49</td><td>0.0</td><td>5569</td><td>11947.53</td><td>9</td><td>0</td><td>2228.7</td><td>&quot;CONTINUA&quot;</td></tr></tbody></table></div>"
            ],
            "text/plain": [
              "shape: (5, 155)\n",
              "┌───────────┬──────────┬───────────┬───────────┬───┬───────────┬───────────┬───────────┬───────────┐\n",
              "│ numero_de ┆ foto_mes ┆ active_qu ┆ cliente_v ┆ … ┆ Visa_ccon ┆ Visa_cade ┆ Visa_mpag ┆ clase_ter │\n",
              "│ _cliente  ┆ ---      ┆ arter     ┆ ip        ┆   ┆ sumos     ┆ lantosefe ┆ ominimo   ┆ naria     │\n",
              "│ ---       ┆ i64      ┆ ---       ┆ ---       ┆   ┆ ---       ┆ ctivo     ┆ ---       ┆ ---       │\n",
              "│ i64       ┆          ┆ i64       ┆ i64       ┆   ┆ i64       ┆ ---       ┆ f64       ┆ str       │\n",
              "│           ┆          ┆           ┆           ┆   ┆           ┆ i64       ┆           ┆           │\n",
              "╞═══════════╪══════════╪═══════════╪═══════════╪═══╪═══════════╪═══════════╪═══════════╪═══════════╡\n",
              "│ 249221323 ┆ 202101   ┆ 1         ┆ 0         ┆ … ┆ 6         ┆ 0         ┆ 9559.95   ┆ CONTINUA  │\n",
              "│ 249221323 ┆ 202102   ┆ 1         ┆ 0         ┆ … ┆ 8         ┆ 0         ┆ 7413.36   ┆ CONTINUA  │\n",
              "│ 249221323 ┆ 202103   ┆ 1         ┆ 0         ┆ … ┆ 7         ┆ 0         ┆ 0.0       ┆ CONTINUA  │\n",
              "│ 249227600 ┆ 202101   ┆ 1         ┆ 0         ┆ … ┆ 8         ┆ 0         ┆ 1900.26   ┆ CONTINUA  │\n",
              "│ 249227600 ┆ 202102   ┆ 1         ┆ 0         ┆ … ┆ 9         ┆ 0         ┆ 2228.7    ┆ CONTINUA  │\n",
              "└───────────┴──────────┴───────────┴───────────┴───┴───────────┴───────────┴───────────┴───────────┘"
            ]
          },
          "execution_count": 23,
          "metadata": {},
          "output_type": "execute_result"
        }
      ],
      "source": [
        "dataset_train = dataset.filter(pl.col(\"foto_mes\").is_in(PARAM[\"train\"]))\n",
        "dataset_train.head()"
      ]
    },
    {
      "cell_type": "code",
      "execution_count": 24,
      "metadata": {},
      "outputs": [
        {
          "data": {
            "text/html": [
              "<div><style>\n",
              ".dataframe > thead > tr,\n",
              ".dataframe > tbody > tr {\n",
              "  text-align: right;\n",
              "  white-space: pre-wrap;\n",
              "}\n",
              "</style>\n",
              "<small>shape: (3, 2)</small><table border=\"1\" class=\"dataframe\"><thead><tr><th>foto_mes</th><th>count</th></tr><tr><td>i64</td><td>u32</td></tr></thead><tbody><tr><td>202103</td><td>163109</td></tr><tr><td>202102</td><td>162155</td></tr><tr><td>202101</td><td>161527</td></tr></tbody></table></div>"
            ],
            "text/plain": [
              "shape: (3, 2)\n",
              "┌──────────┬────────┐\n",
              "│ foto_mes ┆ count  │\n",
              "│ ---      ┆ ---    │\n",
              "│ i64      ┆ u32    │\n",
              "╞══════════╪════════╡\n",
              "│ 202103   ┆ 163109 │\n",
              "│ 202102   ┆ 162155 │\n",
              "│ 202101   ┆ 161527 │\n",
              "└──────────┴────────┘"
            ]
          },
          "execution_count": 24,
          "metadata": {},
          "output_type": "execute_result"
        }
      ],
      "source": [
        "dataset_train['foto_mes'].value_counts()"
      ]
    },
    {
      "cell_type": "code",
      "execution_count": 25,
      "metadata": {
        "id": "OsJ-91UeZ-I_"
      },
      "outputs": [
        {
          "data": {
            "text/html": [
              "<div><style>\n",
              ".dataframe > thead > tr,\n",
              ".dataframe > tbody > tr {\n",
              "  text-align: right;\n",
              "  white-space: pre-wrap;\n",
              "}\n",
              "</style>\n",
              "<small>shape: (5, 156)</small><table border=\"1\" class=\"dataframe\"><thead><tr><th>numero_de_cliente</th><th>foto_mes</th><th>active_quarter</th><th>cliente_vip</th><th>internet</th><th>cliente_edad</th><th>cliente_antiguedad</th><th>mrentabilidad</th><th>mrentabilidad_annual</th><th>mcomisiones</th><th>mactivos_margen</th><th>mpasivos_margen</th><th>cproductos</th><th>tcuentas</th><th>ccuenta_corriente</th><th>mcuenta_corriente_adicional</th><th>mcuenta_corriente</th><th>ccaja_ahorro</th><th>mcaja_ahorro</th><th>mcaja_ahorro_adicional</th><th>mcaja_ahorro_dolares</th><th>cdescubierto_preacordado</th><th>mcuentas_saldo</th><th>ctarjeta_debito</th><th>ctarjeta_debito_transacciones</th><th>mautoservicio</th><th>ctarjeta_visa</th><th>ctarjeta_visa_transacciones</th><th>mtarjeta_visa_consumo</th><th>ctarjeta_master</th><th>ctarjeta_master_transacciones</th><th>mtarjeta_master_consumo</th><th>cprestamos_personales</th><th>mprestamos_personales</th><th>cprestamos_prendarios</th><th>mprestamos_prendarios</th><th>cprestamos_hipotecarios</th><th>&hellip;</th><th>Master_mconsumosdolares</th><th>Master_mlimitecompra</th><th>Master_madelantopesos</th><th>Master_madelantodolares</th><th>Master_fultimo_cierre</th><th>Master_mpagado</th><th>Master_mpagospesos</th><th>Master_mpagosdolares</th><th>Master_fechaalta</th><th>Master_mconsumototal</th><th>Master_cconsumos</th><th>Master_cadelantosefectivo</th><th>Master_mpagominimo</th><th>Visa_delinquency</th><th>Visa_status</th><th>Visa_mfinanciacion_limite</th><th>Visa_Fvencimiento</th><th>Visa_Finiciomora</th><th>Visa_msaldototal</th><th>Visa_msaldopesos</th><th>Visa_msaldodolares</th><th>Visa_mconsumospesos</th><th>Visa_mconsumosdolares</th><th>Visa_mlimitecompra</th><th>Visa_madelantopesos</th><th>Visa_madelantodolares</th><th>Visa_fultimo_cierre</th><th>Visa_mpagado</th><th>Visa_mpagospesos</th><th>Visa_mpagosdolares</th><th>Visa_fechaalta</th><th>Visa_mconsumototal</th><th>Visa_cconsumos</th><th>Visa_cadelantosefectivo</th><th>Visa_mpagominimo</th><th>clase_ternaria</th><th>clase01</th></tr><tr><td>i64</td><td>i64</td><td>i64</td><td>i64</td><td>i64</td><td>i64</td><td>i64</td><td>f64</td><td>f64</td><td>f64</td><td>f64</td><td>f64</td><td>i64</td><td>i64</td><td>i64</td><td>f64</td><td>f64</td><td>i64</td><td>f64</td><td>f64</td><td>f64</td><td>i64</td><td>f64</td><td>i64</td><td>i64</td><td>f64</td><td>i64</td><td>i64</td><td>f64</td><td>i64</td><td>i64</td><td>f64</td><td>i64</td><td>f64</td><td>i64</td><td>f64</td><td>i64</td><td>&hellip;</td><td>f64</td><td>f64</td><td>f64</td><td>f64</td><td>i64</td><td>f64</td><td>f64</td><td>f64</td><td>i64</td><td>f64</td><td>i64</td><td>i64</td><td>f64</td><td>i64</td><td>i64</td><td>f64</td><td>i64</td><td>i64</td><td>f64</td><td>f64</td><td>f64</td><td>f64</td><td>f64</td><td>f64</td><td>f64</td><td>f64</td><td>i64</td><td>f64</td><td>f64</td><td>f64</td><td>i64</td><td>f64</td><td>i64</td><td>i64</td><td>f64</td><td>str</td><td>i8</td></tr></thead><tbody><tr><td>249221323</td><td>202101</td><td>1</td><td>0</td><td>0</td><td>46</td><td>93</td><td>3070.24</td><td>15691.1</td><td>1278.11</td><td>890.96</td><td>636.86</td><td>8</td><td>1</td><td>1</td><td>0.0</td><td>-314.48</td><td>2</td><td>25761.53</td><td>0.0</td><td>10240.09</td><td>1</td><td>22890.77</td><td>1</td><td>5</td><td>35013.67</td><td>1</td><td>10</td><td>15929.92</td><td>1</td><td>13</td><td>27145.02</td><td>0</td><td>0.0</td><td>0</td><td>0.0</td><td>0</td><td>&hellip;</td><td>58.6</td><td>70380.0</td><td>0.0</td><td>0.0</td><td>4</td><td>0.0</td><td>-10385.48</td><td>0.0</td><td>2814</td><td>10853.35</td><td>7</td><td>0</td><td>9290.16</td><td>0</td><td>0</td><td>63342.0</td><td>-849</td><td>null</td><td>43251.02</td><td>50733.44</td><td>0.0</td><td>6743.38</td><td>1.36</td><td>70380.0</td><td>0.0</td><td>0.0</td><td>4</td><td>0.0</td><td>-20833.47</td><td>0.0</td><td>2814</td><td>6743.38</td><td>6</td><td>0</td><td>9559.95</td><td>&quot;CONTINUA&quot;</td><td>0</td></tr><tr><td>249221323</td><td>202102</td><td>1</td><td>0</td><td>0</td><td>46</td><td>94</td><td>3385.85</td><td>19103.66</td><td>1230.47</td><td>1631.3</td><td>206.19</td><td>8</td><td>1</td><td>1</td><td>0.0</td><td>0.0</td><td>2</td><td>8116.43</td><td>0.0</td><td>10536.47</td><td>1</td><td>10629.59</td><td>1</td><td>1</td><td>2315.5</td><td>1</td><td>11</td><td>17285.39</td><td>1</td><td>22</td><td>25713.45</td><td>0</td><td>0.0</td><td>0</td><td>0.0</td><td>0</td><td>&hellip;</td><td>56.8</td><td>70380.0</td><td>0.0</td><td>0.0</td><td>-3</td><td>42765.48</td><td>-42426.83</td><td>59.3</td><td>2842</td><td>10910.41</td><td>17</td><td>0</td><td>8539.44</td><td>0</td><td>0</td><td>63342.0</td><td>-821</td><td>null</td><td>19687.47</td><td>23093.4</td><td>0.0</td><td>7715.26</td><td>1.77</td><td>70380.0</td><td>0.0</td><td>0.0</td><td>-3</td><td>50733.44</td><td>-50733.44</td><td>0.0</td><td>2842</td><td>7715.26</td><td>8</td><td>0</td><td>7413.36</td><td>&quot;CONTINUA&quot;</td><td>0</td></tr><tr><td>249221323</td><td>202103</td><td>1</td><td>0</td><td>0</td><td>46</td><td>95</td><td>5341.18</td><td>24020.21</td><td>755.85</td><td>2768.95</td><td>1140.11</td><td>8</td><td>1</td><td>1</td><td>0.0</td><td>-3933.18</td><td>2</td><td>4015.77</td><td>0.0</td><td>10789.84</td><td>1</td><td>4650.31</td><td>1</td><td>0</td><td>0.0</td><td>1</td><td>10</td><td>18976.09</td><td>1</td><td>16</td><td>45821.57</td><td>0</td><td>0.0</td><td>0</td><td>0.0</td><td>0</td><td>&hellip;</td><td>39.83</td><td>70380.0</td><td>0.0</td><td>0.0</td><td>1</td><td>0.0</td><td>-42534.65</td><td>57.48</td><td>2873</td><td>30992.11</td><td>11</td><td>0</td><td>0.0</td><td>0</td><td>0</td><td>63342.0</td><td>-790</td><td>null</td><td>-2453.06</td><td>-2877.43</td><td>0.0</td><td>10703.0</td><td>1.53</td><td>70380.0</td><td>0.0</td><td>0.0</td><td>1</td><td>0.0</td><td>-50733.44</td><td>0.0</td><td>2873</td><td>10703.0</td><td>7</td><td>0</td><td>0.0</td><td>&quot;CONTINUA&quot;</td><td>0</td></tr><tr><td>249227600</td><td>202101</td><td>1</td><td>0</td><td>0</td><td>42</td><td>278</td><td>496.21</td><td>15321.8</td><td>418.97</td><td>-1138.55</td><td>1204.4</td><td>9</td><td>1</td><td>1</td><td>0.0</td><td>0.0</td><td>2</td><td>84736.17</td><td>0.0</td><td>30617.86</td><td>1</td><td>157762.37</td><td>1</td><td>19</td><td>20489.02</td><td>1</td><td>11</td><td>13110.17</td><td>1</td><td>0</td><td>0.0</td><td>1</td><td>85831.92</td><td>0</td><td>0.0</td><td>0</td><td>&hellip;</td><td>null</td><td>84456.0</td><td>null</td><td>null</td><td>4</td><td>0.0</td><td>null</td><td>null</td><td>3524</td><td>null</td><td>null</td><td>null</td><td>0.0</td><td>0</td><td>0</td><td>152020.8</td><td>-1063</td><td>null</td><td>11310.74</td><td>13267.49</td><td>0.0</td><td>9419.9</td><td>0.0</td><td>168912.0</td><td>0.0</td><td>0.0</td><td>11</td><td>13267.49</td><td>-9662.51</td><td>0.0</td><td>5541</td><td>9419.9</td><td>8</td><td>0</td><td>1900.26</td><td>&quot;CONTINUA&quot;</td><td>0</td></tr><tr><td>249227600</td><td>202102</td><td>1</td><td>0</td><td>0</td><td>42</td><td>279</td><td>723.9</td><td>14653.52</td><td>274.82</td><td>-819.21</td><td>1202.06</td><td>9</td><td>1</td><td>1</td><td>0.0</td><td>0.0</td><td>2</td><td>95070.92</td><td>0.0</td><td>31504.04</td><td>1</td><td>143863.88</td><td>1</td><td>16</td><td>15232.36</td><td>1</td><td>13</td><td>17372.85</td><td>1</td><td>0</td><td>0.0</td><td>1</td><td>84412.35</td><td>0</td><td>0.0</td><td>0</td><td>&hellip;</td><td>null</td><td>84456.0</td><td>null</td><td>null</td><td>-3</td><td>0.0</td><td>null</td><td>null</td><td>3552</td><td>null</td><td>null</td><td>null</td><td>0.0</td><td>0</td><td>0</td><td>152020.8</td><td>-1035</td><td>null</td><td>14988.35</td><td>17581.33</td><td>0.0</td><td>11947.53</td><td>0.0</td><td>168912.0</td><td>0.0</td><td>0.0</td><td>4</td><td>0.0</td><td>-13267.49</td><td>0.0</td><td>5569</td><td>11947.53</td><td>9</td><td>0</td><td>2228.7</td><td>&quot;CONTINUA&quot;</td><td>0</td></tr></tbody></table></div>"
            ],
            "text/plain": [
              "shape: (5, 156)\n",
              "┌────────────┬──────────┬────────────┬───────────┬───┬───────────┬───────────┬───────────┬─────────┐\n",
              "│ numero_de_ ┆ foto_mes ┆ active_qua ┆ cliente_v ┆ … ┆ Visa_cade ┆ Visa_mpag ┆ clase_ter ┆ clase01 │\n",
              "│ cliente    ┆ ---      ┆ rter       ┆ ip        ┆   ┆ lantosefe ┆ ominimo   ┆ naria     ┆ ---     │\n",
              "│ ---        ┆ i64      ┆ ---        ┆ ---       ┆   ┆ ctivo     ┆ ---       ┆ ---       ┆ i8      │\n",
              "│ i64        ┆          ┆ i64        ┆ i64       ┆   ┆ ---       ┆ f64       ┆ str       ┆         │\n",
              "│            ┆          ┆            ┆           ┆   ┆ i64       ┆           ┆           ┆         │\n",
              "╞════════════╪══════════╪════════════╪═══════════╪═══╪═══════════╪═══════════╪═══════════╪═════════╡\n",
              "│ 249221323  ┆ 202101   ┆ 1          ┆ 0         ┆ … ┆ 0         ┆ 9559.95   ┆ CONTINUA  ┆ 0       │\n",
              "│ 249221323  ┆ 202102   ┆ 1          ┆ 0         ┆ … ┆ 0         ┆ 7413.36   ┆ CONTINUA  ┆ 0       │\n",
              "│ 249221323  ┆ 202103   ┆ 1          ┆ 0         ┆ … ┆ 0         ┆ 0.0       ┆ CONTINUA  ┆ 0       │\n",
              "│ 249227600  ┆ 202101   ┆ 1          ┆ 0         ┆ … ┆ 0         ┆ 1900.26   ┆ CONTINUA  ┆ 0       │\n",
              "│ 249227600  ┆ 202102   ┆ 1          ┆ 0         ┆ … ┆ 0         ┆ 2228.7    ┆ CONTINUA  ┆ 0       │\n",
              "└────────────┴──────────┴────────────┴───────────┴───┴───────────┴───────────┴───────────┴─────────┘"
            ]
          },
          "execution_count": 25,
          "metadata": {},
          "output_type": "execute_result"
        }
      ],
      "source": [
        "# paso la clase a binaria que tome valores {0,1} enteros\n",
        "# BAJA+1 y BAJA+2 son 1, CONTINUA es 0\n",
        "# a partir de ahora ya NO puedo cortar por prob(BAJA+2) > 1/40\n",
        "\n",
        "dataset_train = dataset_train.with_columns(\n",
        "    (pl.col(\"clase_ternaria\").is_in([\"BAJA+2\", \"BAJA+1\"]).cast(pl.Int8)).alias(\"clase01\")\n",
        ")\n",
        "dataset_train.head()"
      ]
    },
    {
      "cell_type": "code",
      "execution_count": 26,
      "metadata": {},
      "outputs": [
        {
          "data": {
            "text/html": [
              "<div><style>\n",
              ".dataframe > thead > tr,\n",
              ".dataframe > tbody > tr {\n",
              "  text-align: right;\n",
              "  white-space: pre-wrap;\n",
              "}\n",
              "</style>\n",
              "<small>shape: (2, 2)</small><table border=\"1\" class=\"dataframe\"><thead><tr><th>clase01</th><th>count</th></tr><tr><td>i8</td><td>u32</td></tr></thead><tbody><tr><td>1</td><td>5300</td></tr><tr><td>0</td><td>481491</td></tr></tbody></table></div>"
            ],
            "text/plain": [
              "shape: (2, 2)\n",
              "┌─────────┬────────┐\n",
              "│ clase01 ┆ count  │\n",
              "│ ---     ┆ ---    │\n",
              "│ i8      ┆ u32    │\n",
              "╞═════════╪════════╡\n",
              "│ 1       ┆ 5300   │\n",
              "│ 0       ┆ 481491 │\n",
              "└─────────┴────────┘"
            ]
          },
          "execution_count": 26,
          "metadata": {},
          "output_type": "execute_result"
        }
      ],
      "source": [
        "dataset_train['clase01'].value_counts()"
      ]
    },
    {
      "cell_type": "code",
      "execution_count": 27,
      "metadata": {
        "id": "jP7YlQBnaW6W"
      },
      "outputs": [
        {
          "data": {
            "text/html": [
              "<div><style>\n",
              ".dataframe > thead > tr,\n",
              ".dataframe > tbody > tr {\n",
              "  text-align: right;\n",
              "  white-space: pre-wrap;\n",
              "}\n",
              "</style>\n",
              "<small>shape: (5, 158)</small><table border=\"1\" class=\"dataframe\"><thead><tr><th>numero_de_cliente</th><th>foto_mes</th><th>active_quarter</th><th>cliente_vip</th><th>internet</th><th>cliente_edad</th><th>cliente_antiguedad</th><th>mrentabilidad</th><th>mrentabilidad_annual</th><th>mcomisiones</th><th>mactivos_margen</th><th>mpasivos_margen</th><th>cproductos</th><th>tcuentas</th><th>ccuenta_corriente</th><th>mcuenta_corriente_adicional</th><th>mcuenta_corriente</th><th>ccaja_ahorro</th><th>mcaja_ahorro</th><th>mcaja_ahorro_adicional</th><th>mcaja_ahorro_dolares</th><th>cdescubierto_preacordado</th><th>mcuentas_saldo</th><th>ctarjeta_debito</th><th>ctarjeta_debito_transacciones</th><th>mautoservicio</th><th>ctarjeta_visa</th><th>ctarjeta_visa_transacciones</th><th>mtarjeta_visa_consumo</th><th>ctarjeta_master</th><th>ctarjeta_master_transacciones</th><th>mtarjeta_master_consumo</th><th>cprestamos_personales</th><th>mprestamos_personales</th><th>cprestamos_prendarios</th><th>mprestamos_prendarios</th><th>cprestamos_hipotecarios</th><th>&hellip;</th><th>Master_madelantopesos</th><th>Master_madelantodolares</th><th>Master_fultimo_cierre</th><th>Master_mpagado</th><th>Master_mpagospesos</th><th>Master_mpagosdolares</th><th>Master_fechaalta</th><th>Master_mconsumototal</th><th>Master_cconsumos</th><th>Master_cadelantosefectivo</th><th>Master_mpagominimo</th><th>Visa_delinquency</th><th>Visa_status</th><th>Visa_mfinanciacion_limite</th><th>Visa_Fvencimiento</th><th>Visa_Finiciomora</th><th>Visa_msaldototal</th><th>Visa_msaldopesos</th><th>Visa_msaldodolares</th><th>Visa_mconsumospesos</th><th>Visa_mconsumosdolares</th><th>Visa_mlimitecompra</th><th>Visa_madelantopesos</th><th>Visa_madelantodolares</th><th>Visa_fultimo_cierre</th><th>Visa_mpagado</th><th>Visa_mpagospesos</th><th>Visa_mpagosdolares</th><th>Visa_fechaalta</th><th>Visa_mconsumototal</th><th>Visa_cconsumos</th><th>Visa_cadelantosefectivo</th><th>Visa_mpagominimo</th><th>clase_ternaria</th><th>clase01</th><th>azar</th><th>training</th></tr><tr><td>i64</td><td>i64</td><td>i64</td><td>i64</td><td>i64</td><td>i64</td><td>i64</td><td>f64</td><td>f64</td><td>f64</td><td>f64</td><td>f64</td><td>i64</td><td>i64</td><td>i64</td><td>f64</td><td>f64</td><td>i64</td><td>f64</td><td>f64</td><td>f64</td><td>i64</td><td>f64</td><td>i64</td><td>i64</td><td>f64</td><td>i64</td><td>i64</td><td>f64</td><td>i64</td><td>i64</td><td>f64</td><td>i64</td><td>f64</td><td>i64</td><td>f64</td><td>i64</td><td>&hellip;</td><td>f64</td><td>f64</td><td>i64</td><td>f64</td><td>f64</td><td>f64</td><td>i64</td><td>f64</td><td>i64</td><td>i64</td><td>f64</td><td>i64</td><td>i64</td><td>f64</td><td>i64</td><td>i64</td><td>f64</td><td>f64</td><td>f64</td><td>f64</td><td>f64</td><td>f64</td><td>f64</td><td>f64</td><td>i64</td><td>f64</td><td>f64</td><td>f64</td><td>i64</td><td>f64</td><td>i64</td><td>i64</td><td>f64</td><td>str</td><td>i8</td><td>f64</td><td>i8</td></tr></thead><tbody><tr><td>249221323</td><td>202101</td><td>1</td><td>0</td><td>0</td><td>46</td><td>93</td><td>3070.24</td><td>15691.1</td><td>1278.11</td><td>890.96</td><td>636.86</td><td>8</td><td>1</td><td>1</td><td>0.0</td><td>-314.48</td><td>2</td><td>25761.53</td><td>0.0</td><td>10240.09</td><td>1</td><td>22890.77</td><td>1</td><td>5</td><td>35013.67</td><td>1</td><td>10</td><td>15929.92</td><td>1</td><td>13</td><td>27145.02</td><td>0</td><td>0.0</td><td>0</td><td>0.0</td><td>0</td><td>&hellip;</td><td>0.0</td><td>0.0</td><td>4</td><td>0.0</td><td>-10385.48</td><td>0.0</td><td>2814</td><td>10853.35</td><td>7</td><td>0</td><td>9290.16</td><td>0</td><td>0</td><td>63342.0</td><td>-849</td><td>null</td><td>43251.02</td><td>50733.44</td><td>0.0</td><td>6743.38</td><td>1.36</td><td>70380.0</td><td>0.0</td><td>0.0</td><td>4</td><td>0.0</td><td>-20833.47</td><td>0.0</td><td>2814</td><td>6743.38</td><td>6</td><td>0</td><td>9559.95</td><td>&quot;CONTINUA&quot;</td><td>0</td><td>0.911484</td><td>1</td></tr><tr><td>249221323</td><td>202102</td><td>1</td><td>0</td><td>0</td><td>46</td><td>94</td><td>3385.85</td><td>19103.66</td><td>1230.47</td><td>1631.3</td><td>206.19</td><td>8</td><td>1</td><td>1</td><td>0.0</td><td>0.0</td><td>2</td><td>8116.43</td><td>0.0</td><td>10536.47</td><td>1</td><td>10629.59</td><td>1</td><td>1</td><td>2315.5</td><td>1</td><td>11</td><td>17285.39</td><td>1</td><td>22</td><td>25713.45</td><td>0</td><td>0.0</td><td>0</td><td>0.0</td><td>0</td><td>&hellip;</td><td>0.0</td><td>0.0</td><td>-3</td><td>42765.48</td><td>-42426.83</td><td>59.3</td><td>2842</td><td>10910.41</td><td>17</td><td>0</td><td>8539.44</td><td>0</td><td>0</td><td>63342.0</td><td>-821</td><td>null</td><td>19687.47</td><td>23093.4</td><td>0.0</td><td>7715.26</td><td>1.77</td><td>70380.0</td><td>0.0</td><td>0.0</td><td>-3</td><td>50733.44</td><td>-50733.44</td><td>0.0</td><td>2842</td><td>7715.26</td><td>8</td><td>0</td><td>7413.36</td><td>&quot;CONTINUA&quot;</td><td>0</td><td>0.63798</td><td>1</td></tr><tr><td>249221323</td><td>202103</td><td>1</td><td>0</td><td>0</td><td>46</td><td>95</td><td>5341.18</td><td>24020.21</td><td>755.85</td><td>2768.95</td><td>1140.11</td><td>8</td><td>1</td><td>1</td><td>0.0</td><td>-3933.18</td><td>2</td><td>4015.77</td><td>0.0</td><td>10789.84</td><td>1</td><td>4650.31</td><td>1</td><td>0</td><td>0.0</td><td>1</td><td>10</td><td>18976.09</td><td>1</td><td>16</td><td>45821.57</td><td>0</td><td>0.0</td><td>0</td><td>0.0</td><td>0</td><td>&hellip;</td><td>0.0</td><td>0.0</td><td>1</td><td>0.0</td><td>-42534.65</td><td>57.48</td><td>2873</td><td>30992.11</td><td>11</td><td>0</td><td>0.0</td><td>0</td><td>0</td><td>63342.0</td><td>-790</td><td>null</td><td>-2453.06</td><td>-2877.43</td><td>0.0</td><td>10703.0</td><td>1.53</td><td>70380.0</td><td>0.0</td><td>0.0</td><td>1</td><td>0.0</td><td>-50733.44</td><td>0.0</td><td>2873</td><td>10703.0</td><td>7</td><td>0</td><td>0.0</td><td>&quot;CONTINUA&quot;</td><td>0</td><td>0.871352</td><td>1</td></tr><tr><td>249227600</td><td>202101</td><td>1</td><td>0</td><td>0</td><td>42</td><td>278</td><td>496.21</td><td>15321.8</td><td>418.97</td><td>-1138.55</td><td>1204.4</td><td>9</td><td>1</td><td>1</td><td>0.0</td><td>0.0</td><td>2</td><td>84736.17</td><td>0.0</td><td>30617.86</td><td>1</td><td>157762.37</td><td>1</td><td>19</td><td>20489.02</td><td>1</td><td>11</td><td>13110.17</td><td>1</td><td>0</td><td>0.0</td><td>1</td><td>85831.92</td><td>0</td><td>0.0</td><td>0</td><td>&hellip;</td><td>null</td><td>null</td><td>4</td><td>0.0</td><td>null</td><td>null</td><td>3524</td><td>null</td><td>null</td><td>null</td><td>0.0</td><td>0</td><td>0</td><td>152020.8</td><td>-1063</td><td>null</td><td>11310.74</td><td>13267.49</td><td>0.0</td><td>9419.9</td><td>0.0</td><td>168912.0</td><td>0.0</td><td>0.0</td><td>11</td><td>13267.49</td><td>-9662.51</td><td>0.0</td><td>5541</td><td>9419.9</td><td>8</td><td>0</td><td>1900.26</td><td>&quot;CONTINUA&quot;</td><td>0</td><td>0.905241</td><td>1</td></tr><tr><td>249227600</td><td>202102</td><td>1</td><td>0</td><td>0</td><td>42</td><td>279</td><td>723.9</td><td>14653.52</td><td>274.82</td><td>-819.21</td><td>1202.06</td><td>9</td><td>1</td><td>1</td><td>0.0</td><td>0.0</td><td>2</td><td>95070.92</td><td>0.0</td><td>31504.04</td><td>1</td><td>143863.88</td><td>1</td><td>16</td><td>15232.36</td><td>1</td><td>13</td><td>17372.85</td><td>1</td><td>0</td><td>0.0</td><td>1</td><td>84412.35</td><td>0</td><td>0.0</td><td>0</td><td>&hellip;</td><td>null</td><td>null</td><td>-3</td><td>0.0</td><td>null</td><td>null</td><td>3552</td><td>null</td><td>null</td><td>null</td><td>0.0</td><td>0</td><td>0</td><td>152020.8</td><td>-1035</td><td>null</td><td>14988.35</td><td>17581.33</td><td>0.0</td><td>11947.53</td><td>0.0</td><td>168912.0</td><td>0.0</td><td>0.0</td><td>4</td><td>0.0</td><td>-13267.49</td><td>0.0</td><td>5569</td><td>11947.53</td><td>9</td><td>0</td><td>2228.7</td><td>&quot;CONTINUA&quot;</td><td>0</td><td>0.200462</td><td>1</td></tr></tbody></table></div>"
            ],
            "text/plain": [
              "shape: (5, 158)\n",
              "┌────────────┬──────────┬────────────┬────────────┬───┬────────────┬─────────┬──────────┬──────────┐\n",
              "│ numero_de_ ┆ foto_mes ┆ active_qua ┆ cliente_vi ┆ … ┆ clase_tern ┆ clase01 ┆ azar     ┆ training │\n",
              "│ cliente    ┆ ---      ┆ rter       ┆ p          ┆   ┆ aria       ┆ ---     ┆ ---      ┆ ---      │\n",
              "│ ---        ┆ i64      ┆ ---        ┆ ---        ┆   ┆ ---        ┆ i8      ┆ f64      ┆ i8       │\n",
              "│ i64        ┆          ┆ i64        ┆ i64        ┆   ┆ str        ┆         ┆          ┆          │\n",
              "╞════════════╪══════════╪════════════╪════════════╪═══╪════════════╪═════════╪══════════╪══════════╡\n",
              "│ 249221323  ┆ 202101   ┆ 1          ┆ 0          ┆ … ┆ CONTINUA   ┆ 0       ┆ 0.911484 ┆ 1        │\n",
              "│ 249221323  ┆ 202102   ┆ 1          ┆ 0          ┆ … ┆ CONTINUA   ┆ 0       ┆ 0.63798  ┆ 1        │\n",
              "│ 249221323  ┆ 202103   ┆ 1          ┆ 0          ┆ … ┆ CONTINUA   ┆ 0       ┆ 0.871352 ┆ 1        │\n",
              "│ 249227600  ┆ 202101   ┆ 1          ┆ 0          ┆ … ┆ CONTINUA   ┆ 0       ┆ 0.905241 ┆ 1        │\n",
              "│ 249227600  ┆ 202102   ┆ 1          ┆ 0          ┆ … ┆ CONTINUA   ┆ 0       ┆ 0.200462 ┆ 1        │\n",
              "└────────────┴──────────┴────────────┴────────────┴───┴────────────┴─────────┴──────────┴──────────┘"
            ]
          },
          "execution_count": 27,
          "metadata": {},
          "output_type": "execute_result"
        }
      ],
      "source": [
        "# defino los datos que forma parte del training\n",
        "# aqui se hace el undersampling de los CONTINUA\n",
        "# notar que para esto utilizo la SEGUNDA semilla\n",
        "\n",
        "np.random.seed(PARAM[\"semilla_primigenia\"])\n",
        "\n",
        "# Generar columna aleatoria \"azar\"\n",
        "dataset_train = dataset_train.with_columns(\n",
        "    pl.Series(\"azar\", np.random.uniform(0, 1, dataset_train.height))\n",
        ")\n",
        "\n",
        "# Inicializar columna \"training\" en 0\n",
        "dataset_train = dataset_train.with_columns(\n",
        "    pl.lit(0).cast(pl.Int8).alias(\"training\")\n",
        ")\n",
        "\n",
        "# Aplicar lógica de undersampling y selección de entrenamiento\n",
        "mask = (\n",
        "    pl.col(\"foto_mes\").is_in(PARAM[\"train\"])\n",
        "    & (\n",
        "        (pl.col(\"azar\") <= PARAM[\"trainingstrategy\"][\"undersampling\"])\n",
        "        | (pl.col(\"clase_ternaria\").is_in([\"BAJA+1\", \"BAJA+2\"]))\n",
        "    )\n",
        ")\n",
        "\n",
        "dataset_train = dataset_train.with_columns(\n",
        "    pl.when(mask)\n",
        "      .then(1)\n",
        "      .otherwise(pl.col(\"training\"))\n",
        "      .alias(\"training\")\n",
        ")\n",
        "dataset_train.head()"
      ]
    },
    {
      "cell_type": "code",
      "execution_count": 28,
      "metadata": {},
      "outputs": [
        {
          "data": {
            "text/html": [
              "<div><style>\n",
              ".dataframe > thead > tr,\n",
              ".dataframe > tbody > tr {\n",
              "  text-align: right;\n",
              "  white-space: pre-wrap;\n",
              "}\n",
              "</style>\n",
              "<small>shape: (1, 2)</small><table border=\"1\" class=\"dataframe\"><thead><tr><th>training</th><th>count</th></tr><tr><td>i8</td><td>u32</td></tr></thead><tbody><tr><td>1</td><td>486791</td></tr></tbody></table></div>"
            ],
            "text/plain": [
              "shape: (1, 2)\n",
              "┌──────────┬────────┐\n",
              "│ training ┆ count  │\n",
              "│ ---      ┆ ---    │\n",
              "│ i8       ┆ u32    │\n",
              "╞══════════╪════════╡\n",
              "│ 1        ┆ 486791 │\n",
              "└──────────┴────────┘"
            ]
          },
          "execution_count": 28,
          "metadata": {},
          "output_type": "execute_result"
        }
      ],
      "source": [
        "dataset_train['training'].value_counts()"
      ]
    },
    {
      "cell_type": "code",
      "execution_count": 29,
      "metadata": {
        "id": "xElu4s5W4rX7"
      },
      "outputs": [
        {
          "name": "stdout",
          "output_type": "stream",
          "text": [
            "['numero_de_cliente', 'foto_mes', 'active_quarter', 'cliente_vip', 'internet', 'cliente_edad', 'cliente_antiguedad', 'mrentabilidad', 'mrentabilidad_annual', 'mcomisiones', 'mactivos_margen', 'mpasivos_margen', 'cproductos', 'tcuentas', 'ccuenta_corriente', 'mcuenta_corriente_adicional', 'mcuenta_corriente', 'ccaja_ahorro', 'mcaja_ahorro', 'mcaja_ahorro_adicional', 'mcaja_ahorro_dolares', 'cdescubierto_preacordado', 'mcuentas_saldo', 'ctarjeta_debito', 'ctarjeta_debito_transacciones', 'mautoservicio', 'ctarjeta_visa', 'ctarjeta_visa_transacciones', 'mtarjeta_visa_consumo', 'ctarjeta_master', 'ctarjeta_master_transacciones', 'mtarjeta_master_consumo', 'cprestamos_personales', 'mprestamos_personales', 'cprestamos_prendarios', 'mprestamos_prendarios', 'cprestamos_hipotecarios', 'mprestamos_hipotecarios', 'cplazo_fijo', 'mplazo_fijo_dolares', 'mplazo_fijo_pesos', 'cinversion1', 'minversion1_pesos', 'minversion1_dolares', 'cinversion2', 'minversion2', 'cseguro_vida', 'cseguro_auto', 'cseguro_vivienda', 'cseguro_accidentes_personales', 'ccaja_seguridad', 'cpayroll_trx', 'mpayroll', 'mpayroll2', 'cpayroll2_trx', 'ccuenta_debitos_automaticos', 'mcuenta_debitos_automaticos', 'ctarjeta_visa_debitos_automaticos', 'mttarjeta_visa_debitos_automaticos', 'ctarjeta_master_debitos_automaticos', 'mttarjeta_master_debitos_automaticos', 'cpagodeservicios', 'mpagodeservicios', 'cpagomiscuentas', 'mpagomiscuentas', 'ccajeros_propios_descuentos', 'mcajeros_propios_descuentos', 'ctarjeta_visa_descuentos', 'mtarjeta_visa_descuentos', 'ctarjeta_master_descuentos', 'mtarjeta_master_descuentos', 'ccomisiones_mantenimiento', 'mcomisiones_mantenimiento', 'ccomisiones_otras', 'mcomisiones_otras', 'cforex', 'cforex_buy', 'mforex_buy', 'cforex_sell', 'mforex_sell', 'ctransferencias_recibidas', 'mtransferencias_recibidas', 'ctransferencias_emitidas', 'mtransferencias_emitidas', 'cextraccion_autoservicio', 'mextraccion_autoservicio', 'ccheques_depositados', 'mcheques_depositados', 'ccheques_emitidos', 'mcheques_emitidos', 'ccheques_depositados_rechazados', 'mcheques_depositados_rechazados', 'ccheques_emitidos_rechazados', 'mcheques_emitidos_rechazados', 'tcallcenter', 'ccallcenter_transacciones', 'thomebanking', 'chomebanking_transacciones', 'ccajas_transacciones', 'ccajas_consultas', 'ccajas_depositos', 'ccajas_extracciones', 'ccajas_otras', 'catm_trx', 'matm', 'catm_trx_other', 'matm_other', 'ctrx_quarter', 'tmobile_app', 'cmobile_app_trx', 'Master_delinquency', 'Master_status', 'Master_mfinanciacion_limite', 'Master_Fvencimiento', 'Master_Finiciomora', 'Master_msaldototal', 'Master_msaldopesos', 'Master_msaldodolares', 'Master_mconsumospesos', 'Master_mconsumosdolares', 'Master_mlimitecompra', 'Master_madelantopesos', 'Master_madelantodolares', 'Master_fultimo_cierre', 'Master_mpagado', 'Master_mpagospesos', 'Master_mpagosdolares', 'Master_fechaalta', 'Master_mconsumototal', 'Master_cconsumos', 'Master_cadelantosefectivo', 'Master_mpagominimo', 'Visa_delinquency', 'Visa_status', 'Visa_mfinanciacion_limite', 'Visa_Fvencimiento', 'Visa_Finiciomora', 'Visa_msaldototal', 'Visa_msaldopesos', 'Visa_msaldodolares', 'Visa_mconsumospesos', 'Visa_mconsumosdolares', 'Visa_mlimitecompra', 'Visa_madelantopesos', 'Visa_madelantodolares', 'Visa_fultimo_cierre', 'Visa_mpagado', 'Visa_mpagospesos', 'Visa_mpagosdolares', 'Visa_fechaalta', 'Visa_mconsumototal', 'Visa_cconsumos', 'Visa_cadelantosefectivo', 'Visa_mpagominimo']\n",
            "154\n"
          ]
        }
      ],
      "source": [
        "# los campos que se van a utilizar\n",
        "\n",
        "excluir = {\"clase_ternaria\",\"clase01\",\"azar\",\"training\",\"periodo0\",\"periodo1\",\"periodo2\"}\n",
        "campos_buenos = [c for c in dataset_train.columns if c not in excluir]\n",
        "print(campos_buenos)\n",
        "print(len(campos_buenos))"
      ]
    },
    {
      "cell_type": "code",
      "execution_count": 30,
      "metadata": {
        "id": "PppMHcGYaaol"
      },
      "outputs": [
        {
          "name": "stdout",
          "output_type": "stream",
          "text": [
            "nrow: 486791\n",
            "ncol: 154\n"
          ]
        }
      ],
      "source": [
        "# dejo los datos en el formato que necesita LightGBM\n",
        "\n",
        "# Filtramos las filas que entran al entrenamiento\n",
        "train_mask = dataset_train[\"training\"] == 1\n",
        "\n",
        "# Extraemos features y labels en formato NumPy\n",
        "X_train = dataset_train.filter(train_mask).select(campos_buenos).to_numpy()\n",
        "y_train = dataset_train.filter(train_mask)[\"clase01\"].to_numpy()\n",
        "\n",
        "# Creamos el Dataset de LightGBM\n",
        "dtrain = lgb.Dataset(\n",
        "    data=X_train,\n",
        "    label=y_train,\n",
        "    free_raw_data=False\n",
        ")\n",
        "\n",
        "# Verificamos dimensiones\n",
        "print(\"nrow:\", X_train.shape[0])\n",
        "print(\"ncol:\", X_train.shape[1])"
      ]
    },
    {
      "cell_type": "code",
      "execution_count": 31,
      "metadata": {},
      "outputs": [
        {
          "name": "stdout",
          "output_type": "stream",
          "text": [
            "shape: (3, 2)\n",
            "┌──────────┬────────┐\n",
            "│ foto_mes ┆ count  │\n",
            "│ ---      ┆ ---    │\n",
            "│ i64      ┆ u32    │\n",
            "╞══════════╪════════╡\n",
            "│ 202101   ┆ 161527 │\n",
            "│ 202103   ┆ 163109 │\n",
            "│ 202102   ┆ 162155 │\n",
            "└──────────┴────────┘\n"
          ]
        }
      ],
      "source": [
        "# Ver value counts del dataset original filtrado\n",
        "print(dataset_train.filter(train_mask)[\"foto_mes\"].value_counts())"
      ]
    },
    {
      "cell_type": "markdown",
      "metadata": {
        "id": "Ta-EkOu3cphF"
      },
      "source": [
        "### Configuracion y Corrida Bayesian Optimization"
      ]
    },
    {
      "cell_type": "code",
      "execution_count": 32,
      "metadata": {
        "id": "cjgfurjdfiXb"
      },
      "outputs": [],
      "source": [
        "# -------------------------------\n",
        "# 1. Función objetivo (equivalente a EstimarGanancia_AUC_lightgbm)\n",
        "# -------------------------------\n",
        "def objective(trial):\n",
        "    # Parámetros variables (los que la BO va a optimizar)\n",
        "    params = {\n",
        "        \"boosting_type\": \"gbdt\",\n",
        "        \"objective\": \"binary\",\n",
        "        \"metric\": \"auc\",\n",
        "        \"verbosity\": -100,\n",
        "        \"first_metric_only\": False,\n",
        "        \"boost_from_average\": True,\n",
        "        \"feature_pre_filter\": False,\n",
        "        \"force_row_wise\": True,\n",
        "        \"seed\": PARAM[\"semilla_primigenia\"],\n",
        "        \"n_jobs\": 1,  # para Optuna concurrente evitar conflictos\n",
        "        \"deterministic\":True,\n",
        "\n",
        "        # --- Hiperparámetros optimizables (según makeParamSet) ---\n",
        "        \"learning_rate\": trial.suggest_float(\"learning_rate\", 0.005, 0.05),\n",
        "        \"feature_fraction\": trial.suggest_float(\"feature_fraction\", 0.2, 0.8),\n",
        "        \"min_data_in_leaf\": trial.suggest_int(\"min_data_in_leaf\", 100, 3000),\n",
        "        \"num_leaves\": trial.suggest_int(\"num_leaves\", 10, 2500),\n",
        "        \"max_depth\": trial.suggest_int(\"max_depth\", -1, 15),\n",
        "        \"lambda_l1\": trial.suggest_float(\"lambda_l1\", 0.0, 10.0),\n",
        "        \"lambda_l2\": trial.suggest_float(\"lambda_l2\", 0.0, 10.0),\n",
        "        \"bagging_fraction\": trial.suggest_float(\"bagging_fraction\", 0.5, 1.0),\n",
        "\n",
        "        # --- Fijos según PARAM$lgbm$param_fijos ---\n",
        "        \"min_gain_to_split\": 0,\n",
        "        \"min_sum_hessian_in_leaf\": 0.001,\n",
        "        \"max_bin\": 31,\n",
        "        \"pos_bagging_fraction\": 1.0,\n",
        "        \"neg_bagging_fraction\": 1.0,\n",
        "        \"is_unbalance\": False,\n",
        "        \"scale_pos_weight\": 1.0,\n",
        "        \"max_drop\": 50,\n",
        "        \"skip_drop\": 0.5,\n",
        "        \"extra_trees\": False,\n",
        "        \"num_iterations\": 1200,\n",
        "    }\n",
        "\n",
        "    # Crear el modelo\n",
        "    model = lgb.LGBMClassifier(**params)\n",
        "\n",
        "    # Cross-validation estratificada\n",
        "    cv = StratifiedKFold(n_splits=PARAM[\"hyperparametertuning\"][\"xval_folds\"],\n",
        "                         shuffle=True, random_state=PARAM[\"semilla_primigenia\"])\n",
        "\n",
        "    # Calcular AUC promedio\n",
        "    scores = cross_val_score(\n",
        "        model,\n",
        "        X_train, y_train,\n",
        "        cv=cv,\n",
        "        scoring=\"roc_auc\",\n",
        "        n_jobs=-1\n",
        "    )\n",
        "\n",
        "    mean_auc = np.mean(scores)\n",
        "    print(f\"[Trial {trial.number:03d}] AUC = {mean_auc:.5f}\")\n",
        "\n",
        "    return mean_auc\n"
      ]
    },
    {
      "cell_type": "code",
      "execution_count": 33,
      "metadata": {},
      "outputs": [
        {
          "name": "stderr",
          "output_type": "stream",
          "text": [
            "[I 2025-10-07 15:52:08,405] A new study created in memory with name: lightgbm_auc_HT4942\n"
          ]
        }
      ],
      "source": [
        "# -------------------------------\n",
        "# 2. Configuración de la búsqueda bayesiana\n",
        "# -------------------------------\n",
        "\n",
        "# --- crear el estudio Optuna ---\n",
        "sampler = optuna.samplers.TPESampler(seed=PARAM[\"semilla_primigenia\"])\n",
        "\n",
        "study = optuna.create_study(\n",
        "    direction=\"maximize\",\n",
        "    study_name=f\"lightgbm_auc_HT{PARAM['experimento']}\", \n",
        "    sampler=sampler\n",
        ")"
      ]
    },
    {
      "cell_type": "code",
      "execution_count": 34,
      "metadata": {},
      "outputs": [
        {
          "name": "stderr",
          "output_type": "stream",
          "text": [
            "[I 2025-10-07 15:55:58,761] Trial 0 finished with value: 0.93178670471624 and parameters: {'learning_rate': 0.046016760973190296, 'feature_fraction': 0.5827877931040191, 'min_data_in_leaf': 2627, 'num_leaves': 2264, 'max_depth': 2, 'lambda_l1': 0.7008567203244787, 'lambda_l2': 3.3997472432469245, 'bagging_fraction': 0.8613858277050941}. Best is trial 0 with value: 0.93178670471624.\n"
          ]
        },
        {
          "name": "stdout",
          "output_type": "stream",
          "text": [
            "[Trial 000] AUC = 0.93179\n"
          ]
        },
        {
          "name": "stderr",
          "output_type": "stream",
          "text": [
            "[I 2025-10-07 16:02:53,098] Trial 1 finished with value: 0.9441221042443662 and parameters: {'learning_rate': 0.026809652772981328, 'feature_fraction': 0.450712616287813, 'min_data_in_leaf': 1241, 'num_leaves': 1656, 'max_depth': -1, 'lambda_l1': 9.236569497272841, 'lambda_l2': 9.85481609605286, 'bagging_fraction': 0.6904449143428968}. Best is trial 1 with value: 0.9441221042443662.\n"
          ]
        },
        {
          "name": "stdout",
          "output_type": "stream",
          "text": [
            "[Trial 001] AUC = 0.94412\n"
          ]
        },
        {
          "name": "stderr",
          "output_type": "stream",
          "text": [
            "[I 2025-10-07 16:08:22,900] Trial 2 finished with value: 0.9432237430256067 and parameters: {'learning_rate': 0.04618558429838888, 'feature_fraction': 0.3102155696272181, 'min_data_in_leaf': 1223, 'num_leaves': 179, 'max_depth': 13, 'lambda_l1': 9.976493512865908, 'lambda_l2': 4.949408292807139, 'bagging_fraction': 0.5192397924548431}. Best is trial 1 with value: 0.9441221042443662.\n"
          ]
        },
        {
          "name": "stdout",
          "output_type": "stream",
          "text": [
            "[Trial 002] AUC = 0.94322\n"
          ]
        },
        {
          "name": "stderr",
          "output_type": "stream",
          "text": [
            "[I 2025-10-07 16:15:43,786] Trial 3 finished with value: 0.94684056185749 and parameters: {'learning_rate': 0.026289591092716016, 'feature_fraction': 0.5483869007611849, 'min_data_in_leaf': 1778, 'num_leaves': 547, 'max_depth': 13, 'lambda_l1': 3.914438202293069, 'lambda_l2': 7.694661099946059, 'bagging_fraction': 0.6226864764263088}. Best is trial 3 with value: 0.94684056185749.\n"
          ]
        },
        {
          "name": "stdout",
          "output_type": "stream",
          "text": [
            "[Trial 003] AUC = 0.94684\n"
          ]
        },
        {
          "name": "stderr",
          "output_type": "stream",
          "text": [
            "[I 2025-10-07 16:22:15,405] Trial 4 finished with value: 0.9404261268982406 and parameters: {'learning_rate': 0.017068617969849518, 'feature_fraction': 0.562882781937011, 'min_data_in_leaf': 2481, 'num_leaves': 2155, 'max_depth': 10, 'lambda_l1': 9.234305989216152, 'lambda_l2': 0.3520957241956968, 'bagging_fraction': 0.8769858788787818}. Best is trial 3 with value: 0.94684056185749.\n"
          ]
        },
        {
          "name": "stdout",
          "output_type": "stream",
          "text": [
            "[Trial 004] AUC = 0.94043\n"
          ]
        },
        {
          "name": "stderr",
          "output_type": "stream",
          "text": [
            "[I 2025-10-07 16:28:13,687] Trial 5 finished with value: 0.9405477303041225 and parameters: {'learning_rate': 0.025305123077196057, 'feature_fraction': 0.407101057620064, 'min_data_in_leaf': 2385, 'num_leaves': 1076, 'max_depth': 7, 'lambda_l1': 4.510677889664391, 'lambda_l2': 6.927544552079303, 'bagging_fraction': 0.7511002503388016}. Best is trial 3 with value: 0.94684056185749.\n"
          ]
        },
        {
          "name": "stdout",
          "output_type": "stream",
          "text": [
            "[Trial 005] AUC = 0.94055\n"
          ]
        },
        {
          "name": "stderr",
          "output_type": "stream",
          "text": [
            "[I 2025-10-07 16:33:09,231] Trial 6 finished with value: 0.9322006993871211 and parameters: {'learning_rate': 0.005370962036487904, 'feature_fraction': 0.26982348559596453, 'min_data_in_leaf': 1490, 'num_leaves': 1708, 'max_depth': 7, 'lambda_l1': 2.380857151953508, 'lambda_l2': 9.203573615366858, 'bagging_fraction': 0.8678920878921063}. Best is trial 3 with value: 0.94684056185749.\n"
          ]
        },
        {
          "name": "stdout",
          "output_type": "stream",
          "text": [
            "[Trial 006] AUC = 0.93220\n"
          ]
        },
        {
          "name": "stderr",
          "output_type": "stream",
          "text": [
            "[I 2025-10-07 16:37:40,171] Trial 7 finished with value: 0.9420134553653605 and parameters: {'learning_rate': 0.02160182427805571, 'feature_fraction': 0.6132904859287649, 'min_data_in_leaf': 1606, 'num_leaves': 1163, 'max_depth': 8, 'lambda_l1': 3.646037487896293, 'lambda_l2': 5.60316868448944, 'bagging_fraction': 0.6086768937102738}. Best is trial 3 with value: 0.94684056185749.\n"
          ]
        },
        {
          "name": "stdout",
          "output_type": "stream",
          "text": [
            "[Trial 007] AUC = 0.94201\n"
          ]
        },
        {
          "name": "stderr",
          "output_type": "stream",
          "text": [
            "[I 2025-10-07 16:40:56,370] Trial 8 finished with value: 0.9422161888311329 and parameters: {'learning_rate': 0.047379073562698625, 'feature_fraction': 0.7460135017895135, 'min_data_in_leaf': 2389, 'num_leaves': 2201, 'max_depth': 6, 'lambda_l1': 6.24612730188807, 'lambda_l2': 2.07761226687575, 'bagging_fraction': 0.8178639525969089}. Best is trial 3 with value: 0.94684056185749.\n"
          ]
        },
        {
          "name": "stdout",
          "output_type": "stream",
          "text": [
            "[Trial 008] AUC = 0.94222\n"
          ]
        },
        {
          "name": "stderr",
          "output_type": "stream",
          "text": [
            "[I 2025-10-07 16:47:22,112] Trial 9 finished with value: 0.9479731093310356 and parameters: {'learning_rate': 0.04706091589643004, 'feature_fraction': 0.3251805504651345, 'min_data_in_leaf': 1613, 'num_leaves': 2239, 'max_depth': 11, 'lambda_l1': 3.6717344113288353, 'lambda_l2': 5.6095593602509535, 'bagging_fraction': 0.7277998582016563}. Best is trial 9 with value: 0.9479731093310356.\n"
          ]
        },
        {
          "name": "stdout",
          "output_type": "stream",
          "text": [
            "[Trial 009] AUC = 0.94797\n"
          ]
        },
        {
          "name": "stderr",
          "output_type": "stream",
          "text": [
            "[I 2025-10-07 16:54:04,020] Trial 10 finished with value: 0.9491419207861254 and parameters: {'learning_rate': 0.03617554919647796, 'feature_fraction': 0.34399370365275994, 'min_data_in_leaf': 365, 'num_leaves': 1632, 'max_depth': 15, 'lambda_l1': 6.462311563342057, 'lambda_l2': 3.9092769227949384, 'bagging_fraction': 0.9534910234278569}. Best is trial 10 with value: 0.9491419207861254.\n"
          ]
        },
        {
          "name": "stdout",
          "output_type": "stream",
          "text": [
            "[Trial 010] AUC = 0.94914\n"
          ]
        },
        {
          "name": "stderr",
          "output_type": "stream",
          "text": [
            "[I 2025-10-07 16:59:55,819] Trial 11 finished with value: 0.9481526726717948 and parameters: {'learning_rate': 0.03952722052134145, 'feature_fraction': 0.2050770659676773, 'min_data_in_leaf': 106, 'num_leaves': 1634, 'max_depth': 15, 'lambda_l1': 6.582067106584969, 'lambda_l2': 3.7270532116072483, 'bagging_fraction': 0.9942979409939978}. Best is trial 10 with value: 0.9491419207861254.\n"
          ]
        },
        {
          "name": "stdout",
          "output_type": "stream",
          "text": [
            "[Trial 011] AUC = 0.94815\n"
          ]
        },
        {
          "name": "stderr",
          "output_type": "stream",
          "text": [
            "[I 2025-10-07 17:05:59,854] Trial 12 finished with value: 0.9481303805295548 and parameters: {'learning_rate': 0.03748195676621136, 'feature_fraction': 0.20281212340215107, 'min_data_in_leaf': 145, 'num_leaves': 1591, 'max_depth': 15, 'lambda_l1': 6.284209292175513, 'lambda_l2': 2.888306687942208, 'bagging_fraction': 0.9933125904318947}. Best is trial 10 with value: 0.9491419207861254.\n"
          ]
        },
        {
          "name": "stdout",
          "output_type": "stream",
          "text": [
            "[Trial 012] AUC = 0.94813\n"
          ]
        },
        {
          "name": "stderr",
          "output_type": "stream",
          "text": [
            "[I 2025-10-07 17:11:51,434] Trial 13 finished with value: 0.9472039563926721 and parameters: {'learning_rate': 0.03622196158351454, 'feature_fraction': 0.2160930208287405, 'min_data_in_leaf': 162, 'num_leaves': 836, 'max_depth': 15, 'lambda_l1': 7.208209368564819, 'lambda_l2': 4.119694873332539, 'bagging_fraction': 0.985700298648042}. Best is trial 10 with value: 0.9491419207861254.\n"
          ]
        },
        {
          "name": "stdout",
          "output_type": "stream",
          "text": [
            "[Trial 013] AUC = 0.94720\n"
          ]
        },
        {
          "name": "stderr",
          "output_type": "stream",
          "text": [
            "[I 2025-10-07 17:18:30,545] Trial 14 finished with value: 0.9470563099593626 and parameters: {'learning_rate': 0.03590648411376564, 'feature_fraction': 0.3710835500097813, 'min_data_in_leaf': 721, 'num_leaves': 1433, 'max_depth': 12, 'lambda_l1': 7.657221965948937, 'lambda_l2': 1.0707685935657398, 'bagging_fraction': 0.9314573449810832}. Best is trial 10 with value: 0.9491419207861254.\n"
          ]
        },
        {
          "name": "stdout",
          "output_type": "stream",
          "text": [
            "[Trial 014] AUC = 0.94706\n"
          ]
        },
        {
          "name": "stderr",
          "output_type": "stream",
          "text": [
            "[I 2025-10-07 17:24:49,704] Trial 15 finished with value: 0.9484647045779966 and parameters: {'learning_rate': 0.03870714050313314, 'feature_fraction': 0.26891333940456275, 'min_data_in_leaf': 625, 'num_leaves': 1892, 'max_depth': 15, 'lambda_l1': 5.92663503943675, 'lambda_l2': 1.8855029996443495, 'bagging_fraction': 0.9467592936402293}. Best is trial 10 with value: 0.9491419207861254.\n"
          ]
        },
        {
          "name": "stdout",
          "output_type": "stream",
          "text": [
            "[Trial 015] AUC = 0.94846\n"
          ]
        },
        {
          "name": "stderr",
          "output_type": "stream",
          "text": [
            "[I 2025-10-07 17:32:02,113] Trial 16 finished with value: 0.9480309444886281 and parameters: {'learning_rate': 0.032297384519173127, 'feature_fraction': 0.4750741787633645, 'min_data_in_leaf': 578, 'num_leaves': 1926, 'max_depth': 9, 'lambda_l1': 5.327470463202739, 'lambda_l2': 1.8667281464768721, 'bagging_fraction': 0.9230912013673593}. Best is trial 10 with value: 0.9491419207861254.\n"
          ]
        },
        {
          "name": "stdout",
          "output_type": "stream",
          "text": [
            "[Trial 016] AUC = 0.94803\n"
          ]
        },
        {
          "name": "stderr",
          "output_type": "stream",
          "text": [
            "[I 2025-10-07 17:37:04,138] Trial 17 finished with value: 0.9370284795622469 and parameters: {'learning_rate': 0.03241329376498512, 'feature_fraction': 0.3645876214471, 'min_data_in_leaf': 692, 'num_leaves': 2463, 'max_depth': 4, 'lambda_l1': 8.437967495643601, 'lambda_l2': 0.014750452725392993, 'bagging_fraction': 0.9191341610152544}. Best is trial 10 with value: 0.9491419207861254.\n"
          ]
        },
        {
          "name": "stdout",
          "output_type": "stream",
          "text": [
            "[Trial 017] AUC = 0.93703\n"
          ]
        },
        {
          "name": "stderr",
          "output_type": "stream",
          "text": [
            "[I 2025-10-07 17:43:32,318] Trial 18 finished with value: 0.9485166910807461 and parameters: {'learning_rate': 0.04009673916505089, 'feature_fraction': 0.29918917172983833, 'min_data_in_leaf': 964, 'num_leaves': 1907, 'max_depth': 13, 'lambda_l1': 5.227683720995711, 'lambda_l2': 2.265064754542614, 'bagging_fraction': 0.80662515675015}. Best is trial 10 with value: 0.9491419207861254.\n"
          ]
        },
        {
          "name": "stdout",
          "output_type": "stream",
          "text": [
            "[Trial 018] AUC = 0.94852\n"
          ]
        },
        {
          "name": "stderr",
          "output_type": "stream",
          "text": [
            "[I 2025-10-07 17:50:31,704] Trial 19 finished with value: 0.950306083162193 and parameters: {'learning_rate': 0.04229198255715326, 'feature_fraction': 0.41828618041224247, 'min_data_in_leaf': 1065, 'num_leaves': 1318, 'max_depth': 13, 'lambda_l1': 2.8022613072535156, 'lambda_l2': 4.397016139633597, 'bagging_fraction': 0.7940138994979206}. Best is trial 19 with value: 0.950306083162193.\n"
          ]
        },
        {
          "name": "stdout",
          "output_type": "stream",
          "text": [
            "[Trial 019] AUC = 0.95031\n"
          ]
        },
        {
          "name": "stderr",
          "output_type": "stream",
          "text": [
            "[I 2025-10-07 17:55:40,725] Trial 20 finished with value: 0.9478003566418259 and parameters: {'learning_rate': 0.04233849659060824, 'feature_fraction': 0.6689100301426861, 'min_data_in_leaf': 2117, 'num_leaves': 942, 'max_depth': 11, 'lambda_l1': 2.0311547982166203, 'lambda_l2': 6.622409796349064, 'bagging_fraction': 0.7920807172210893}. Best is trial 19 with value: 0.950306083162193.\n"
          ]
        },
        {
          "name": "stdout",
          "output_type": "stream",
          "text": [
            "[Trial 020] AUC = 0.94780\n"
          ]
        },
        {
          "name": "stderr",
          "output_type": "stream",
          "text": [
            "[I 2025-10-07 18:02:32,351] Trial 21 finished with value: 0.9504030027119814 and parameters: {'learning_rate': 0.04190461913043915, 'feature_fraction': 0.41007000369556784, 'min_data_in_leaf': 1052, 'num_leaves': 1401, 'max_depth': 13, 'lambda_l1': 2.0894029532392873, 'lambda_l2': 4.895183132452648, 'bagging_fraction': 0.8091021641411977}. Best is trial 21 with value: 0.9504030027119814.\n"
          ]
        },
        {
          "name": "stdout",
          "output_type": "stream",
          "text": [
            "[Trial 021] AUC = 0.95040\n"
          ]
        },
        {
          "name": "stderr",
          "output_type": "stream",
          "text": [
            "[I 2025-10-07 18:10:00,772] Trial 22 finished with value: 0.9497432384550016 and parameters: {'learning_rate': 0.032403038221636635, 'feature_fraction': 0.43912819361917516, 'min_data_in_leaf': 1093, 'num_leaves': 1320, 'max_depth': 13, 'lambda_l1': 0.671225782918544, 'lambda_l2': 4.505253374422207, 'bagging_fraction': 0.6780630063420048}. Best is trial 21 with value: 0.9504030027119814.\n"
          ]
        },
        {
          "name": "stdout",
          "output_type": "stream",
          "text": [
            "[Trial 022] AUC = 0.94974\n"
          ]
        },
        {
          "name": "stderr",
          "output_type": "stream",
          "text": [
            "[I 2025-10-07 18:17:27,163] Trial 23 finished with value: 0.9506849206839456 and parameters: {'learning_rate': 0.04998979577080555, 'feature_fraction': 0.42778792497635526, 'min_data_in_leaf': 1033, 'num_leaves': 1336, 'max_depth': 12, 'lambda_l1': 0.6631768032157792, 'lambda_l2': 4.626455917895979, 'bagging_fraction': 0.6827494723074908}. Best is trial 23 with value: 0.9506849206839456.\n"
          ]
        },
        {
          "name": "stdout",
          "output_type": "stream",
          "text": [
            "[Trial 023] AUC = 0.95068\n"
          ]
        },
        {
          "name": "stderr",
          "output_type": "stream",
          "text": [
            "[I 2025-10-07 18:24:52,536] Trial 24 finished with value: 0.9488966212208382 and parameters: {'learning_rate': 0.043185584802839364, 'feature_fraction': 0.5103350703788687, 'min_data_in_leaf': 957, 'num_leaves': 721, 'max_depth': 10, 'lambda_l1': 2.0949811788602517, 'lambda_l2': 5.755384745934922, 'bagging_fraction': 0.7643384312394721}. Best is trial 23 with value: 0.9506849206839456.\n"
          ]
        },
        {
          "name": "stdout",
          "output_type": "stream",
          "text": [
            "[Trial 024] AUC = 0.94890\n"
          ]
        },
        {
          "name": "stderr",
          "output_type": "stream",
          "text": [
            "[I 2025-10-07 18:32:03,533] Trial 25 finished with value: 0.9498365525816717 and parameters: {'learning_rate': 0.04989750646893901, 'feature_fraction': 0.4110708163606959, 'min_data_in_leaf': 1372, 'num_leaves': 1363, 'max_depth': 12, 'lambda_l1': 1.2873112753109561, 'lambda_l2': 6.55292864734372, 'bagging_fraction': 0.706312009555064}. Best is trial 23 with value: 0.9506849206839456.\n"
          ]
        },
        {
          "name": "stdout",
          "output_type": "stream",
          "text": [
            "[Trial 025] AUC = 0.94984\n"
          ]
        },
        {
          "name": "stderr",
          "output_type": "stream",
          "text": [
            "[I 2025-10-07 18:38:22,928] Trial 26 finished with value: 0.9471921926732675 and parameters: {'learning_rate': 0.043502597004369835, 'feature_fraction': 0.5071709938381819, 'min_data_in_leaf': 1987, 'num_leaves': 1101, 'max_depth': 9, 'lambda_l1': 2.8032602639618722, 'lambda_l2': 4.850090584800668, 'bagging_fraction': 0.6375742116994552}. Best is trial 23 with value: 0.9506849206839456.\n"
          ]
        },
        {
          "name": "stdout",
          "output_type": "stream",
          "text": [
            "[Trial 026] AUC = 0.94719\n"
          ]
        },
        {
          "name": "stderr",
          "output_type": "stream",
          "text": [
            "[I 2025-10-07 18:45:23,649] Trial 27 finished with value: 0.9509107382942474 and parameters: {'learning_rate': 0.04996990780126955, 'feature_fraction': 0.3917111192158872, 'min_data_in_leaf': 863, 'num_leaves': 1444, 'max_depth': 11, 'lambda_l1': 1.290965503125351, 'lambda_l2': 3.0649645413674556, 'bagging_fraction': 0.5744418668309329}. Best is trial 27 with value: 0.9509107382942474.\n"
          ]
        },
        {
          "name": "stdout",
          "output_type": "stream",
          "text": [
            "[Trial 027] AUC = 0.95091\n"
          ]
        },
        {
          "name": "stderr",
          "output_type": "stream",
          "text": [
            "[I 2025-10-07 18:50:37,832] Trial 28 finished with value: 0.9423794812427675 and parameters: {'learning_rate': 0.049441905094486926, 'feature_fraction': 0.38026038718217764, 'min_data_in_leaf': 803, 'num_leaves': 1468, 'max_depth': 5, 'lambda_l1': 0.10824268108172541, 'lambda_l2': 2.8340862439971346, 'bagging_fraction': 0.5293153135027875}. Best is trial 27 with value: 0.9509107382942474.\n"
          ]
        },
        {
          "name": "stdout",
          "output_type": "stream",
          "text": [
            "[Trial 028] AUC = 0.94238\n"
          ]
        },
        {
          "name": "stderr",
          "output_type": "stream",
          "text": [
            "[I 2025-10-07 18:53:36,708] Trial 29 finished with value: 0.9360952548214196 and parameters: {'learning_rate': 0.04998092218963951, 'feature_fraction': 0.6142223707636799, 'min_data_in_leaf': 404, 'num_leaves': 396, 'max_depth': 3, 'lambda_l1': 1.4322472743545354, 'lambda_l2': 2.8652213065430208, 'bagging_fraction': 0.5679071850731122}. Best is trial 27 with value: 0.9509107382942474.\n"
          ]
        },
        {
          "name": "stdout",
          "output_type": "stream",
          "text": [
            "[Trial 029] AUC = 0.93610\n"
          ]
        },
        {
          "name": "stderr",
          "output_type": "stream",
          "text": [
            "[I 2025-10-07 19:00:46,944] Trial 30 finished with value: 0.9493338324727698 and parameters: {'learning_rate': 0.04524428176366068, 'feature_fraction': 0.47510583189043176, 'min_data_in_leaf': 2786, 'num_leaves': 979, 'max_depth': 0, 'lambda_l1': 0.28701250490780766, 'lambda_l2': 3.3702111422974292, 'bagging_fraction': 0.6564515577942729}. Best is trial 27 with value: 0.9509107382942474.\n"
          ]
        },
        {
          "name": "stdout",
          "output_type": "stream",
          "text": [
            "[Trial 030] AUC = 0.94933\n"
          ]
        },
        {
          "name": "stderr",
          "output_type": "stream",
          "text": [
            "[I 2025-10-07 19:07:48,129] Trial 31 finished with value: 0.9502637044662906 and parameters: {'learning_rate': 0.04177635241080172, 'feature_fraction': 0.41828604040307893, 'min_data_in_leaf': 1071, 'num_leaves': 1215, 'max_depth': 12, 'lambda_l1': 2.8992051979000943, 'lambda_l2': 4.340105341201157, 'bagging_fraction': 0.5891535913923961}. Best is trial 27 with value: 0.9509107382942474.\n"
          ]
        },
        {
          "name": "stdout",
          "output_type": "stream",
          "text": [
            "[Trial 031] AUC = 0.95026\n"
          ]
        },
        {
          "name": "stderr",
          "output_type": "stream",
          "text": [
            "[I 2025-10-07 19:15:43,629] Trial 32 finished with value: 0.9511038635019939 and parameters: {'learning_rate': 0.04513279318553173, 'feature_fraction': 0.4569109688752243, 'min_data_in_leaf': 899, 'num_leaves': 1480, 'max_depth': 14, 'lambda_l1': 1.1364039077024322, 'lambda_l2': 5.3674832054024355, 'bagging_fraction': 0.7712306006939568}. Best is trial 32 with value: 0.9511038635019939.\n"
          ]
        },
        {
          "name": "stdout",
          "output_type": "stream",
          "text": [
            "[Trial 032] AUC = 0.95110\n"
          ]
        },
        {
          "name": "stderr",
          "output_type": "stream",
          "text": [
            "[I 2025-10-07 19:23:24,170] Trial 33 finished with value: 0.9506800732484383 and parameters: {'learning_rate': 0.04615931835536022, 'feature_fraction': 0.4508682367368803, 'min_data_in_leaf': 1362, 'num_leaves': 1821, 'max_depth': 14, 'lambda_l1': 1.1068045320451707, 'lambda_l2': 5.263086503772041, 'bagging_fraction': 0.8412062537860057}. Best is trial 32 with value: 0.9511038635019939.\n"
          ]
        },
        {
          "name": "stdout",
          "output_type": "stream",
          "text": [
            "[Trial 033] AUC = 0.95068\n"
          ]
        },
        {
          "name": "stderr",
          "output_type": "stream",
          "text": [
            "[I 2025-10-07 19:31:15,772] Trial 34 finished with value: 0.9501979024997473 and parameters: {'learning_rate': 0.04552253393081226, 'feature_fraction': 0.4677247442331644, 'min_data_in_leaf': 1323, 'num_leaves': 1801, 'max_depth': 14, 'lambda_l1': 1.1882475374812504, 'lambda_l2': 7.392571462176242, 'bagging_fraction': 0.843234409556898}. Best is trial 32 with value: 0.9511038635019939.\n"
          ]
        },
        {
          "name": "stdout",
          "output_type": "stream",
          "text": [
            "[Trial 034] AUC = 0.95020\n"
          ]
        },
        {
          "name": "stderr",
          "output_type": "stream",
          "text": [
            "[I 2025-10-07 19:36:42,145] Trial 35 finished with value: 0.9389850086041728 and parameters: {'learning_rate': 0.048159141394410986, 'feature_fraction': 0.5291735974654936, 'min_data_in_leaf': 876, 'num_leaves': 11, 'max_depth': 11, 'lambda_l1': 0.8095698586771576, 'lambda_l2': 6.048886492844683, 'bagging_fraction': 0.5429735301821857}. Best is trial 32 with value: 0.9511038635019939.\n"
          ]
        },
        {
          "name": "stdout",
          "output_type": "stream",
          "text": [
            "[Trial 035] AUC = 0.93899\n"
          ]
        },
        {
          "name": "stderr",
          "output_type": "stream",
          "text": [
            "[I 2025-10-07 19:43:35,317] Trial 36 finished with value: 0.9506953964926353 and parameters: {'learning_rate': 0.045181522985415126, 'feature_fraction': 0.45071108624905126, 'min_data_in_leaf': 1240, 'num_leaves': 1574, 'max_depth': 14, 'lambda_l1': 1.5863411165539931, 'lambda_l2': 7.738539685425812, 'bagging_fraction': 0.7200761442335502}. Best is trial 32 with value: 0.9511038635019939.\n"
          ]
        },
        {
          "name": "stdout",
          "output_type": "stream",
          "text": [
            "[Trial 036] AUC = 0.95070\n"
          ]
        },
        {
          "name": "stderr",
          "output_type": "stream",
          "text": [
            "[I 2025-10-07 19:50:55,232] Trial 37 finished with value: 0.9457170936561246 and parameters: {'learning_rate': 0.011311001503909346, 'feature_fraction': 0.5729594558291272, 'min_data_in_leaf': 500, 'num_leaves': 1473, 'max_depth': 14, 'lambda_l1': 1.6870586124731892, 'lambda_l2': 8.337604807807724, 'bagging_fraction': 0.7066161669036156}. Best is trial 32 with value: 0.9511038635019939.\n"
          ]
        },
        {
          "name": "stdout",
          "output_type": "stream",
          "text": [
            "[Trial 037] AUC = 0.94572\n"
          ]
        },
        {
          "name": "stderr",
          "output_type": "stream",
          "text": [
            "[I 2025-10-07 19:57:50,946] Trial 38 finished with value: 0.9477695245345343 and parameters: {'learning_rate': 0.04468937960981496, 'feature_fraction': 0.5415962513022258, 'min_data_in_leaf': 1224, 'num_leaves': 2029, 'max_depth': 10, 'lambda_l1': 0.02255608048533375, 'lambda_l2': 7.376363129567318, 'bagging_fraction': 0.669829387457104}. Best is trial 32 with value: 0.9511038635019939.\n"
          ]
        },
        {
          "name": "stdout",
          "output_type": "stream",
          "text": [
            "[Trial 038] AUC = 0.94777\n"
          ]
        },
        {
          "name": "stderr",
          "output_type": "stream",
          "text": [
            "[I 2025-10-07 20:02:46,026] Trial 39 finished with value: 0.9428041283553407 and parameters: {'learning_rate': 0.023058789304462028, 'feature_fraction': 0.6112240975044954, 'min_data_in_leaf': 1785, 'num_leaves': 1549, 'max_depth': 9, 'lambda_l1': 0.6528969870892638, 'lambda_l2': 9.910461188306565, 'bagging_fraction': 0.7586431391304574}. Best is trial 32 with value: 0.9511038635019939.\n"
          ]
        },
        {
          "name": "stdout",
          "output_type": "stream",
          "text": [
            "[Trial 039] AUC = 0.94280\n"
          ]
        },
        {
          "name": "stderr",
          "output_type": "stream",
          "text": [
            "[I 2025-10-07 20:10:26,406] Trial 40 finished with value: 0.9475030658816307 and parameters: {'learning_rate': 0.02991520643304652, 'feature_fraction': 0.49080330913220904, 'min_data_in_leaf': 1176, 'num_leaves': 1212, 'max_depth': 12, 'lambda_l1': 4.289842461199591, 'lambda_l2': 8.095519431321136, 'bagging_fraction': 0.7262896515739223}. Best is trial 32 with value: 0.9511038635019939.\n"
          ]
        },
        {
          "name": "stdout",
          "output_type": "stream",
          "text": [
            "[Trial 040] AUC = 0.94750\n"
          ]
        },
        {
          "name": "stderr",
          "output_type": "stream",
          "text": [
            "[I 2025-10-07 20:18:15,029] Trial 41 finished with value: 0.949573687784414 and parameters: {'learning_rate': 0.047410788391816144, 'feature_fraction': 0.446361341538103, 'min_data_in_leaf': 1407, 'num_leaves': 1778, 'max_depth': 14, 'lambda_l1': 1.0471547726574555, 'lambda_l2': 8.79287072555312, 'bagging_fraction': 0.8792382394624338}. Best is trial 32 with value: 0.9511038635019939.\n"
          ]
        },
        {
          "name": "stdout",
          "output_type": "stream",
          "text": [
            "[Trial 041] AUC = 0.94957\n"
          ]
        },
        {
          "name": "stderr",
          "output_type": "stream",
          "text": [
            "[I 2025-10-07 20:24:53,334] Trial 42 finished with value: 0.9500591201604163 and parameters: {'learning_rate': 0.04635330943144981, 'feature_fraction': 0.377967982028389, 'min_data_in_leaf': 1547, 'num_leaves': 2018, 'max_depth': 14, 'lambda_l1': 1.6362118360499827, 'lambda_l2': 5.128801824943622, 'bagging_fraction': 0.8462084125264187}. Best is trial 32 with value: 0.9511038635019939.\n"
          ]
        },
        {
          "name": "stdout",
          "output_type": "stream",
          "text": [
            "[Trial 042] AUC = 0.95006\n"
          ]
        },
        {
          "name": "stderr",
          "output_type": "stream",
          "text": [
            "[I 2025-10-07 20:32:06,146] Trial 43 finished with value: 0.9492695683401655 and parameters: {'learning_rate': 0.047969567903772846, 'feature_fraction': 0.44438643316756743, 'min_data_in_leaf': 1770, 'num_leaves': 1802, 'max_depth': 14, 'lambda_l1': 3.130465253892294, 'lambda_l2': 6.207358263707232, 'bagging_fraction': 0.77326241227053}. Best is trial 32 with value: 0.9511038635019939.\n"
          ]
        },
        {
          "name": "stdout",
          "output_type": "stream",
          "text": [
            "[Trial 043] AUC = 0.94927\n"
          ]
        },
        {
          "name": "stderr",
          "output_type": "stream",
          "text": [
            "[I 2025-10-07 20:37:53,376] Trial 44 finished with value: 0.946552803722245 and parameters: {'learning_rate': 0.017547217769607527, 'feature_fraction': 0.322682875022102, 'min_data_in_leaf': 897, 'num_leaves': 1551, 'max_depth': 11, 'lambda_l1': 0.5449476427933653, 'lambda_l2': 3.4693937049026555, 'bagging_fraction': 0.6306968614293471}. Best is trial 32 with value: 0.9511038635019939.\n"
          ]
        },
        {
          "name": "stdout",
          "output_type": "stream",
          "text": [
            "[Trial 044] AUC = 0.94655\n"
          ]
        },
        {
          "name": "stderr",
          "output_type": "stream",
          "text": [
            "[I 2025-10-07 20:43:51,085] Trial 45 finished with value: 0.9505396352622537 and parameters: {'learning_rate': 0.044342143291580434, 'feature_fraction': 0.7974015810798565, 'min_data_in_leaf': 1275, 'num_leaves': 1719, 'max_depth': 13, 'lambda_l1': 2.3765300737136865, 'lambda_l2': 5.3152550074223806, 'bagging_fraction': 0.5006114263728831}. Best is trial 32 with value: 0.9511038635019939.\n"
          ]
        },
        {
          "name": "stdout",
          "output_type": "stream",
          "text": [
            "[Trial 045] AUC = 0.95054\n"
          ]
        },
        {
          "name": "stderr",
          "output_type": "stream",
          "text": [
            "[I 2025-10-07 20:49:35,152] Trial 46 finished with value: 0.9470448954374794 and parameters: {'learning_rate': 0.046706409708095545, 'feature_fraction': 0.34419197632470155, 'min_data_in_leaf': 812, 'num_leaves': 2070, 'max_depth': 8, 'lambda_l1': 3.395386664828557, 'lambda_l2': 6.974212424491538, 'bagging_fraction': 0.7320141667991208}. Best is trial 32 with value: 0.9511038635019939.\n"
          ]
        },
        {
          "name": "stdout",
          "output_type": "stream",
          "text": [
            "[Trial 046] AUC = 0.94704\n"
          ]
        },
        {
          "name": "stderr",
          "output_type": "stream",
          "text": [
            "[I 2025-10-07 20:56:15,723] Trial 47 finished with value: 0.9492956991474 and parameters: {'learning_rate': 0.04011743816100042, 'feature_fraction': 0.3885055633677603, 'min_data_in_leaf': 1469, 'num_leaves': 1686, 'max_depth': 12, 'lambda_l1': 1.8627113368961887, 'lambda_l2': 3.650242325306491, 'bagging_fraction': 0.599460998071348}. Best is trial 32 with value: 0.9511038635019939.\n"
          ]
        },
        {
          "name": "stdout",
          "output_type": "stream",
          "text": [
            "[Trial 047] AUC = 0.94930\n"
          ]
        },
        {
          "name": "stderr",
          "output_type": "stream",
          "text": [
            "[I 2025-10-07 21:03:02,322] Trial 48 finished with value: 0.9501246012942121 and parameters: {'learning_rate': 0.04779660169974502, 'feature_fraction': 0.2906545627701783, 'min_data_in_leaf': 1687, 'num_leaves': 1036, 'max_depth': 15, 'lambda_l1': 1.0391796320489604, 'lambda_l2': 1.3534275894372367, 'bagging_fraction': 0.832966306981482}. Best is trial 32 with value: 0.9511038635019939.\n"
          ]
        },
        {
          "name": "stdout",
          "output_type": "stream",
          "text": [
            "[Trial 048] AUC = 0.95012\n"
          ]
        },
        {
          "name": "stderr",
          "output_type": "stream",
          "text": [
            "[I 2025-10-07 21:11:38,464] Trial 49 finished with value: 0.9522800675145107 and parameters: {'learning_rate': 0.04481089925392504, 'feature_fraction': 0.5170503571975581, 'min_data_in_leaf': 296, 'num_leaves': 2341, 'max_depth': 14, 'lambda_l1': 0.4514108759697508, 'lambda_l2': 9.426450679561881, 'bagging_fraction': 0.886052537529134}. Best is trial 49 with value: 0.9522800675145107.\n"
          ]
        },
        {
          "name": "stdout",
          "output_type": "stream",
          "text": [
            "[Trial 049] AUC = 0.95228\n"
          ]
        }
      ],
      "source": [
        "# -------------------------------\n",
        "# 3. Ejecución de la optimización\n",
        "# -------------------------------\n",
        "study.optimize(\n",
        "    objective,\n",
        "    n_trials=PARAM[\"hyperparametertuning\"][\"iteraciones\"],       # equivalente a PARAM$hyperparametertuning$iteraciones\n",
        "    gc_after_trial=True\n",
        ")"
      ]
    },
    {
      "cell_type": "code",
      "execution_count": 35,
      "metadata": {},
      "outputs": [
        {
          "name": "stdout",
          "output_type": "stream",
          "text": [
            "Mejores hiperparámetros:\n",
            "{'learning_rate': 0.04481089925392504, 'feature_fraction': 0.5170503571975581, 'min_data_in_leaf': 296, 'num_leaves': 2341, 'max_depth': 14, 'lambda_l1': 0.4514108759697508, 'lambda_l2': 9.426450679561881, 'bagging_fraction': 0.886052537529134}\n",
            "Mejor AUC promedio: 0.95228\n"
          ]
        }
      ],
      "source": [
        "# -------------------------------\n",
        "# 4. Resultado final\n",
        "# -------------------------------\n",
        "print(\"Mejores hiperparámetros:\")\n",
        "print(study.best_params)\n",
        "print(f\"Mejor AUC promedio: {study.best_value:.5f}\")"
      ]
    },
    {
      "cell_type": "code",
      "execution_count": 36,
      "metadata": {},
      "outputs": [
        {
          "name": "stdout",
          "output_type": "stream",
          "text": [
            "['number', 'value', 'datetime_start', 'datetime_complete', 'duration', 'params_bagging_fraction', 'params_feature_fraction', 'params_lambda_l1', 'params_lambda_l2', 'params_learning_rate', 'params_max_depth', 'params_min_data_in_leaf', 'params_num_leaves', 'state']\n",
            "   number     value             datetime_start          datetime_complete  \\\n",
            "0       0  0.931787 2025-10-07 15:52:08.414652 2025-10-07 15:55:58.761615   \n",
            "1       1  0.944122 2025-10-07 15:55:58.862253 2025-10-07 16:02:53.098566   \n",
            "2       2  0.943224 2025-10-07 16:02:53.199259 2025-10-07 16:08:22.900432   \n",
            "3       3  0.946841 2025-10-07 16:08:23.012559 2025-10-07 16:15:43.786845   \n",
            "4       4  0.940426 2025-10-07 16:15:43.886431 2025-10-07 16:22:15.405563   \n",
            "\n",
            "                duration  params_bagging_fraction  params_feature_fraction  \\\n",
            "0 0 days 00:03:50.346963                 0.861386                 0.582788   \n",
            "1 0 days 00:06:54.236313                 0.690445                 0.450713   \n",
            "2 0 days 00:05:29.701173                 0.519240                 0.310216   \n",
            "3 0 days 00:07:20.774286                 0.622686                 0.548387   \n",
            "4 0 days 00:06:31.519132                 0.876986                 0.562883   \n",
            "\n",
            "   params_lambda_l1  params_lambda_l2  params_learning_rate  params_max_depth  \\\n",
            "0          0.700857          3.399747              0.046017                 2   \n",
            "1          9.236569          9.854816              0.026810                -1   \n",
            "2          9.976494          4.949408              0.046186                13   \n",
            "3          3.914438          7.694661              0.026290                13   \n",
            "4          9.234306          0.352096              0.017069                10   \n",
            "\n",
            "   params_min_data_in_leaf  params_num_leaves     state  \n",
            "0                     2627               2264  COMPLETE  \n",
            "1                     1241               1656  COMPLETE  \n",
            "2                     1223                179  COMPLETE  \n",
            "3                     1778                547  COMPLETE  \n",
            "4                     2481               2155  COMPLETE  \n"
          ]
        }
      ],
      "source": [
        "# Obtener los resultados de la optimización\n",
        "df_bayesiana = study.trials_dataframe()\n",
        "\n",
        "# Mostrar las columnas disponibles (hiperparámetros + AUC)\n",
        "print(df_bayesiana.columns.tolist())\n",
        "\n",
        "# Ver las primeras filas\n",
        "print(df_bayesiana.head())"
      ]
    },
    {
      "cell_type": "code",
      "execution_count": 37,
      "metadata": {},
      "outputs": [
        {
          "name": "stdout",
          "output_type": "stream",
          "text": [
            "Guardado log de la Bayesian Optimization en: ../../buckets/b1/exp/HT4942/BO_log.txt\n"
          ]
        }
      ],
      "source": [
        "# -------------------------------\n",
        "# Guardado de resultados Bayesiana\n",
        "# -------------------------------\n",
        "\n",
        "# Agregar columna iter (número de iteración)\n",
        "df_bayesiana[\"iter\"] = range(1, len(df_bayesiana) + 1)\n",
        "\n",
        "# Ordenar por AUC (valor) descendente\n",
        "df_bayesiana = df_bayesiana.sort_values(by=\"value\", ascending=False)\n",
        "\n",
        "# Guardar log de resultados en el experimento\n",
        "bo_log_path = os.path.join(experimento_path, \"BO_log.txt\")\n",
        "df_bayesiana.to_csv(bo_log_path, sep=\"\\t\", index=False)\n",
        "print(f\"Guardado log de la Bayesian Optimization en: {bo_log_path}\")\n"
      ]
    },
    {
      "cell_type": "code",
      "execution_count": 38,
      "metadata": {},
      "outputs": [
        {
          "name": "stdout",
          "output_type": "stream",
          "text": [
            "Mejor AUC: 0.95228\n",
            "Mejores hiperparámetros: {'learning_rate': 0.04481089925392504, 'feature_fraction': 0.5170503571975581, 'min_data_in_leaf': 296, 'num_leaves': 2341, 'max_depth': 14, 'lambda_l1': 0.4514108759697508, 'lambda_l2': 9.426450679561881, 'bagging_fraction': 0.886052537529134}\n",
            "Resultados guardados en: ../../buckets/b1/exp/HT4942/PARAM.yml\n"
          ]
        }
      ],
      "source": [
        "# Extraer los mejores hiperparámetros\n",
        "best_params = study.best_params\n",
        "best_auc = study.best_value\n",
        "\n",
        "# Guardar mejores hiperparámetros y AUC en YAML\n",
        "param_yml_path = os.path.join(experimento_path, \"PARAM.yml\")\n",
        "PARAM_out = {\n",
        "    \"out\": {\n",
        "        \"lgbm\": {\n",
        "            \"mejores_hiperparametros\": best_params,\n",
        "            \"y\": float(best_auc)\n",
        "        }\n",
        "    }\n",
        "}\n",
        "\n",
        "with open(param_yml_path, \"w\") as f:\n",
        "    yaml.safe_dump(PARAM_out, f, sort_keys=False)\n",
        "\n",
        "print(f\"Mejor AUC: {best_auc:.5f}\")\n",
        "print(\"Mejores hiperparámetros:\", best_params)\n",
        "print(f\"Resultados guardados en: {param_yml_path}\")"
      ]
    },
    {
      "cell_type": "markdown",
      "metadata": {
        "id": "TKsVZmAnhwX-"
      },
      "source": [
        "## Produccion"
      ]
    },
    {
      "cell_type": "markdown",
      "metadata": {
        "id": "RQ_C33Tr5B_9"
      },
      "source": [
        "### Final Training\n",
        "Construyo el modelo final, que es uno solo, no hace ningun tipo de particion < training, validation, testing>]"
      ]
    },
    {
      "cell_type": "code",
      "execution_count": null,
      "metadata": {
        "id": "eDqfyA14hzwv"
      },
      "outputs": [],
      "source": [
        "base_exp_dir = \"exp\"\n",
        "experimento = f\"exp{PARAM['experimento']}\"\n",
        "experimento_path = os.path.join(base_exp_dir, experimento)\n",
        "\n",
        "os.makedirs(experimento_path, exist_ok=True)"
      ]
    },
    {
      "cell_type": "markdown",
      "metadata": {
        "id": "8qFmFivf5Iet"
      },
      "source": [
        "#### Final Training Dataset\n",
        "\n",
        "Aqui esta la gran decision de en qué meses hago el Final Training\n",
        "<br> debo utilizar los mejores hiperparámetros que encontré en la  optimización bayesiana"
      ]
    },
    {
      "cell_type": "code",
      "execution_count": 40,
      "metadata": {
        "id": "lg5WVZncvc7H"
      },
      "outputs": [],
      "source": [
        "# clase01\n",
        "dataset = dataset.with_columns(\n",
        "    (pl.col(\"clase_ternaria\").is_in([\"BAJA+2\", \"BAJA+1\"]).cast(pl.Int8)).alias(\"clase01\")\n",
        ")"
      ]
    },
    {
      "cell_type": "code",
      "execution_count": 41,
      "metadata": {
        "id": "yc9QzXREv0xf"
      },
      "outputs": [
        {
          "name": "stdout",
          "output_type": "stream",
          "text": [
            "shape: (3, 2)\n",
            "┌────────────────┬────────┐\n",
            "│ clase_ternaria ┆ N      │\n",
            "│ ---            ┆ ---    │\n",
            "│ str            ┆ u32    │\n",
            "╞════════════════╪════════╡\n",
            "│ BAJA+1         ┆ 2492   │\n",
            "│ BAJA+2         ┆ 2808   │\n",
            "│ CONTINUA       ┆ 481491 │\n",
            "└────────────────┴────────┘\n"
          ]
        }
      ],
      "source": [
        "# --- Filtrar por los meses de entrenamiento final ---\n",
        "dataset_train = dataset.filter(pl.col(\"foto_mes\").is_in(PARAM[\"train_final\"]))\n",
        "\n",
        "resumen = (\n",
        "    dataset_train\n",
        "    .group_by(\"clase_ternaria\")\n",
        "    .len()\n",
        "    .rename({\"len\": \"N\"})\n",
        "    .sort(\"clase_ternaria\")\n",
        ")\n",
        "\n",
        "print(resumen)"
      ]
    },
    {
      "cell_type": "code",
      "execution_count": 42,
      "metadata": {
        "id": "thjdqEBLuvNt"
      },
      "outputs": [
        {
          "name": "stdout",
          "output_type": "stream",
          "text": [
            "nrow_final: 486791\n",
            "ncol_final: 154\n"
          ]
        }
      ],
      "source": [
        "# dejo los datos en el formato que necesita LightGBM\n",
        "# Features y label sobre todo el dataset_train (sin máscara)\n",
        "X_final = (\n",
        "    dataset_train\n",
        "    .select(campos_buenos)\n",
        "    # opcional: emular data.matrix y forzar numérico\n",
        "    # .with_columns(pl.all().cast(pl.Float32))\n",
        "    .to_numpy()\n",
        ")\n",
        "y_final = dataset_train[\"clase01\"].to_numpy()\n",
        "\n",
        "dtrain_final = lgb.Dataset(\n",
        "    data=X_final,\n",
        "    label=y_final,\n",
        "    free_raw_data=False\n",
        ")\n",
        "\n",
        "print(\"nrow_final:\", X_final.shape[0])\n",
        "print(\"ncol_final:\", X_final.shape[1])"
      ]
    },
    {
      "cell_type": "markdown",
      "metadata": {
        "id": "VNUa-WSz5Oqu"
      },
      "source": [
        "#### Final Training Hyperparameters"
      ]
    },
    {
      "cell_type": "code",
      "execution_count": 43,
      "metadata": {
        "id": "FgCcvBfEwImu"
      },
      "outputs": [
        {
          "name": "stdout",
          "output_type": "stream",
          "text": [
            "Parámetros finales de LightGBM:\n",
            " boosting: gbdt\n",
            " objective: binary\n",
            " metric: auc\n",
            " first_metric_only: False\n",
            " boost_from_average: True\n",
            " feature_pre_filter: False\n",
            " force_row_wise: True\n",
            " verbosity: -100\n",
            " seed: 200357\n",
            " min_gain_to_split: 0\n",
            " min_sum_hessian_in_leaf: 0.001\n",
            " max_bin: 31\n",
            " pos_bagging_fraction: 1.0\n",
            " neg_bagging_fraction: 1.0\n",
            " is_unbalance: False\n",
            " scale_pos_weight: 1.0\n",
            " max_drop: 50\n",
            " skip_drop: 0.5\n",
            " extra_trees: False\n",
            " num_iterations: 1200\n",
            " learning_rate: 0.04481089925392504\n",
            " feature_fraction: 0.5170503571975581\n",
            " min_data_in_leaf: 296\n",
            " num_leaves: 2341\n",
            " max_depth: 14\n",
            " lambda_l1: 0.4514108759697508\n",
            " lambda_l2: 9.426450679561881\n",
            " bagging_fraction: 0.886052537529134\n"
          ]
        }
      ],
      "source": [
        "# Fusionar parámetros fijos con los óptimos encontrados\n",
        "param_final = {**PARAM[\"lgbm\"][\"param_fijos\"], **best_params}\n",
        "\n",
        "# Mostrar el resultado final\n",
        "print(\"Parámetros finales de LightGBM:\")\n",
        "for k, v in param_final.items():\n",
        "    print(f\" {k}: {v}\")"
      ]
    },
    {
      "cell_type": "markdown",
      "metadata": {
        "id": "TZIYn4l95TBH"
      },
      "source": [
        "#### Training\n",
        "Genero el modelo final, siempre sobre TODOS los datos de  final_train, sin hacer ningun tipo de undersampling de la clase mayoritaria y mucho menos cross validation."
      ]
    },
    {
      "cell_type": "code",
      "execution_count": 44,
      "metadata": {
        "id": "vPLsd4mMRe4u"
      },
      "outputs": [
        {
          "name": "stdout",
          "output_type": "stream",
          "text": [
            " Parámetros normalizados:\n",
            "min_data_in_leaf ajustado: 296\n"
          ]
        }
      ],
      "source": [
        "# Copiar los parámetros finales\n",
        "param_normalizado = param_final.copy()\n",
        "\n",
        "# Ajustar min_data_in_leaf según el undersampling usado en la BO\n",
        "param_normalizado[\"min_data_in_leaf\"] = round(\n",
        "    param_final[\"min_data_in_leaf\"] / PARAM[\"trainingstrategy\"][\"undersampling\"]\n",
        ")\n",
        "\n",
        "print(\" Parámetros normalizados:\")\n",
        "print(f\"min_data_in_leaf ajustado: {param_normalizado['min_data_in_leaf']}\")"
      ]
    },
    {
      "cell_type": "code",
      "execution_count": 45,
      "metadata": {
        "id": "WRI_-taRwOXO"
      },
      "outputs": [],
      "source": [
        "# Entrenar el modelo final de LightGBM\n",
        "modelo_final = lgb.train(\n",
        "    params=param_normalizado,\n",
        "    train_set=dtrain_final\n",
        ")"
      ]
    },
    {
      "cell_type": "code",
      "execution_count": 46,
      "metadata": {},
      "outputs": [],
      "source": [
        "gain = modelo_final.feature_importance(importance_type=\"gain\")\n",
        "split = modelo_final.feature_importance(importance_type=\"split\")\n",
        "feat = modelo_final.feature_name()\n",
        "\n",
        "tb_importancia = pl.DataFrame({\n",
        "    \"Feature\": feat,\n",
        "    \"Gain\": gain,\n",
        "    \"Split\": split\n",
        "})\n",
        "\n",
        "tb_importancia = tb_importancia.with_columns(\n",
        "    pl.Series(\"Feature\", campos_buenos)\n",
        ")\n",
        "\n",
        "archivo_importancia = os.path.join(experimento_path, \"impo.txt\")\n",
        "tb_importancia.write_csv(archivo_importancia, separator=\"\\t\")\n"
      ]
    },
    {
      "cell_type": "code",
      "execution_count": 47,
      "metadata": {
        "id": "lZ3sLmbh0kFj"
      },
      "outputs": [
        {
          "name": "stdout",
          "output_type": "stream",
          "text": [
            "Modelo final guardado en: ../../buckets/b1/exp/exp4942/modelo.txt\n"
          ]
        }
      ],
      "source": [
        "# Definir ruta completa dentro del experimento\n",
        "modelo_path = os.path.join(experimento_path, \"modelo.txt\")\n",
        "\n",
        "# Guardar el modelo final en formato texto (igual que R)\n",
        "modelo_final.save_model(modelo_path)\n",
        "print(f\"Modelo final guardado en: {modelo_path}\")"
      ]
    },
    {
      "cell_type": "markdown",
      "metadata": {
        "id": "VEtp2--t5Ymg"
      },
      "source": [
        "### Scoring"
      ]
    },
    {
      "cell_type": "markdown",
      "metadata": {
        "id": "hI5008Mj5ZdI"
      },
      "source": [
        "Aplico el modelo final a los datos del futuro"
      ]
    },
    {
      "cell_type": "code",
      "execution_count": 48,
      "metadata": {},
      "outputs": [],
      "source": [
        "# aplico el modelo a los datos sin clase\n",
        "dfuture = dataset.filter(pl.col(\"foto_mes\").is_in(PARAM[\"future\"]))\n",
        "\n",
        "# aplicar el modelo a los datos nuevos\n",
        "prediccion = modelo_final.predict(\n",
        "    dfuture.select(campos_buenos).to_numpy()\n",
        ")"
      ]
    },
    {
      "cell_type": "code",
      "execution_count": 49,
      "metadata": {
        "id": "M9_NCquymhtF"
      },
      "outputs": [],
      "source": [
        "# inicilizo el dataset drealidad\n",
        "drealidad = realidad_inicializar(dfuture, PARAM)"
      ]
    },
    {
      "cell_type": "code",
      "execution_count": 50,
      "metadata": {},
      "outputs": [
        {
          "data": {
            "text/plain": [
              "(163418, 4)"
            ]
          },
          "execution_count": 50,
          "metadata": {},
          "output_type": "execute_result"
        }
      ],
      "source": [
        "drealidad.shape"
      ]
    },
    {
      "cell_type": "markdown",
      "metadata": {
        "id": "D26rNRh55gpw"
      },
      "source": [
        "#### Tabla Prediccion"
      ]
    },
    {
      "cell_type": "code",
      "execution_count": 51,
      "metadata": {},
      "outputs": [],
      "source": [
        "# tabla de prediccion\n",
        "tb_prediccion = (\n",
        "    dfuture\n",
        "    .select([\"numero_de_cliente\", \"foto_mes\"])\n",
        "    .with_columns(pl.Series(\"prob\", prediccion))\n",
        ")"
      ]
    },
    {
      "cell_type": "markdown",
      "metadata": {
        "id": "jOt4eG_55ltv"
      },
      "source": [
        "Kaggle Competition Submit"
      ]
    },
    {
      "cell_type": "code",
      "execution_count": 52,
      "metadata": {
        "id": "Vdu3moTfJ1Vl"
      },
      "outputs": [
        {
          "name": "stdout",
          "output_type": "stream",
          "text": [
            "[6000, 6500, 7000, 7500, 8000, 8500, 9000, 9500, 10000, 10500, 11000, 11500, 12000, 12500, 13000, 13500, 14000, 14500, 15000, 15500, 16000, 16500, 17000, 17500, 18000, 18500, 19000]\n"
          ]
        }
      ],
      "source": [
        "print(PARAM[\"cortes\"])"
      ]
    },
    {
      "cell_type": "code",
      "execution_count": 53,
      "metadata": {},
      "outputs": [
        {
          "name": "stdout",
          "output_type": "stream",
          "text": [
            "Envios=6000\t TOTAL=324000000  Public=341266666.6666667 Private=316600000.0\n",
            "Envios=6500\t TOTAL=328400000  Public=358533333.3333334 Private=315485714.2857143\n",
            "Envios=7000\t TOTAL=334400000  Public=359333333.3333334 Private=323714285.71428573\n",
            "Envios=7500\t TOTAL=338800000  Public=367066666.6666667 Private=326685714.2857143\n",
            "Envios=8000\t TOTAL=344800000  Public=365666666.6666667 Private=335857142.85714287\n",
            "Envios=8500\t TOTAL=348400000  Public=374400000.0 Private=337257142.85714287\n",
            "Envios=9000\t TOTAL=352000000  Public=373733333.3333334 Private=342685714.2857143\n",
            "Envios=9500\t TOTAL=354000000  Public=376933333.3333334 Private=344171428.5714286\n",
            "Envios=10000\t TOTAL=355200000  Public=371600000.0 Private=348171428.5714286\n",
            "Envios=10500\t TOTAL=354000000  Public=366733333.3333334 Private=348542857.1428572\n",
            "Envios=11000\t TOTAL=356000000  Public=367066666.6666667 Private=351257142.85714287\n",
            "Envios=11500\t TOTAL=357200000  Public=366333333.3333334 Private=353285714.2857143\n",
            "Envios=12000\t TOTAL=353600000  Public=364066666.6666667 Private=349114285.71428573\n",
            "Envios=12500\t TOTAL=350000000  Public=359533333.3333334 Private=345914285.71428573\n",
            "Envios=13000\t TOTAL=348000000  Public=358933333.3333334 Private=343314285.71428573\n",
            "Envios=13500\t TOTAL=344400000  Public=356866666.6666667 Private=339057142.85714287\n",
            "Envios=14000\t TOTAL=340800000  Public=354133333.3333334 Private=335085714.2857143\n",
            "Envios=14500\t TOTAL=335600000  Public=348666666.6666667 Private=330000000.0\n",
            "Envios=15000\t TOTAL=334400000  Public=353133333.3333334 Private=326371428.5714286\n",
            "Envios=15500\t TOTAL=329200000  Public=342866666.6666667 Private=323342857.14285713\n",
            "Envios=16000\t TOTAL=325600000  Public=343600000.0 Private=317885714.2857143\n",
            "Envios=16500\t TOTAL=320400000  Public=338600000.0 Private=312600000.0\n",
            "Envios=17000\t TOTAL=316800000  Public=337066666.6666667 Private=308114285.71428573\n",
            "Envios=17500\t TOTAL=311600000  Public=329933333.3333334 Private=303742857.14285713\n",
            "Envios=18000\t TOTAL=308800000  Public=321733333.3333334 Private=303257142.85714287\n",
            "Envios=18500\t TOTAL=304400000  Public=312000000.0 Private=301142857.14285713\n",
            "Envios=19000\t TOTAL=304000000  Public=309466666.6666667 Private=301657142.85714287\n"
          ]
        }
      ],
      "source": [
        "# ordenar por probabilidad descendente\n",
        "tb_prediccion_sorted = tb_prediccion.sort(\"prob\", descending=True)\n",
        "\n",
        "for envios in PARAM[\"cortes\"]:\n",
        "    pred = (\n",
        "        tb_prediccion_sorted\n",
        "        .with_row_index(\"rn\")  # <- reemplaza with_row_count\n",
        "        .with_columns(\n",
        "            pl.when(pl.col(\"rn\") < envios).then(1).otherwise(0).alias(\"Predicted\")\n",
        "        )\n",
        "        .drop(\"rn\")\n",
        "    )\n",
        "    res = realidad_evaluar(drealidad, pred)\n",
        "    print(f\"Envios={envios}\\t TOTAL={res['total']}  Public={res['public']} Private={res['private']}\")\n"
      ]
    },
    {
      "cell_type": "code",
      "execution_count": 54,
      "metadata": {
        "id": "B9tB2X4439Hg"
      },
      "outputs": [],
      "source": [
        "param_path = os.path.join(experimento_path, \"PARAM.yml\")\n",
        "\n",
        "# Guardar PARAM en YAML\n",
        "with open(param_path, \"w\", encoding=\"utf-8\") as f:\n",
        "    yaml.safe_dump(PARAM, f, sort_keys=False, allow_unicode=True)"
      ]
    },
    {
      "cell_type": "code",
      "execution_count": 55,
      "metadata": {
        "id": "9zA_W25c15DP"
      },
      "outputs": [
        {
          "name": "stdout",
          "output_type": "stream",
          "text": [
            "Tue Oct 07 21:13:55 2025\n"
          ]
        }
      ],
      "source": [
        "print(datetime.now().strftime(\"%a %b %d %X %Y\"))"
      ]
    },
    {
      "cell_type": "markdown",
      "metadata": {},
      "source": [
        "## Kaggle Submission"
      ]
    },
    {
      "cell_type": "code",
      "execution_count": 56,
      "metadata": {},
      "outputs": [
        {
          "name": "stdout",
          "output_type": "stream",
          "text": [
            "(164313, 156)\n",
            "shape: (1, 2)\n",
            "┌──────────┬────────┐\n",
            "│ foto_mes ┆ N      │\n",
            "│ ---      ┆ ---    │\n",
            "│ i64      ┆ u32    │\n",
            "╞══════════╪════════╡\n",
            "│ 202106   ┆ 164313 │\n",
            "└──────────┴────────┘\n"
          ]
        }
      ],
      "source": [
        "# datos sin clase (kaggle)\n",
        "dfuture = dataset.filter(pl.col(\"foto_mes\").is_in(PARAM[\"kaggle\"]))\n",
        "\n",
        "# aplicar el modelo a los datos nuevos\n",
        "X_future = dfuture.select(campos_buenos).to_numpy()\n",
        "prediccion = modelo_final.predict(X_future)\n",
        "\n",
        "# dimensiones y tabla de foto_mes\n",
        "print(dfuture.shape)\n",
        "print(\n",
        "    dfuture.group_by(\"foto_mes\")\n",
        "           .len()\n",
        "           .rename({\"len\": \"N\"})\n",
        "           .sort(\"foto_mes\")\n",
        ")"
      ]
    },
    {
      "cell_type": "code",
      "execution_count": 57,
      "metadata": {},
      "outputs": [
        {
          "data": {
            "text/plain": [
              "(164313, 4)"
            ]
          },
          "execution_count": 57,
          "metadata": {},
          "output_type": "execute_result"
        }
      ],
      "source": [
        "# inicilizo el dataset  drealidad\n",
        "drealidad = realidad_inicializar(dfuture, PARAM)\n",
        "drealidad.shape"
      ]
    },
    {
      "cell_type": "code",
      "execution_count": 58,
      "metadata": {},
      "outputs": [],
      "source": [
        "# tabla de predicción\n",
        "tb_prediccion = (\n",
        "    dfuture\n",
        "    .select([\"numero_de_cliente\", \"foto_mes\"])\n",
        "    .with_columns(pl.Series(\"prob\", prediccion))\n",
        ")\n",
        "\n",
        "# grabo las probabilidades del modelo\n",
        "archivo_prediccion = os.path.join(experimento_path, \"prediccion.txt\")\n",
        "tb_prediccion.write_csv(archivo_prediccion, separator=\"\\t\")"
      ]
    },
    {
      "cell_type": "code",
      "execution_count": 59,
      "metadata": {},
      "outputs": [],
      "source": [
        "# ordenar por probabilidad descendente\n",
        "tb_prediccion_sorted = tb_prediccion.sort(\"prob\", descending=True)\n",
        "\n",
        "# crear carpeta\n",
        "kaggle_path = os.path.join(experimento_path, \"kaggle\")\n",
        "os.makedirs(kaggle_path, exist_ok=True)\n",
        "\n",
        "for envios in PARAM[\"cortes\"]:\n",
        "    # Predicted = 1 para los primeros 'envios', 0 para el resto\n",
        "    pred = (\n",
        "        tb_prediccion_sorted\n",
        "        .with_row_index(\"rn\")\n",
        "        .with_columns(\n",
        "            pl.when(pl.col(\"rn\") < envios).then(1).otherwise(0).alias(\"Predicted\")\n",
        "        )\n",
        "        .select([\"numero_de_cliente\", \"Predicted\"])\n",
        "    )\n",
        "\n",
        "    archivo_kaggle = os.path.join(kaggle_path, f\"KA{PARAM['experimento']}_{envios}.csv\")\n",
        "    pred.write_csv(archivo_kaggle)\n"
      ]
    }
  ],
  "metadata": {
    "colab": {
      "provenance": []
    },
    "kernelspec": {
      "display_name": "Python 3.12 (.venv)",
      "language": "python",
      "name": ".venv"
    },
    "language_info": {
      "codemirror_mode": {
        "name": "ipython",
        "version": 3
      },
      "file_extension": ".py",
      "mimetype": "text/x-python",
      "name": "python",
      "nbconvert_exporter": "python",
      "pygments_lexer": "ipython3",
      "version": "3.12.3"
    }
  },
  "nbformat": 4,
  "nbformat_minor": 0
}
