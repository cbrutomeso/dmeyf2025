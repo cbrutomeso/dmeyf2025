{
  "cells": [
    {
      "cell_type": "code",
      "execution_count": 1,
      "metadata": {},
      "outputs": [],
      "source": [
        "!pip install polars numpy pandas lightgbm optuna scikit-learn pyarrow -q\n",
        "from datetime import datetime\n",
        "import os\n",
        "import polars as pl\n",
        "import numpy as np\n",
        "import pandas as pd\n",
        "import yaml\n",
        "import random\n",
        "import lightgbm as lgb\n",
        "import optuna\n",
        "from sklearn.model_selection import StratifiedKFold, cross_val_score\n",
        "from sklearn.metrics import roc_auc_score\n",
        "import gc\n",
        "\n",
        "import warnings\n",
        "warnings.filterwarnings(\"ignore\", category=UserWarning, message=\"X does not have valid feature names\")"
      ]
    },
    {
      "cell_type": "code",
      "execution_count": 2,
      "metadata": {},
      "outputs": [],
      "source": [
        "# -------- Fijar semillas --------\n",
        "SEED = 42\n",
        "random.seed(SEED)\n",
        "np.random.seed(SEED)\n",
        "os.environ[\"PYTHONHASHSEED\"] = str(SEED)"
      ]
    },
    {
      "cell_type": "markdown",
      "metadata": {
        "id": "dseB4qb9RqUb"
      },
      "source": [
        "## Generacion de la clase_ternaria"
      ]
    },
    {
      "cell_type": "code",
      "execution_count": 3,
      "metadata": {},
      "outputs": [
        {
          "data": {
            "text/html": [
              "<div><style>\n",
              ".dataframe > thead > tr,\n",
              ".dataframe > tbody > tr {\n",
              "  text-align: right;\n",
              "  white-space: pre-wrap;\n",
              "}\n",
              "</style>\n",
              "<small>shape: (5, 154)</small><table border=\"1\" class=\"dataframe\"><thead><tr><th>numero_de_cliente</th><th>foto_mes</th><th>active_quarter</th><th>cliente_vip</th><th>internet</th><th>cliente_edad</th><th>cliente_antiguedad</th><th>mrentabilidad</th><th>mrentabilidad_annual</th><th>mcomisiones</th><th>mactivos_margen</th><th>mpasivos_margen</th><th>cproductos</th><th>tcuentas</th><th>ccuenta_corriente</th><th>mcuenta_corriente_adicional</th><th>mcuenta_corriente</th><th>ccaja_ahorro</th><th>mcaja_ahorro</th><th>mcaja_ahorro_adicional</th><th>mcaja_ahorro_dolares</th><th>cdescubierto_preacordado</th><th>mcuentas_saldo</th><th>ctarjeta_debito</th><th>ctarjeta_debito_transacciones</th><th>mautoservicio</th><th>ctarjeta_visa</th><th>ctarjeta_visa_transacciones</th><th>mtarjeta_visa_consumo</th><th>ctarjeta_master</th><th>ctarjeta_master_transacciones</th><th>mtarjeta_master_consumo</th><th>cprestamos_personales</th><th>mprestamos_personales</th><th>cprestamos_prendarios</th><th>mprestamos_prendarios</th><th>cprestamos_hipotecarios</th><th>&hellip;</th><th>Master_msaldodolares</th><th>Master_mconsumospesos</th><th>Master_mconsumosdolares</th><th>Master_mlimitecompra</th><th>Master_madelantopesos</th><th>Master_madelantodolares</th><th>Master_fultimo_cierre</th><th>Master_mpagado</th><th>Master_mpagospesos</th><th>Master_mpagosdolares</th><th>Master_fechaalta</th><th>Master_mconsumototal</th><th>Master_cconsumos</th><th>Master_cadelantosefectivo</th><th>Master_mpagominimo</th><th>Visa_delinquency</th><th>Visa_status</th><th>Visa_mfinanciacion_limite</th><th>Visa_Fvencimiento</th><th>Visa_Finiciomora</th><th>Visa_msaldototal</th><th>Visa_msaldopesos</th><th>Visa_msaldodolares</th><th>Visa_mconsumospesos</th><th>Visa_mconsumosdolares</th><th>Visa_mlimitecompra</th><th>Visa_madelantopesos</th><th>Visa_madelantodolares</th><th>Visa_fultimo_cierre</th><th>Visa_mpagado</th><th>Visa_mpagospesos</th><th>Visa_mpagosdolares</th><th>Visa_fechaalta</th><th>Visa_mconsumototal</th><th>Visa_cconsumos</th><th>Visa_cadelantosefectivo</th><th>Visa_mpagominimo</th></tr><tr><td>i64</td><td>i64</td><td>i64</td><td>i64</td><td>i64</td><td>i64</td><td>i64</td><td>f64</td><td>f64</td><td>f64</td><td>f64</td><td>f64</td><td>i64</td><td>i64</td><td>i64</td><td>f64</td><td>f64</td><td>i64</td><td>f64</td><td>f64</td><td>f64</td><td>i64</td><td>f64</td><td>i64</td><td>i64</td><td>f64</td><td>i64</td><td>i64</td><td>f64</td><td>i64</td><td>i64</td><td>f64</td><td>i64</td><td>f64</td><td>i64</td><td>f64</td><td>i64</td><td>&hellip;</td><td>f64</td><td>f64</td><td>f64</td><td>f64</td><td>f64</td><td>f64</td><td>i64</td><td>f64</td><td>f64</td><td>f64</td><td>i64</td><td>f64</td><td>i64</td><td>i64</td><td>f64</td><td>i64</td><td>i64</td><td>f64</td><td>i64</td><td>i64</td><td>f64</td><td>f64</td><td>f64</td><td>f64</td><td>f64</td><td>f64</td><td>f64</td><td>f64</td><td>i64</td><td>f64</td><td>f64</td><td>f64</td><td>i64</td><td>f64</td><td>i64</td><td>i64</td><td>f64</td></tr></thead><tbody><tr><td>249221323</td><td>202101</td><td>1</td><td>0</td><td>0</td><td>46</td><td>93</td><td>3070.24</td><td>15691.1</td><td>1278.11</td><td>890.96</td><td>636.86</td><td>8</td><td>1</td><td>1</td><td>0.0</td><td>-314.48</td><td>2</td><td>25761.53</td><td>0.0</td><td>10240.09</td><td>1</td><td>22890.77</td><td>1</td><td>5</td><td>35013.67</td><td>1</td><td>10</td><td>15929.92</td><td>1</td><td>13</td><td>27145.02</td><td>0</td><td>0.0</td><td>0</td><td>0.0</td><td>0</td><td>&hellip;</td><td>5171.55</td><td>10853.35</td><td>58.6</td><td>70380.0</td><td>0.0</td><td>0.0</td><td>4</td><td>0.0</td><td>-10385.48</td><td>0.0</td><td>2814</td><td>10853.35</td><td>7</td><td>0</td><td>9290.16</td><td>0</td><td>0</td><td>63342.0</td><td>-849</td><td>null</td><td>43251.02</td><td>50733.44</td><td>0.0</td><td>6743.38</td><td>1.36</td><td>70380.0</td><td>0.0</td><td>0.0</td><td>4</td><td>0.0</td><td>-20833.47</td><td>0.0</td><td>2814</td><td>6743.38</td><td>6</td><td>0</td><td>9559.95</td></tr><tr><td>249227600</td><td>202101</td><td>1</td><td>0</td><td>0</td><td>42</td><td>278</td><td>496.21</td><td>15321.8</td><td>418.97</td><td>-1138.55</td><td>1204.4</td><td>9</td><td>1</td><td>1</td><td>0.0</td><td>0.0</td><td>2</td><td>84736.17</td><td>0.0</td><td>30617.86</td><td>1</td><td>157762.37</td><td>1</td><td>19</td><td>20489.02</td><td>1</td><td>11</td><td>13110.17</td><td>1</td><td>0</td><td>0.0</td><td>1</td><td>85831.92</td><td>0</td><td>0.0</td><td>0</td><td>&hellip;</td><td>0.0</td><td>null</td><td>null</td><td>84456.0</td><td>null</td><td>null</td><td>4</td><td>0.0</td><td>null</td><td>null</td><td>3524</td><td>null</td><td>null</td><td>null</td><td>0.0</td><td>0</td><td>0</td><td>152020.8</td><td>-1063</td><td>null</td><td>11310.74</td><td>13267.49</td><td>0.0</td><td>9419.9</td><td>0.0</td><td>168912.0</td><td>0.0</td><td>0.0</td><td>11</td><td>13267.49</td><td>-9662.51</td><td>0.0</td><td>5541</td><td>9419.9</td><td>8</td><td>0</td><td>1900.26</td></tr><tr><td>249234235</td><td>202101</td><td>1</td><td>0</td><td>0</td><td>54</td><td>17</td><td>806.56</td><td>10549.8</td><td>174.26</td><td>546.73</td><td>-7.68</td><td>7</td><td>1</td><td>1</td><td>0.0</td><td>-129.29</td><td>2</td><td>0.0</td><td>0.0</td><td>0.0</td><td>1</td><td>-157.45</td><td>1</td><td>0</td><td>0.0</td><td>1</td><td>6</td><td>6156.93</td><td>1</td><td>0</td><td>0.0</td><td>0</td><td>0.0</td><td>0</td><td>0.0</td><td>0</td><td>&hellip;</td><td>0.0</td><td>null</td><td>null</td><td>225216.0</td><td>null</td><td>null</td><td>11</td><td>0.0</td><td>null</td><td>null</td><td>243</td><td>null</td><td>null</td><td>null</td><td>0.0</td><td>0</td><td>0</td><td>202694.4</td><td>-1702</td><td>null</td><td>19029.85</td><td>22322.01</td><td>0.0</td><td>2821.32</td><td>0.0</td><td>225216.0</td><td>0.0</td><td>0.0</td><td>4</td><td>0.0</td><td>-4692.0</td><td>0.0</td><td>577</td><td>2821.32</td><td>2</td><td>0</td><td>6885.51</td></tr><tr><td>249244449</td><td>202101</td><td>1</td><td>0</td><td>0</td><td>61</td><td>290</td><td>27485.71</td><td>65621.74</td><td>23590.68</td><td>-317.72</td><td>3638.29</td><td>7</td><td>1</td><td>1</td><td>0.0</td><td>0.0</td><td>2</td><td>252326.77</td><td>0.0</td><td>30200.06</td><td>1</td><td>271890.17</td><td>6</td><td>0</td><td>0.0</td><td>1</td><td>8</td><td>23509.71</td><td>1</td><td>0</td><td>0.0</td><td>0</td><td>0.0</td><td>0</td><td>0.0</td><td>0</td><td>&hellip;</td><td>0.0</td><td>null</td><td>null</td><td>84456.0</td><td>null</td><td>null</td><td>18</td><td>0.0</td><td>null</td><td>null</td><td>6752</td><td>null</td><td>null</td><td>null</td><td>0.0</td><td>0</td><td>0</td><td>76010.4</td><td>-879</td><td>null</td><td>20282.89</td><td>23791.82</td><td>0.0</td><td>23509.71</td><td>0.0</td><td>84456.0</td><td>0.0</td><td>0.0</td><td>25</td><td>23800.17</td><td>-20349.22</td><td>0.0</td><td>7916</td><td>23509.71</td><td>8</td><td>0</td><td>1219.92</td></tr><tr><td>249244739</td><td>202101</td><td>1</td><td>0</td><td>0</td><td>66</td><td>320</td><td>3306.82</td><td>48787.99</td><td>3274.95</td><td>-2002.76</td><td>2029.93</td><td>8</td><td>1</td><td>1</td><td>0.0</td><td>-1141.96</td><td>3</td><td>48569.5</td><td>20085.44</td><td>20635.82</td><td>1</td><td>43125.7</td><td>2</td><td>8</td><td>8094.87</td><td>1</td><td>15</td><td>38271.01</td><td>1</td><td>2</td><td>1613.88</td><td>0</td><td>0.0</td><td>0</td><td>0.0</td><td>0</td><td>&hellip;</td><td>627.0</td><td>619.84</td><td>7.1</td><td>197064.0</td><td>0.0</td><td>0.0</td><td>4</td><td>0.0</td><td>-61284.59</td><td>0.0</td><td>1958</td><td>619.84</td><td>1</td><td>0</td><td>985.32</td><td>0</td><td>0</td><td>177357.6</td><td>-1337</td><td>null</td><td>32883.64</td><td>38572.5</td><td>0.0</td><td>20397.54</td><td>0.0</td><td>197064.0</td><td>0.0</td><td>0.0</td><td>4</td><td>0.0</td><td>-88178.37</td><td>0.0</td><td>1958</td><td>20397.54</td><td>8</td><td>0</td><td>2627.52</td></tr></tbody></table></div>"
            ],
            "text/plain": [
              "shape: (5, 154)\n",
              "┌───────────┬──────────┬───────────┬───────────┬───┬───────────┬───────────┬───────────┬───────────┐\n",
              "│ numero_de ┆ foto_mes ┆ active_qu ┆ cliente_v ┆ … ┆ Visa_mcon ┆ Visa_ccon ┆ Visa_cade ┆ Visa_mpag │\n",
              "│ _cliente  ┆ ---      ┆ arter     ┆ ip        ┆   ┆ sumototal ┆ sumos     ┆ lantosefe ┆ ominimo   │\n",
              "│ ---       ┆ i64      ┆ ---       ┆ ---       ┆   ┆ ---       ┆ ---       ┆ ctivo     ┆ ---       │\n",
              "│ i64       ┆          ┆ i64       ┆ i64       ┆   ┆ f64       ┆ i64       ┆ ---       ┆ f64       │\n",
              "│           ┆          ┆           ┆           ┆   ┆           ┆           ┆ i64       ┆           │\n",
              "╞═══════════╪══════════╪═══════════╪═══════════╪═══╪═══════════╪═══════════╪═══════════╪═══════════╡\n",
              "│ 249221323 ┆ 202101   ┆ 1         ┆ 0         ┆ … ┆ 6743.38   ┆ 6         ┆ 0         ┆ 9559.95   │\n",
              "│ 249227600 ┆ 202101   ┆ 1         ┆ 0         ┆ … ┆ 9419.9    ┆ 8         ┆ 0         ┆ 1900.26   │\n",
              "│ 249234235 ┆ 202101   ┆ 1         ┆ 0         ┆ … ┆ 2821.32   ┆ 2         ┆ 0         ┆ 6885.51   │\n",
              "│ 249244449 ┆ 202101   ┆ 1         ┆ 0         ┆ … ┆ 23509.71  ┆ 8         ┆ 0         ┆ 1219.92   │\n",
              "│ 249244739 ┆ 202101   ┆ 1         ┆ 0         ┆ … ┆ 20397.54  ┆ 8         ┆ 0         ┆ 2627.52   │\n",
              "└───────────┴──────────┴───────────┴───────────┴───┴───────────┴───────────┴───────────┴───────────┘"
            ]
          },
          "execution_count": 3,
          "metadata": {},
          "output_type": "execute_result"
        }
      ],
      "source": [
        "df = pl.read_csv(\n",
        "    \"datasets/competencia_01_crudo.csv\",\n",
        "    infer_schema_length=100000\n",
        ")\n",
        "df.head()"
      ]
    },
    {
      "cell_type": "code",
      "execution_count": 4,
      "metadata": {},
      "outputs": [
        {
          "data": {
            "text/html": [
              "<div><style>\n",
              ".dataframe > thead > tr,\n",
              ".dataframe > tbody > tr {\n",
              "  text-align: right;\n",
              "  white-space: pre-wrap;\n",
              "}\n",
              "</style>\n",
              "<small>shape: (5, 155)</small><table border=\"1\" class=\"dataframe\"><thead><tr><th>numero_de_cliente</th><th>foto_mes</th><th>active_quarter</th><th>cliente_vip</th><th>internet</th><th>cliente_edad</th><th>cliente_antiguedad</th><th>mrentabilidad</th><th>mrentabilidad_annual</th><th>mcomisiones</th><th>mactivos_margen</th><th>mpasivos_margen</th><th>cproductos</th><th>tcuentas</th><th>ccuenta_corriente</th><th>mcuenta_corriente_adicional</th><th>mcuenta_corriente</th><th>ccaja_ahorro</th><th>mcaja_ahorro</th><th>mcaja_ahorro_adicional</th><th>mcaja_ahorro_dolares</th><th>cdescubierto_preacordado</th><th>mcuentas_saldo</th><th>ctarjeta_debito</th><th>ctarjeta_debito_transacciones</th><th>mautoservicio</th><th>ctarjeta_visa</th><th>ctarjeta_visa_transacciones</th><th>mtarjeta_visa_consumo</th><th>ctarjeta_master</th><th>ctarjeta_master_transacciones</th><th>mtarjeta_master_consumo</th><th>cprestamos_personales</th><th>mprestamos_personales</th><th>cprestamos_prendarios</th><th>mprestamos_prendarios</th><th>cprestamos_hipotecarios</th><th>&hellip;</th><th>Master_mconsumospesos</th><th>Master_mconsumosdolares</th><th>Master_mlimitecompra</th><th>Master_madelantopesos</th><th>Master_madelantodolares</th><th>Master_fultimo_cierre</th><th>Master_mpagado</th><th>Master_mpagospesos</th><th>Master_mpagosdolares</th><th>Master_fechaalta</th><th>Master_mconsumototal</th><th>Master_cconsumos</th><th>Master_cadelantosefectivo</th><th>Master_mpagominimo</th><th>Visa_delinquency</th><th>Visa_status</th><th>Visa_mfinanciacion_limite</th><th>Visa_Fvencimiento</th><th>Visa_Finiciomora</th><th>Visa_msaldototal</th><th>Visa_msaldopesos</th><th>Visa_msaldodolares</th><th>Visa_mconsumospesos</th><th>Visa_mconsumosdolares</th><th>Visa_mlimitecompra</th><th>Visa_madelantopesos</th><th>Visa_madelantodolares</th><th>Visa_fultimo_cierre</th><th>Visa_mpagado</th><th>Visa_mpagospesos</th><th>Visa_mpagosdolares</th><th>Visa_fechaalta</th><th>Visa_mconsumototal</th><th>Visa_cconsumos</th><th>Visa_cadelantosefectivo</th><th>Visa_mpagominimo</th><th>clase_ternaria</th></tr><tr><td>i64</td><td>i64</td><td>i64</td><td>i64</td><td>i64</td><td>i64</td><td>i64</td><td>f64</td><td>f64</td><td>f64</td><td>f64</td><td>f64</td><td>i64</td><td>i64</td><td>i64</td><td>f64</td><td>f64</td><td>i64</td><td>f64</td><td>f64</td><td>f64</td><td>i64</td><td>f64</td><td>i64</td><td>i64</td><td>f64</td><td>i64</td><td>i64</td><td>f64</td><td>i64</td><td>i64</td><td>f64</td><td>i64</td><td>f64</td><td>i64</td><td>f64</td><td>i64</td><td>&hellip;</td><td>f64</td><td>f64</td><td>f64</td><td>f64</td><td>f64</td><td>i64</td><td>f64</td><td>f64</td><td>f64</td><td>i64</td><td>f64</td><td>i64</td><td>i64</td><td>f64</td><td>i64</td><td>i64</td><td>f64</td><td>i64</td><td>i64</td><td>f64</td><td>f64</td><td>f64</td><td>f64</td><td>f64</td><td>f64</td><td>f64</td><td>f64</td><td>i64</td><td>f64</td><td>f64</td><td>f64</td><td>i64</td><td>f64</td><td>i64</td><td>i64</td><td>f64</td><td>str</td></tr></thead><tbody><tr><td>249221323</td><td>202101</td><td>1</td><td>0</td><td>0</td><td>46</td><td>93</td><td>3070.24</td><td>15691.1</td><td>1278.11</td><td>890.96</td><td>636.86</td><td>8</td><td>1</td><td>1</td><td>0.0</td><td>-314.48</td><td>2</td><td>25761.53</td><td>0.0</td><td>10240.09</td><td>1</td><td>22890.77</td><td>1</td><td>5</td><td>35013.67</td><td>1</td><td>10</td><td>15929.92</td><td>1</td><td>13</td><td>27145.02</td><td>0</td><td>0.0</td><td>0</td><td>0.0</td><td>0</td><td>&hellip;</td><td>10853.35</td><td>58.6</td><td>70380.0</td><td>0.0</td><td>0.0</td><td>4</td><td>0.0</td><td>-10385.48</td><td>0.0</td><td>2814</td><td>10853.35</td><td>7</td><td>0</td><td>9290.16</td><td>0</td><td>0</td><td>63342.0</td><td>-849</td><td>null</td><td>43251.02</td><td>50733.44</td><td>0.0</td><td>6743.38</td><td>1.36</td><td>70380.0</td><td>0.0</td><td>0.0</td><td>4</td><td>0.0</td><td>-20833.47</td><td>0.0</td><td>2814</td><td>6743.38</td><td>6</td><td>0</td><td>9559.95</td><td>&quot;CONTINUA&quot;</td></tr><tr><td>249221323</td><td>202102</td><td>1</td><td>0</td><td>0</td><td>46</td><td>94</td><td>3385.85</td><td>19103.66</td><td>1230.47</td><td>1631.3</td><td>206.19</td><td>8</td><td>1</td><td>1</td><td>0.0</td><td>0.0</td><td>2</td><td>8116.43</td><td>0.0</td><td>10536.47</td><td>1</td><td>10629.59</td><td>1</td><td>1</td><td>2315.5</td><td>1</td><td>11</td><td>17285.39</td><td>1</td><td>22</td><td>25713.45</td><td>0</td><td>0.0</td><td>0</td><td>0.0</td><td>0</td><td>&hellip;</td><td>10910.41</td><td>56.8</td><td>70380.0</td><td>0.0</td><td>0.0</td><td>-3</td><td>42765.48</td><td>-42426.83</td><td>59.3</td><td>2842</td><td>10910.41</td><td>17</td><td>0</td><td>8539.44</td><td>0</td><td>0</td><td>63342.0</td><td>-821</td><td>null</td><td>19687.47</td><td>23093.4</td><td>0.0</td><td>7715.26</td><td>1.77</td><td>70380.0</td><td>0.0</td><td>0.0</td><td>-3</td><td>50733.44</td><td>-50733.44</td><td>0.0</td><td>2842</td><td>7715.26</td><td>8</td><td>0</td><td>7413.36</td><td>&quot;CONTINUA&quot;</td></tr><tr><td>249221323</td><td>202103</td><td>1</td><td>0</td><td>0</td><td>46</td><td>95</td><td>5341.18</td><td>24020.21</td><td>755.85</td><td>2768.95</td><td>1140.11</td><td>8</td><td>1</td><td>1</td><td>0.0</td><td>-3933.18</td><td>2</td><td>4015.77</td><td>0.0</td><td>10789.84</td><td>1</td><td>4650.31</td><td>1</td><td>0</td><td>0.0</td><td>1</td><td>10</td><td>18976.09</td><td>1</td><td>16</td><td>45821.57</td><td>0</td><td>0.0</td><td>0</td><td>0.0</td><td>0</td><td>&hellip;</td><td>30992.11</td><td>39.83</td><td>70380.0</td><td>0.0</td><td>0.0</td><td>1</td><td>0.0</td><td>-42534.65</td><td>57.48</td><td>2873</td><td>30992.11</td><td>11</td><td>0</td><td>0.0</td><td>0</td><td>0</td><td>63342.0</td><td>-790</td><td>null</td><td>-2453.06</td><td>-2877.43</td><td>0.0</td><td>10703.0</td><td>1.53</td><td>70380.0</td><td>0.0</td><td>0.0</td><td>1</td><td>0.0</td><td>-50733.44</td><td>0.0</td><td>2873</td><td>10703.0</td><td>7</td><td>0</td><td>0.0</td><td>&quot;CONTINUA&quot;</td></tr><tr><td>249221323</td><td>202104</td><td>1</td><td>0</td><td>0</td><td>46</td><td>96</td><td>5356.62</td><td>29189.81</td><td>1470.2</td><td>2627.7</td><td>685.53</td><td>8</td><td>1</td><td>1</td><td>0.0</td><td>-1960.57</td><td>2</td><td>2136.11</td><td>0.0</td><td>10974.0</td><td>1</td><td>9358.46</td><td>1</td><td>0</td><td>0.0</td><td>1</td><td>10</td><td>19201.77</td><td>1</td><td>18</td><td>17373.08</td><td>0</td><td>0.0</td><td>0</td><td>0.0</td><td>0</td><td>&hellip;</td><td>10360.48</td><td>49.19</td><td>70380.0</td><td>0.0</td><td>0.0</td><td>2</td><td>0.0</td><td>-42579.46</td><td>40.31</td><td>2903</td><td>10360.48</td><td>14</td><td>0</td><td>4821.03</td><td>0</td><td>0</td><td>63342.0</td><td>-760</td><td>null</td><td>14545.66</td><td>17062.05</td><td>0.0</td><td>8094.73</td><td>1.51</td><td>70380.0</td><td>0.0</td><td>0.0</td><td>2</td><td>0.0</td><td>0.0</td><td>0.0</td><td>2903</td><td>8094.73</td><td>6</td><td>0</td><td>0.0</td><td>&quot;CONTINUA&quot;</td></tr><tr><td>249221323</td><td>202105</td><td>1</td><td>0</td><td>0</td><td>46</td><td>97</td><td>2489.25</td><td>31505.78</td><td>1008.8</td><td>952.16</td><td>309.95</td><td>8</td><td>1</td><td>1</td><td>0.0</td><td>-263.5</td><td>2</td><td>6204.56</td><td>0.0</td><td>11106.55</td><td>1</td><td>13240.63</td><td>1</td><td>1</td><td>2216.97</td><td>1</td><td>9</td><td>19278.3</td><td>1</td><td>14</td><td>16708.69</td><td>0</td><td>0.0</td><td>0</td><td>0.0</td><td>0</td><td>&hellip;</td><td>7293.92</td><td>43.34</td><td>70380.0</td><td>0.0</td><td>0.0</td><td>5</td><td>0.0</td><td>-21115.45</td><td>49.78</td><td>2934</td><td>7293.92</td><td>10</td><td>0</td><td>4586.43</td><td>0</td><td>0</td><td>63342.0</td><td>-729</td><td>null</td><td>17064.74</td><td>20016.94</td><td>0.0</td><td>9051.98</td><td>1.48</td><td>70380.0</td><td>0.0</td><td>0.0</td><td>5</td><td>0.0</td><td>-17062.05</td><td>0.0</td><td>2934</td><td>9051.98</td><td>6</td><td>0</td><td>2111.4</td><td>null</td></tr></tbody></table></div>"
            ],
            "text/plain": [
              "shape: (5, 155)\n",
              "┌───────────┬──────────┬───────────┬───────────┬───┬───────────┬───────────┬───────────┬───────────┐\n",
              "│ numero_de ┆ foto_mes ┆ active_qu ┆ cliente_v ┆ … ┆ Visa_ccon ┆ Visa_cade ┆ Visa_mpag ┆ clase_ter │\n",
              "│ _cliente  ┆ ---      ┆ arter     ┆ ip        ┆   ┆ sumos     ┆ lantosefe ┆ ominimo   ┆ naria     │\n",
              "│ ---       ┆ i64      ┆ ---       ┆ ---       ┆   ┆ ---       ┆ ctivo     ┆ ---       ┆ ---       │\n",
              "│ i64       ┆          ┆ i64       ┆ i64       ┆   ┆ i64       ┆ ---       ┆ f64       ┆ str       │\n",
              "│           ┆          ┆           ┆           ┆   ┆           ┆ i64       ┆           ┆           │\n",
              "╞═══════════╪══════════╪═══════════╪═══════════╪═══╪═══════════╪═══════════╪═══════════╪═══════════╡\n",
              "│ 249221323 ┆ 202101   ┆ 1         ┆ 0         ┆ … ┆ 6         ┆ 0         ┆ 9559.95   ┆ CONTINUA  │\n",
              "│ 249221323 ┆ 202102   ┆ 1         ┆ 0         ┆ … ┆ 8         ┆ 0         ┆ 7413.36   ┆ CONTINUA  │\n",
              "│ 249221323 ┆ 202103   ┆ 1         ┆ 0         ┆ … ┆ 7         ┆ 0         ┆ 0.0       ┆ CONTINUA  │\n",
              "│ 249221323 ┆ 202104   ┆ 1         ┆ 0         ┆ … ┆ 6         ┆ 0         ┆ 0.0       ┆ CONTINUA  │\n",
              "│ 249221323 ┆ 202105   ┆ 1         ┆ 0         ┆ … ┆ 6         ┆ 0         ┆ 2111.4    ┆ null      │\n",
              "└───────────┴──────────┴───────────┴───────────┴───┴───────────┴───────────┴───────────┴───────────┘"
            ]
          },
          "execution_count": 4,
          "metadata": {},
          "output_type": "execute_result"
        }
      ],
      "source": [
        "def agregar_clase_ternaria(df: pl.DataFrame) -> pl.DataFrame:\n",
        "    \"\"\"\n",
        "    Agrega columna clase_ternaria:\n",
        "    - periodo_ultimo -> clase_ternaria = None\n",
        "    - periodo_anteultimo -> solo puede ser BAJA+1 o None\n",
        "    - resto -> CONTINUA / BAJA+1 / BAJA+2\n",
        "    \"\"\"\n",
        "    # calculo periodo0\n",
        "    df = df.with_columns(\n",
        "        ((pl.col(\"foto_mes\") // 100) * 12 + (pl.col(\"foto_mes\") % 100)).alias(\"periodo0\")\n",
        "    )\n",
        "\n",
        "    # calculo topes globales\n",
        "    periodo_ultimo = df[\"periodo0\"].max()\n",
        "    periodo_anteultimo = periodo_ultimo - 1\n",
        "\n",
        "    # ordeno y calculo leads (shift tipo \"lead\")\n",
        "    df = (\n",
        "        df.lazy()\n",
        "        .sort([\"numero_de_cliente\", \"periodo0\"])\n",
        "        .with_columns([\n",
        "            pl.col(\"periodo0\").shift(-1).over(\"numero_de_cliente\").alias(\"periodo1\"),\n",
        "            pl.col(\"periodo0\").shift(-2).over(\"numero_de_cliente\").alias(\"periodo2\"),\n",
        "        ])\n",
        "        # asigno clase_ternaria\n",
        "        .with_columns([\n",
        "            pl.when(\n",
        "                # BAJA+1\n",
        "                (pl.col(\"periodo0\") < periodo_ultimo)\n",
        "                & (pl.col(\"periodo1\").is_null() | (pl.col(\"periodo0\") + 1 < pl.col(\"periodo1\")))\n",
        "            )\n",
        "            .then(pl.lit(\"BAJA+1\"))\n",
        "            .when(\n",
        "                # BAJA+2\n",
        "                (pl.col(\"periodo0\") < periodo_anteultimo)\n",
        "                & (pl.col(\"periodo0\") + 1 == pl.col(\"periodo1\"))\n",
        "                & (pl.col(\"periodo2\").is_null() | (pl.col(\"periodo0\") + 2 < pl.col(\"periodo2\")))\n",
        "            )\n",
        "            .then(pl.lit(\"BAJA+2\"))\n",
        "            .when(\n",
        "                # CONTINUA: solo válido si no estamos en ultimo o anteultimo\n",
        "                (pl.col(\"periodo0\") < periodo_anteultimo)\n",
        "            )\n",
        "            .then(pl.lit(\"CONTINUA\"))\n",
        "            .otherwise(None)   # último y anteúltimo pueden quedar en None\n",
        "            .alias(\"clase_ternaria\")\n",
        "        ])\n",
        "        .collect()\n",
        "    )\n",
        "\n",
        "    return df\n",
        "\n",
        "\n",
        "# Agregar la columna clase_ternaria al dataframe\n",
        "df = agregar_clase_ternaria(df)\n",
        "df = df.drop([\"periodo0\", \"periodo1\", \"periodo2\"])\n",
        "df.head()"
      ]
    },
    {
      "cell_type": "code",
      "execution_count": 5,
      "metadata": {
        "id": "S3hL7tv8W4rn"
      },
      "outputs": [
        {
          "name": "stdout",
          "output_type": "stream",
          "text": [
            "shape: (6, 5)\n",
            "┌──────────┬──────────┬────────┬────────┬────────┐\n",
            "│ foto_mes ┆ CONTINUA ┆ null   ┆ BAJA+2 ┆ BAJA+1 │\n",
            "│ ---      ┆ ---      ┆ ---    ┆ ---    ┆ ---    │\n",
            "│ i64      ┆ u32      ┆ u32    ┆ u32    ┆ u32    │\n",
            "╞══════════╪══════════╪════════╪════════╪════════╡\n",
            "│ 202101   ┆ 160080   ┆ 0      ┆ 825    ┆ 622    │\n",
            "│ 202102   ┆ 160292   ┆ 0      ┆ 1032   ┆ 831    │\n",
            "│ 202103   ┆ 161119   ┆ 0      ┆ 951    ┆ 1039   │\n",
            "│ 202104   ┆ 161333   ┆ 0      ┆ 1130   ┆ 955    │\n",
            "│ 202105   ┆ 0        ┆ 162783 ┆ 0      ┆ 1134   │\n",
            "│ 202106   ┆ 0        ┆ 164313 ┆ 0      ┆ 0      │\n",
            "└──────────┴──────────┴────────┴────────┴────────┘\n"
          ]
        }
      ],
      "source": [
        "tabla = (\n",
        "    df.pivot(\n",
        "        values=\"numero_de_cliente\",\n",
        "        index=\"foto_mes\",\n",
        "        on=\"clase_ternaria\",\n",
        "        aggregate_function=\"len\"\n",
        "    )\n",
        "    .fill_null(0)  # reemplazar nulls por 0\n",
        ")\n",
        "\n",
        "print(tabla)"
      ]
    },
    {
      "cell_type": "code",
      "execution_count": 6,
      "metadata": {},
      "outputs": [],
      "source": [
        "df.write_csv(\"datasets/competencia_01.csv.gz\")"
      ]
    },
    {
      "cell_type": "markdown",
      "metadata": {},
      "source": [
        "## Optimizacion Hiperparámetros"
      ]
    },
    {
      "cell_type": "markdown",
      "metadata": {
        "id": "cOdlKd7lUm2I"
      },
      "source": [
        "aqui debe cargar SU semilla primigenia\n",
        "<br>recuerde cambiar el numero de experimento en cada corrida nueva"
      ]
    },
    {
      "cell_type": "code",
      "execution_count": 7,
      "metadata": {
        "id": "ASYkebOu2mF6"
      },
      "outputs": [],
      "source": [
        "PARAM = {}\n",
        "PARAM[\"experimento\"] = 49422\n",
        "PARAM[\"semilla_primigenia\"] = 100129"
      ]
    },
    {
      "cell_type": "code",
      "execution_count": 8,
      "metadata": {
        "id": "ezOhQdbA293o"
      },
      "outputs": [],
      "source": [
        "# training and future\n",
        "PARAM[\"train\"] = [202101,202102,202103]\n",
        "PARAM[\"train_final\"] = [202101,202102,202103]\n",
        "PARAM[\"future\"] = [202104]\n",
        "PARAM[\"kaggle\"] = [202106]\n",
        "PARAM[\"semilla_kaggle\"] = 314159\n",
        "PARAM[\"cortes\"] = list(range(6000, 19001, 500))"
      ]
    },
    {
      "cell_type": "code",
      "execution_count": 9,
      "metadata": {
        "id": "jtB0Lub42rHO"
      },
      "outputs": [],
      "source": [
        "# un undersampling de 0.1  toma solo el 10% de los CONTINUA\n",
        "# undersampling de 1.0  implica tomar TODOS los datos\n",
        "\n",
        "PARAM[\"trainingstrategy\"] = {}\n",
        "PARAM[\"trainingstrategy\"][\"undersampling\"] = 1.0"
      ]
    },
    {
      "cell_type": "markdown",
      "metadata": {
        "id": "Iz-6Qt6BUaA3"
      },
      "source": [
        "### Definicion de Parametros"
      ]
    },
    {
      "cell_type": "code",
      "execution_count": 10,
      "metadata": {
        "id": "OFxm-xiNUOJX"
      },
      "outputs": [],
      "source": [
        "# Parámetros de LightGBM\n",
        "\n",
        "PARAM[\"hyperparametertuning\"] = {}\n",
        "PARAM[\"hyperparametertuning\"][\"xval_folds\"] = 5\n",
        "\n",
        "# Parámetros fijos de LightGBM que serán sobreescritos por la parte variable de la BO\n",
        "PARAM[\"lgbm\"] = {}\n",
        "PARAM[\"lgbm\"][\"param_fijos\"] = {\n",
        "    \"boosting\": \"gbdt\",  # puede ir 'dart', no probar 'random_forest'\n",
        "    \"objective\": \"binary\",\n",
        "    \"metric\": \"auc\",\n",
        "    \"first_metric_only\": False,\n",
        "    \"boost_from_average\": True,\n",
        "    \"feature_pre_filter\": False,\n",
        "    \"force_row_wise\": True,  # para reducir warnings\n",
        "    \"verbosity\": -100,\n",
        "\n",
        "    \"seed\": PARAM[\"semilla_primigenia\"],\n",
        "\n",
        "    \"min_gain_to_split\": 0,  # min_gain_to_split >= 0\n",
        "    \"min_sum_hessian_in_leaf\": 0.001,  # min_sum_hessian_in_leaf >= 0.0\n",
        "    \"max_bin\": 31,  # lo debo dejar fijo, no participa de la BO\n",
        "\n",
        "    \"pos_bagging_fraction\": 1.0,  # 0.0 < pos_bagging_fraction <= 1.0\n",
        "    \"neg_bagging_fraction\": 1.0,  # 0.0 < neg_bagging_fraction <= 1.0\n",
        "    \"is_unbalance\": False,\n",
        "    \"scale_pos_weight\": 1.0,\n",
        "\n",
        "    \"max_drop\": 50,  # <=0 significa sin límite\n",
        "    \"skip_drop\": 0.5,  # 0.0 <= skip_drop <= 1.0\n",
        "\n",
        "    \"extra_trees\": False,\n",
        "\n",
        "    \"num_iterations\": 1200\n",
        "}"
      ]
    },
    {
      "cell_type": "markdown",
      "metadata": {
        "id": "D5Yj-JV4yvOt"
      },
      "source": [
        "Aqui se definen los hiperparámetros de LightGBM que participan de la Bayesian Optimization"
      ]
    },
    {
      "cell_type": "code",
      "execution_count": 11,
      "metadata": {
        "id": "jENpR26ZyuS8"
      },
      "outputs": [],
      "source": [
        "# Aquí se definen los límites de los hiperparámetros para la Optimización Bayesiana\n",
        "PARAM[\"hyperparametertuning\"][\"hs\"] = {\n",
        "    \"learning_rate\":    {\"type\": \"float\", \"bounds\": (0.005, 0.05)},\n",
        "    \"feature_fraction\": {\"type\": \"float\", \"bounds\": (0.3, 0.8)},\n",
        "    \"min_data_in_leaf\": {\"type\": \"int\",   \"bounds\": (100, 30000)},\n",
        "    \"num_leaves\":       {\"type\": \"int\",   \"bounds\": (10, 25000)},\n",
        "    \"max_depth\":        {\"type\": \"int\",   \"bounds\": (-1, 30)},\n",
        "    \"lambda_l1\":        {\"type\": \"float\", \"bounds\": (0.0, 10.0)},\n",
        "    \"lambda_l2\":        {\"type\": \"float\", \"bounds\": (0.0, 10.0)},\n",
        "    \"bagging_fraction\": {\"type\": \"float\", \"bounds\": (0.5, 1.0)}\n",
        "}"
      ]
    },
    {
      "cell_type": "markdown",
      "metadata": {
        "id": "-_RPFUb3zMoW"
      },
      "source": [
        "A mayor cantidad de hiperparámetros, se debe aumentar las iteraciones de la Bayesian Optimization\n",
        "<br> 30 es un valor muy tacaño, pero corre rápido\n",
        "<br> deberia partir de 50, alcanzando los 100 si se dispone de tiempo"
      ]
    },
    {
      "cell_type": "code",
      "execution_count": 12,
      "metadata": {
        "id": "q5Rd3pnbzSiG"
      },
      "outputs": [],
      "source": [
        "# Definir la cantidad de iteraciones para la optimización bayesiana\n",
        "PARAM[\"hyperparametertuning\"][\"iteraciones\"] = 50  # iteraciones bayesianas"
      ]
    },
    {
      "cell_type": "code",
      "execution_count": 13,
      "metadata": {
        "id": "or53-q3bmE5d"
      },
      "outputs": [],
      "source": [
        "# particionar agrega una columna llamada fold a un dataset\n",
        "#   que consiste en una particion estratificada segun agrupa\n",
        "# particionar( data=dataset, division=c(70,30),\n",
        "#  agrupa=clase_ternaria, seed=semilla)   crea una particion 70, 30\n",
        "\n",
        "def particionar(data: pl.DataFrame, division, agrupa=\"\", campo=\"fold\", start=1, seed=None):\n",
        "    \"\"\"\n",
        "    Replica la función R particionar() usando Polars.\n",
        "    \n",
        "    Args:\n",
        "        data: DataFrame de Polars\n",
        "        division: Lista con las proporciones de cada fold (ej: [70, 30])\n",
        "        agrupa: Nombre de la columna para estratificación (opcional)\n",
        "        campo: Nombre de la columna resultante (default: \"fold\")\n",
        "        start: Número inicial para los folds (default: 1)\n",
        "        seed: Semilla para reproducibilidad (opcional)\n",
        "    \n",
        "    Returns:\n",
        "        DataFrame con la columna de folds agregada\n",
        "    \"\"\"\n",
        "    if seed is not None:\n",
        "        np.random.seed(seed)\n",
        "    \n",
        "    # Crear los bloques repetidos según la división\n",
        "    bloques = np.concatenate([\n",
        "        np.repeat(i, d) for i, d in enumerate(division, start=start)\n",
        "    ])\n",
        "    \n",
        "    def asignar_fold(df):\n",
        "        n = len(df)\n",
        "        # Mezclar los bloques y repetir hasta cubrir todas las filas\n",
        "        folds = np.resize(np.random.permutation(bloques), n)\n",
        "        return df.with_columns(pl.Series(campo, folds))\n",
        "    \n",
        "    if agrupa and agrupa != \"\":\n",
        "        # Estratificación por grupo\n",
        "        result = (\n",
        "            data.group_by(agrupa, maintain_order=True)\n",
        "            .map_groups(asignar_fold)\n",
        "        )\n",
        "    else:\n",
        "        # Sin estratificación\n",
        "        n = data.height\n",
        "        folds = np.resize(np.random.permutation(bloques), n)\n",
        "        result = data.with_columns(pl.Series(campo, folds))\n",
        "    \n",
        "    return result"
      ]
    },
    {
      "cell_type": "code",
      "execution_count": 14,
      "metadata": {},
      "outputs": [
        {
          "name": "stdout",
          "output_type": "stream",
          "text": [
            "Resultado:\n",
            "shape: (20, 3)\n",
            "┌─────┬────────────────┬──────┐\n",
            "│ id  ┆ clase_ternaria ┆ fold │\n",
            "│ --- ┆ ---            ┆ ---  │\n",
            "│ i64 ┆ str            ┆ i64  │\n",
            "╞═════╪════════════════╪══════╡\n",
            "│ 1   ┆ A              ┆ 1    │\n",
            "│ 4   ┆ A              ┆ 1    │\n",
            "│ 5   ┆ A              ┆ 1    │\n",
            "│ 6   ┆ A              ┆ 1    │\n",
            "│ 7   ┆ A              ┆ 1    │\n",
            "│ …   ┆ …              ┆ …    │\n",
            "│ 11  ┆ B              ┆ 2    │\n",
            "│ 12  ┆ B              ┆ 2    │\n",
            "│ 17  ┆ B              ┆ 2    │\n",
            "│ 18  ┆ B              ┆ 2    │\n",
            "│ 19  ┆ B              ┆ 2    │\n",
            "└─────┴────────────────┴──────┘\n",
            "\n",
            "Conteo por fold:\n",
            "shape: (2, 2)\n",
            "┌──────┬───────┐\n",
            "│ fold ┆ count │\n",
            "│ ---  ┆ ---   │\n",
            "│ i64  ┆ u32   │\n",
            "╞══════╪═══════╡\n",
            "│ 2    ┆ 8     │\n",
            "│ 1    ┆ 12    │\n",
            "└──────┴───────┘\n"
          ]
        }
      ],
      "source": [
        "# DataFrame de ejemplo\n",
        "# Crear datos de ejemplo\n",
        "df = pl.DataFrame({\n",
        "    \"id\": range(1, 21),\n",
        "    \"clase_ternaria\": [\"A\"] * 10 + [\"B\"] * 10\n",
        "})\n",
        "\n",
        "# Partición 70/30 estratificada\n",
        "df_particionado = particionar(\n",
        "    data=df, \n",
        "    division=[70, 30], \n",
        "    agrupa=\"clase_ternaria\", \n",
        "    seed=123\n",
        ")\n",
        "\n",
        "print(\"Resultado:\")\n",
        "print(df_particionado.sort([\"clase_ternaria\", \"fold\"]))\n",
        "print(\"\\nConteo por fold:\")\n",
        "print(df_particionado['fold'].value_counts())"
      ]
    },
    {
      "cell_type": "code",
      "execution_count": 15,
      "metadata": {
        "id": "CGKOZ9aMmKxi"
      },
      "outputs": [],
      "source": [
        "def realidad_inicializar(pfuture: pl.DataFrame, pparam: dict) -> pl.DataFrame:\n",
        "    \"\"\"\n",
        "    Inicializa el dataset de realidad para medir la ganancia.\n",
        "    Replica la función R realidad_inicializar().\n",
        "    \n",
        "    Args:\n",
        "        pfuture: DataFrame con los datos del futuro\n",
        "        pparam: Diccionario con los parámetros (debe contener 'semilla_kaggle')\n",
        "    \n",
        "    Returns:\n",
        "        DataFrame con las columnas necesarias y la partición aplicada\n",
        "    \"\"\"\n",
        "    # Seleccionar solo las columnas necesarias (equivalente a pfuture[, list(numero_de_cliente, foto_mes, clase_ternaria)])\n",
        "    drealidad = pfuture.select([\"numero_de_cliente\", \"foto_mes\", \"clase_ternaria\"])\n",
        "    \n",
        "    # Aplicar la partición usando la función particionar que creamos antes\n",
        "    drealidad = particionar(\n",
        "        data=drealidad,\n",
        "        division=[3, 7],  # 30% y 70%\n",
        "        agrupa=\"clase_ternaria\",\n",
        "        seed=pparam[\"semilla_kaggle\"]\n",
        "    )\n",
        "    \n",
        "    return drealidad"
      ]
    },
    {
      "cell_type": "code",
      "execution_count": 16,
      "metadata": {},
      "outputs": [
        {
          "name": "stdout",
          "output_type": "stream",
          "text": [
            "=== Probando función particionar ===\n",
            "Resultado partición 70/30:\n",
            "shape: (20, 3)\n",
            "┌─────┬────────────────┬──────┐\n",
            "│ id  ┆ clase_ternaria ┆ fold │\n",
            "│ --- ┆ ---            ┆ ---  │\n",
            "│ i64 ┆ str            ┆ i64  │\n",
            "╞═════╪════════════════╪══════╡\n",
            "│ 1   ┆ A              ┆ 1    │\n",
            "│ 4   ┆ A              ┆ 1    │\n",
            "│ 5   ┆ A              ┆ 1    │\n",
            "│ 6   ┆ A              ┆ 1    │\n",
            "│ 7   ┆ A              ┆ 1    │\n",
            "│ …   ┆ …              ┆ …    │\n",
            "│ 11  ┆ B              ┆ 2    │\n",
            "│ 12  ┆ B              ┆ 2    │\n",
            "│ 17  ┆ B              ┆ 2    │\n",
            "│ 18  ┆ B              ┆ 2    │\n",
            "│ 19  ┆ B              ┆ 2    │\n",
            "└─────┴────────────────┴──────┘\n",
            "\n",
            "Conteo por fold:\n",
            "shape: (2, 2)\n",
            "┌──────┬───────┐\n",
            "│ fold ┆ count │\n",
            "│ ---  ┆ ---   │\n",
            "│ i64  ┆ u32   │\n",
            "╞══════╪═══════╡\n",
            "│ 2    ┆ 8     │\n",
            "│ 1    ┆ 12    │\n",
            "└──────┴───────┘\n",
            "\n",
            "Verificación estratificación:\n",
            "Clase A: shape: (2, 2)\n",
            "┌──────┬───────┐\n",
            "│ fold ┆ count │\n",
            "│ ---  ┆ ---   │\n",
            "│ i64  ┆ u32   │\n",
            "╞══════╪═══════╡\n",
            "│ 1    ┆ 7     │\n",
            "│ 2    ┆ 3     │\n",
            "└──────┴───────┘\n",
            "Clase B: shape: (2, 2)\n",
            "┌──────┬───────┐\n",
            "│ fold ┆ count │\n",
            "│ ---  ┆ ---   │\n",
            "│ i64  ┆ u32   │\n",
            "╞══════╪═══════╡\n",
            "│ 2    ┆ 5     │\n",
            "│ 1    ┆ 5     │\n",
            "└──────┴───────┘\n",
            "\n",
            "=== Probando función realidad_inicializar ===\n",
            "Dataset de realidad inicializado:\n",
            "Shape: (100, 4)\n",
            "Columnas: ['numero_de_cliente', 'foto_mes', 'clase_ternaria', 'fold']\n",
            "\n",
            "Primeras filas:\n",
            "shape: (10, 4)\n",
            "┌───────────────────┬──────────┬────────────────┬──────┐\n",
            "│ numero_de_cliente ┆ foto_mes ┆ clase_ternaria ┆ fold │\n",
            "│ ---               ┆ ---      ┆ ---            ┆ ---  │\n",
            "│ i64               ┆ i64      ┆ str            ┆ i64  │\n",
            "╞═══════════════════╪══════════╪════════════════╪══════╡\n",
            "│ 1                 ┆ 202104   ┆ CONTINUA       ┆ 2    │\n",
            "│ 2                 ┆ 202104   ┆ CONTINUA       ┆ 2    │\n",
            "│ 3                 ┆ 202104   ┆ CONTINUA       ┆ 2    │\n",
            "│ 4                 ┆ 202104   ┆ CONTINUA       ┆ 2    │\n",
            "│ 5                 ┆ 202104   ┆ CONTINUA       ┆ 2    │\n",
            "│ 6                 ┆ 202104   ┆ CONTINUA       ┆ 1    │\n",
            "│ 7                 ┆ 202104   ┆ CONTINUA       ┆ 1    │\n",
            "│ 8                 ┆ 202104   ┆ CONTINUA       ┆ 2    │\n",
            "│ 9                 ┆ 202104   ┆ CONTINUA       ┆ 2    │\n",
            "│ 10                ┆ 202104   ┆ CONTINUA       ┆ 1    │\n",
            "└───────────────────┴──────────┴────────────────┴──────┘\n",
            "\n",
            "Conteo por fold:\n",
            "shape: (2, 2)\n",
            "┌──────┬───────┐\n",
            "│ fold ┆ count │\n",
            "│ ---  ┆ ---   │\n",
            "│ i64  ┆ u32   │\n",
            "╞══════╪═══════╡\n",
            "│ 1    ┆ 30    │\n",
            "│ 2    ┆ 70    │\n",
            "└──────┴───────┘\n",
            "\n",
            "Verificación estratificación en realidad:\n",
            "Clase CONTINUA: shape: (2, 2)\n",
            "┌──────┬───────┐\n",
            "│ fold ┆ count │\n",
            "│ ---  ┆ ---   │\n",
            "│ i64  ┆ u32   │\n",
            "╞══════╪═══════╡\n",
            "│ 1    ┆ 24    │\n",
            "│ 2    ┆ 56    │\n",
            "└──────┴───────┘\n",
            "Clase BAJA+1: shape: (2, 2)\n",
            "┌──────┬───────┐\n",
            "│ fold ┆ count │\n",
            "│ ---  ┆ ---   │\n",
            "│ i64  ┆ u32   │\n",
            "╞══════╪═══════╡\n",
            "│ 2    ┆ 10    │\n",
            "│ 1    ┆ 5     │\n",
            "└──────┴───────┘\n",
            "Clase BAJA+2: shape: (2, 2)\n",
            "┌──────┬───────┐\n",
            "│ fold ┆ count │\n",
            "│ ---  ┆ ---   │\n",
            "│ i64  ┆ u32   │\n",
            "╞══════╪═══════╡\n",
            "│ 2    ┆ 4     │\n",
            "│ 1    ┆ 1     │\n",
            "└──────┴───────┘\n"
          ]
        }
      ],
      "source": [
        "def test_particionar_y_realidad():\n",
        "    \"\"\"\n",
        "    Función de prueba para verificar que ambas funciones trabajen correctamente\n",
        "    \"\"\"\n",
        "    print(\"=== Probando función particionar ===\")\n",
        "    \n",
        "    # Crear datos de ejemplo\n",
        "    df_test = pl.DataFrame({\n",
        "        \"id\": range(1, 21),\n",
        "        \"clase_ternaria\": [\"A\"] * 10 + [\"B\"] * 10\n",
        "    })\n",
        "    \n",
        "    # Test 1: Partición básica\n",
        "    df_particionado = particionar(\n",
        "        data=df_test, \n",
        "        division=[70, 30], \n",
        "        agrupa=\"clase_ternaria\", \n",
        "        seed=123\n",
        "    )\n",
        "    \n",
        "    print(\"Resultado partición 70/30:\")\n",
        "    print(df_particionado.sort([\"clase_ternaria\", \"fold\"]))\n",
        "    print(\"\\nConteo por fold:\")\n",
        "    print(df_particionado['fold'].value_counts())\n",
        "    \n",
        "    # Test 2: Verificar estratificación\n",
        "    print(\"\\nVerificación estratificación:\")\n",
        "    for clase in [\"A\", \"B\"]:\n",
        "        subset = df_particionado.filter(pl.col(\"clase_ternaria\") == clase)\n",
        "        counts = subset['fold'].value_counts()\n",
        "        print(f\"Clase {clase}: {counts}\")\n",
        "    \n",
        "    print(\"\\n=== Probando función realidad_inicializar ===\")\n",
        "    \n",
        "    # Crear datos simulando el futuro\n",
        "    df_future = pl.DataFrame({\n",
        "        \"numero_de_cliente\": range(1, 101),\n",
        "        \"foto_mes\": [202104] * 100,  # Mes del futuro\n",
        "        \"clase_ternaria\": [\"CONTINUA\"] * 80 + [\"BAJA+1\"] * 15 + [\"BAJA+2\"] * 5,\n",
        "        \"otra_columna\": range(101, 201)  # Columna extra que no debe aparecer\n",
        "    })\n",
        "    \n",
        "    # Parámetros de prueba\n",
        "    param_test = {\n",
        "        \"semilla_kaggle\": 314159\n",
        "    }\n",
        "    \n",
        "    # Inicializar realidad\n",
        "    drealidad = realidad_inicializar(df_future, param_test)\n",
        "    \n",
        "    print(\"Dataset de realidad inicializado:\")\n",
        "    print(f\"Shape: {drealidad.shape}\")\n",
        "    print(f\"Columnas: {drealidad.columns}\")\n",
        "    print(\"\\nPrimeras filas:\")\n",
        "    print(drealidad.head(10))\n",
        "    \n",
        "    print(\"\\nConteo por fold:\")\n",
        "    print(drealidad['fold'].value_counts())\n",
        "    \n",
        "    print(\"\\nVerificación estratificación en realidad:\")\n",
        "    for clase in [\"CONTINUA\", \"BAJA+1\", \"BAJA+2\"]:\n",
        "        subset = drealidad.filter(pl.col(\"clase_ternaria\") == clase)\n",
        "        if len(subset) > 0:\n",
        "            counts = subset['fold'].value_counts()\n",
        "            print(f\"Clase {clase}: {counts}\")\n",
        "    \n",
        "    return df_particionado, drealidad\n",
        "\n",
        "# Ejecutar las pruebas\n",
        "df_particionado, drealidad = test_particionar_y_realidad()"
      ]
    },
    {
      "cell_type": "code",
      "execution_count": 17,
      "metadata": {
        "id": "6aVLFlEbmM3s"
      },
      "outputs": [],
      "source": [
        "# Evalúa la ganancia en los datos de la realidad usando polars\n",
        "\n",
        "def realidad_evaluar(prealidad: pl.DataFrame, pprediccion: pl.DataFrame) -> dict:\n",
        "    \"\"\"\n",
        "    Evalúa la ganancia en los datos de la realidad.\n",
        "    Replica la función R realidad_evaluar().\n",
        "    \n",
        "    Args:\n",
        "        prealidad: DataFrame con la realidad (debe tener columnas: numero_de_cliente, foto_mes, fold, clase_ternaria)\n",
        "        pprediccion: DataFrame con las predicciones (debe tener columnas: numero_de_cliente, foto_mes, Predicted)\n",
        "    \n",
        "    Returns:\n",
        "        dict: Diccionario con las ganancias 'public', 'private' y 'total'\n",
        "    \"\"\"\n",
        "    # Join de la realidad con las predicciones (equivalente a prealidad[pprediccion, on=...])\n",
        "    df_joined = prealidad.join(\n",
        "        pprediccion.select([\"numero_de_cliente\", \"foto_mes\", \"Predicted\"]),\n",
        "        on=[\"numero_de_cliente\", \"foto_mes\"],\n",
        "        how=\"left\"\n",
        "    )\n",
        "    \n",
        "    # Agrupar por fold, predicted, clase_ternaria y contar (equivalente a tbl <- prealidad[, list(\"qty\"=.N), list(fold, predicted, clase_ternaria)])\n",
        "    tbl = (\n",
        "        df_joined\n",
        "        .group_by([\"fold\", \"Predicted\", \"clase_ternaria\"])\n",
        "        .agg(pl.len().alias(\"qty\"))\n",
        "    )\n",
        "    \n",
        "    # Calcular ganancia por registro\n",
        "    tbl = tbl.with_columns(\n",
        "        pl.when(pl.col(\"clase_ternaria\") == \"BAJA+2\")\n",
        "        .then(pl.col(\"qty\") * 780000)\n",
        "        .otherwise(pl.col(\"qty\") * -20000)\n",
        "        .alias(\"ganancia\")\n",
        "    )\n",
        "    \n",
        "    # Calcular métricas\n",
        "    res = {}\n",
        "    \n",
        "    # Ganancia pública: fold==1 y predicted==1, dividido por 0.3\n",
        "    public_ganancia = (\n",
        "        tbl.filter((pl.col(\"fold\") == 1) & (pl.col(\"Predicted\") == 1))\n",
        "        .select(pl.col(\"ganancia\").sum())\n",
        "        .item()\n",
        "    )\n",
        "    res[\"public\"] = public_ganancia / 0.3 if public_ganancia is not None else 0\n",
        "    \n",
        "    # Ganancia privada: fold==2 y predicted==1, dividido por 0.7\n",
        "    private_ganancia = (\n",
        "        tbl.filter((pl.col(\"fold\") == 2) & (pl.col(\"Predicted\") == 1))\n",
        "        .select(pl.col(\"ganancia\").sum())\n",
        "        .item()\n",
        "    )\n",
        "    res[\"private\"] = private_ganancia / 0.7 if private_ganancia is not None else 0\n",
        "    \n",
        "    # Ganancia total: predicted==1\n",
        "    total_ganancia = (\n",
        "        tbl.filter(pl.col(\"Predicted\") == 1)\n",
        "        .select(pl.col(\"ganancia\").sum())\n",
        "        .item()\n",
        "    )\n",
        "    res[\"total\"] = total_ganancia if total_ganancia is not None else 0\n",
        "    \n",
        "    return res"
      ]
    },
    {
      "cell_type": "code",
      "execution_count": 18,
      "metadata": {},
      "outputs": [
        {
          "name": "stdout",
          "output_type": "stream",
          "text": [
            "=== Probando función realidad_evaluar ===\n",
            "Datos de realidad:\n",
            "Total registros: 100\n",
            "Distribución por fold:\n",
            "shape: (2, 2)\n",
            "┌──────┬───────┐\n",
            "│ fold ┆ count │\n",
            "│ ---  ┆ ---   │\n",
            "│ i64  ┆ u32   │\n",
            "╞══════╪═══════╡\n",
            "│ 2    ┆ 70    │\n",
            "│ 1    ┆ 30    │\n",
            "└──────┴───────┘\n",
            "Distribución por clase:\n",
            "shape: (3, 2)\n",
            "┌────────────────┬───────┐\n",
            "│ clase_ternaria ┆ count │\n",
            "│ ---            ┆ ---   │\n",
            "│ str            ┆ u32   │\n",
            "╞════════════════╪═══════╡\n",
            "│ BAJA+2         ┆ 5     │\n",
            "│ CONTINUA       ┆ 80    │\n",
            "│ BAJA+1         ┆ 15    │\n",
            "└────────────────┴───────┘\n",
            "\n",
            "Predicciones:\n",
            "Clientes seleccionados: 10\n",
            "shape: (10, 3)\n",
            "┌───────────────────┬──────────┬───────────┐\n",
            "│ numero_de_cliente ┆ foto_mes ┆ Predicted │\n",
            "│ ---               ┆ ---      ┆ ---       │\n",
            "│ i64               ┆ i64      ┆ i64       │\n",
            "╞═══════════════════╪══════════╪═══════════╡\n",
            "│ 1                 ┆ 202104   ┆ 1         │\n",
            "│ 5                 ┆ 202104   ┆ 1         │\n",
            "│ 10                ┆ 202104   ┆ 1         │\n",
            "│ 15                ┆ 202104   ┆ 1         │\n",
            "│ 20                ┆ 202104   ┆ 1         │\n",
            "│ 25                ┆ 202104   ┆ 1         │\n",
            "│ 30                ┆ 202104   ┆ 1         │\n",
            "│ 35                ┆ 202104   ┆ 1         │\n",
            "│ 40                ┆ 202104   ┆ 1         │\n",
            "│ 45                ┆ 202104   ┆ 1         │\n",
            "└───────────────────┴──────────┴───────────┘\n",
            "\n",
            "=== Resultados de ganancia ===\n",
            "Ganancia Pública (fold=1): -466,667\n",
            "Ganancia Privada (fold=2): -85,714\n",
            "Ganancia Total: -200,000\n",
            "\n",
            "=== Verificación manual ===\n",
            "Clientes seleccionados con sus clases:\n",
            "shape: (10, 3)\n",
            "┌───────────────────┬──────┬────────────────┐\n",
            "│ numero_de_cliente ┆ fold ┆ clase_ternaria │\n",
            "│ ---               ┆ ---  ┆ ---            │\n",
            "│ i64               ┆ i64  ┆ str            │\n",
            "╞═══════════════════╪══════╪════════════════╡\n",
            "│ 1                 ┆ 1    ┆ CONTINUA       │\n",
            "│ 5                 ┆ 1    ┆ CONTINUA       │\n",
            "│ 10                ┆ 1    ┆ CONTINUA       │\n",
            "│ 15                ┆ 1    ┆ CONTINUA       │\n",
            "│ 20                ┆ 1    ┆ CONTINUA       │\n",
            "│ 25                ┆ 1    ┆ CONTINUA       │\n",
            "│ 30                ┆ 1    ┆ CONTINUA       │\n",
            "│ 35                ┆ 2    ┆ CONTINUA       │\n",
            "│ 40                ┆ 2    ┆ CONTINUA       │\n",
            "│ 45                ┆ 2    ┆ CONTINUA       │\n",
            "└───────────────────┴──────┴────────────────┘\n",
            "\n",
            "Ganancia manual total: -200,000\n",
            "Coincide con función: True\n"
          ]
        }
      ],
      "source": [
        "def test_realidad_evaluar():\n",
        "    \"\"\"\n",
        "    Función de prueba para verificar que realidad_evaluar funcione correctamente\n",
        "    \"\"\"\n",
        "    print(\"=== Probando función realidad_evaluar ===\")\n",
        "    \n",
        "    # Crear datos de realidad simulados\n",
        "    drealidad = pl.DataFrame({\n",
        "        \"numero_de_cliente\": list(range(1, 101)),\n",
        "        \"foto_mes\": [202104] * 100,\n",
        "        \"fold\": [1] * 30 + [2] * 70,  # 30% público, 70% privado\n",
        "        \"clase_ternaria\": [\"CONTINUA\"] * 80 + [\"BAJA+1\"] * 15 + [\"BAJA+2\"] * 5\n",
        "    })\n",
        "    \n",
        "    # Crear predicciones simuladas (algunos clientes seleccionados)\n",
        "    pprediccion = pl.DataFrame({\n",
        "        \"numero_de_cliente\": [1, 5, 10, 15, 20, 25, 30, 35, 40, 45],  # 10 clientes seleccionados\n",
        "        \"foto_mes\": [202104] * 10,\n",
        "        \"Predicted\": [1] * 10  # Todos predichos como BAJA\n",
        "    })\n",
        "    \n",
        "    print(\"Datos de realidad:\")\n",
        "    print(f\"Total registros: {drealidad.height}\")\n",
        "    print(\"Distribución por fold:\")\n",
        "    print(drealidad['fold'].value_counts())\n",
        "    print(\"Distribución por clase:\")\n",
        "    print(drealidad['clase_ternaria'].value_counts())\n",
        "    \n",
        "    print(\"\\nPredicciones:\")\n",
        "    print(f\"Clientes seleccionados: {pprediccion.height}\")\n",
        "    print(pprediccion)\n",
        "    \n",
        "    # Evaluar ganancia\n",
        "    resultado = realidad_evaluar(drealidad, pprediccion)\n",
        "    \n",
        "    print(\"\\n=== Resultados de ganancia ===\")\n",
        "    print(f\"Ganancia Pública (fold=1): {resultado['public']:,.0f}\")\n",
        "    print(f\"Ganancia Privada (fold=2): {resultado['private']:,.0f}\")\n",
        "    print(f\"Ganancia Total: {resultado['total']:,.0f}\")\n",
        "    \n",
        "    # Verificar manualmente algunos cálculos\n",
        "    print(\"\\n=== Verificación manual ===\")\n",
        "    \n",
        "    # Join para ver qué clientes fueron seleccionados y sus clases\n",
        "    df_joined = drealidad.join(\n",
        "        pprediccion.select([\"numero_de_cliente\", \"Predicted\"]),\n",
        "        on=[\"numero_de_cliente\"],\n",
        "        how=\"inner\"\n",
        "    )\n",
        "    \n",
        "    print(\"Clientes seleccionados con sus clases:\")\n",
        "    print(df_joined.select([\"numero_de_cliente\", \"fold\", \"clase_ternaria\"]))\n",
        "    \n",
        "    # Calcular ganancia manual\n",
        "    ganancia_manual = 0\n",
        "    for row in df_joined.iter_rows(named=True):\n",
        "        if row[\"clase_ternaria\"] == \"BAJA+2\":\n",
        "            ganancia_manual += 780000\n",
        "        else:\n",
        "            ganancia_manual += -20000\n",
        "    \n",
        "    print(f\"\\nGanancia manual total: {ganancia_manual:,.0f}\")\n",
        "    print(f\"Coincide con función: {abs(ganancia_manual - resultado['total']) < 1}\")\n",
        "    \n",
        "    return resultado\n",
        "\n",
        "# Ejecutar la prueba\n",
        "resultado = test_realidad_evaluar()"
      ]
    },
    {
      "cell_type": "markdown",
      "metadata": {
        "id": "4RWZXL1VZjMI"
      },
      "source": [
        "### Preprocesamiento"
      ]
    },
    {
      "cell_type": "code",
      "execution_count": 19,
      "metadata": {
        "id": "j3toG9-lZm4K"
      },
      "outputs": [],
      "source": [
        "# carpeta de trabajo\n",
        "\n",
        "# Definir la carpeta de trabajo y crearla si no existe\n",
        "base_path = \"exp\"\n",
        "experimento_folder = f\"HT{PARAM['experimento']}\"\n",
        "experimento_path = os.path.join(base_path, experimento_folder)\n",
        "\n",
        "# Crear la carpeta del experimento si no existe\n",
        "os.makedirs(experimento_path, exist_ok=True)"
      ]
    },
    {
      "cell_type": "code",
      "execution_count": 20,
      "metadata": {
        "id": "FM3lxKoLZ643"
      },
      "outputs": [
        {
          "data": {
            "text/html": [
              "<div><style>\n",
              ".dataframe > thead > tr,\n",
              ".dataframe > tbody > tr {\n",
              "  text-align: right;\n",
              "  white-space: pre-wrap;\n",
              "}\n",
              "</style>\n",
              "<small>shape: (5, 155)</small><table border=\"1\" class=\"dataframe\"><thead><tr><th>numero_de_cliente</th><th>foto_mes</th><th>active_quarter</th><th>cliente_vip</th><th>internet</th><th>cliente_edad</th><th>cliente_antiguedad</th><th>mrentabilidad</th><th>mrentabilidad_annual</th><th>mcomisiones</th><th>mactivos_margen</th><th>mpasivos_margen</th><th>cproductos</th><th>tcuentas</th><th>ccuenta_corriente</th><th>mcuenta_corriente_adicional</th><th>mcuenta_corriente</th><th>ccaja_ahorro</th><th>mcaja_ahorro</th><th>mcaja_ahorro_adicional</th><th>mcaja_ahorro_dolares</th><th>cdescubierto_preacordado</th><th>mcuentas_saldo</th><th>ctarjeta_debito</th><th>ctarjeta_debito_transacciones</th><th>mautoservicio</th><th>ctarjeta_visa</th><th>ctarjeta_visa_transacciones</th><th>mtarjeta_visa_consumo</th><th>ctarjeta_master</th><th>ctarjeta_master_transacciones</th><th>mtarjeta_master_consumo</th><th>cprestamos_personales</th><th>mprestamos_personales</th><th>cprestamos_prendarios</th><th>mprestamos_prendarios</th><th>cprestamos_hipotecarios</th><th>&hellip;</th><th>Master_mconsumospesos</th><th>Master_mconsumosdolares</th><th>Master_mlimitecompra</th><th>Master_madelantopesos</th><th>Master_madelantodolares</th><th>Master_fultimo_cierre</th><th>Master_mpagado</th><th>Master_mpagospesos</th><th>Master_mpagosdolares</th><th>Master_fechaalta</th><th>Master_mconsumototal</th><th>Master_cconsumos</th><th>Master_cadelantosefectivo</th><th>Master_mpagominimo</th><th>Visa_delinquency</th><th>Visa_status</th><th>Visa_mfinanciacion_limite</th><th>Visa_Fvencimiento</th><th>Visa_Finiciomora</th><th>Visa_msaldototal</th><th>Visa_msaldopesos</th><th>Visa_msaldodolares</th><th>Visa_mconsumospesos</th><th>Visa_mconsumosdolares</th><th>Visa_mlimitecompra</th><th>Visa_madelantopesos</th><th>Visa_madelantodolares</th><th>Visa_fultimo_cierre</th><th>Visa_mpagado</th><th>Visa_mpagospesos</th><th>Visa_mpagosdolares</th><th>Visa_fechaalta</th><th>Visa_mconsumototal</th><th>Visa_cconsumos</th><th>Visa_cadelantosefectivo</th><th>Visa_mpagominimo</th><th>clase_ternaria</th></tr><tr><td>i64</td><td>i64</td><td>i64</td><td>i64</td><td>i64</td><td>i64</td><td>i64</td><td>f64</td><td>f64</td><td>f64</td><td>f64</td><td>f64</td><td>i64</td><td>i64</td><td>i64</td><td>f64</td><td>f64</td><td>i64</td><td>f64</td><td>f64</td><td>f64</td><td>i64</td><td>f64</td><td>i64</td><td>i64</td><td>f64</td><td>i64</td><td>i64</td><td>f64</td><td>i64</td><td>i64</td><td>f64</td><td>i64</td><td>f64</td><td>i64</td><td>f64</td><td>i64</td><td>&hellip;</td><td>f64</td><td>f64</td><td>f64</td><td>f64</td><td>f64</td><td>i64</td><td>f64</td><td>f64</td><td>f64</td><td>i64</td><td>f64</td><td>i64</td><td>i64</td><td>f64</td><td>i64</td><td>i64</td><td>f64</td><td>i64</td><td>i64</td><td>f64</td><td>f64</td><td>f64</td><td>f64</td><td>f64</td><td>f64</td><td>f64</td><td>f64</td><td>i64</td><td>f64</td><td>f64</td><td>f64</td><td>i64</td><td>f64</td><td>i64</td><td>i64</td><td>f64</td><td>str</td></tr></thead><tbody><tr><td>249221323</td><td>202101</td><td>1</td><td>0</td><td>0</td><td>46</td><td>93</td><td>3070.24</td><td>15691.1</td><td>1278.11</td><td>890.96</td><td>636.86</td><td>8</td><td>1</td><td>1</td><td>0.0</td><td>-314.48</td><td>2</td><td>25761.53</td><td>0.0</td><td>10240.09</td><td>1</td><td>22890.77</td><td>1</td><td>5</td><td>35013.67</td><td>1</td><td>10</td><td>15929.92</td><td>1</td><td>13</td><td>27145.02</td><td>0</td><td>0.0</td><td>0</td><td>0.0</td><td>0</td><td>&hellip;</td><td>10853.35</td><td>58.6</td><td>70380.0</td><td>0.0</td><td>0.0</td><td>4</td><td>0.0</td><td>-10385.48</td><td>0.0</td><td>2814</td><td>10853.35</td><td>7</td><td>0</td><td>9290.16</td><td>0</td><td>0</td><td>63342.0</td><td>-849</td><td>null</td><td>43251.02</td><td>50733.44</td><td>0.0</td><td>6743.38</td><td>1.36</td><td>70380.0</td><td>0.0</td><td>0.0</td><td>4</td><td>0.0</td><td>-20833.47</td><td>0.0</td><td>2814</td><td>6743.38</td><td>6</td><td>0</td><td>9559.95</td><td>&quot;CONTINUA&quot;</td></tr><tr><td>249221323</td><td>202102</td><td>1</td><td>0</td><td>0</td><td>46</td><td>94</td><td>3385.85</td><td>19103.66</td><td>1230.47</td><td>1631.3</td><td>206.19</td><td>8</td><td>1</td><td>1</td><td>0.0</td><td>0.0</td><td>2</td><td>8116.43</td><td>0.0</td><td>10536.47</td><td>1</td><td>10629.59</td><td>1</td><td>1</td><td>2315.5</td><td>1</td><td>11</td><td>17285.39</td><td>1</td><td>22</td><td>25713.45</td><td>0</td><td>0.0</td><td>0</td><td>0.0</td><td>0</td><td>&hellip;</td><td>10910.41</td><td>56.8</td><td>70380.0</td><td>0.0</td><td>0.0</td><td>-3</td><td>42765.48</td><td>-42426.83</td><td>59.3</td><td>2842</td><td>10910.41</td><td>17</td><td>0</td><td>8539.44</td><td>0</td><td>0</td><td>63342.0</td><td>-821</td><td>null</td><td>19687.47</td><td>23093.4</td><td>0.0</td><td>7715.26</td><td>1.77</td><td>70380.0</td><td>0.0</td><td>0.0</td><td>-3</td><td>50733.44</td><td>-50733.44</td><td>0.0</td><td>2842</td><td>7715.26</td><td>8</td><td>0</td><td>7413.36</td><td>&quot;CONTINUA&quot;</td></tr><tr><td>249221323</td><td>202103</td><td>1</td><td>0</td><td>0</td><td>46</td><td>95</td><td>5341.18</td><td>24020.21</td><td>755.85</td><td>2768.95</td><td>1140.11</td><td>8</td><td>1</td><td>1</td><td>0.0</td><td>-3933.18</td><td>2</td><td>4015.77</td><td>0.0</td><td>10789.84</td><td>1</td><td>4650.31</td><td>1</td><td>0</td><td>0.0</td><td>1</td><td>10</td><td>18976.09</td><td>1</td><td>16</td><td>45821.57</td><td>0</td><td>0.0</td><td>0</td><td>0.0</td><td>0</td><td>&hellip;</td><td>30992.11</td><td>39.83</td><td>70380.0</td><td>0.0</td><td>0.0</td><td>1</td><td>0.0</td><td>-42534.65</td><td>57.48</td><td>2873</td><td>30992.11</td><td>11</td><td>0</td><td>0.0</td><td>0</td><td>0</td><td>63342.0</td><td>-790</td><td>null</td><td>-2453.06</td><td>-2877.43</td><td>0.0</td><td>10703.0</td><td>1.53</td><td>70380.0</td><td>0.0</td><td>0.0</td><td>1</td><td>0.0</td><td>-50733.44</td><td>0.0</td><td>2873</td><td>10703.0</td><td>7</td><td>0</td><td>0.0</td><td>&quot;CONTINUA&quot;</td></tr><tr><td>249221323</td><td>202104</td><td>1</td><td>0</td><td>0</td><td>46</td><td>96</td><td>5356.62</td><td>29189.81</td><td>1470.2</td><td>2627.7</td><td>685.53</td><td>8</td><td>1</td><td>1</td><td>0.0</td><td>-1960.57</td><td>2</td><td>2136.11</td><td>0.0</td><td>10974.0</td><td>1</td><td>9358.46</td><td>1</td><td>0</td><td>0.0</td><td>1</td><td>10</td><td>19201.77</td><td>1</td><td>18</td><td>17373.08</td><td>0</td><td>0.0</td><td>0</td><td>0.0</td><td>0</td><td>&hellip;</td><td>10360.48</td><td>49.19</td><td>70380.0</td><td>0.0</td><td>0.0</td><td>2</td><td>0.0</td><td>-42579.46</td><td>40.31</td><td>2903</td><td>10360.48</td><td>14</td><td>0</td><td>4821.03</td><td>0</td><td>0</td><td>63342.0</td><td>-760</td><td>null</td><td>14545.66</td><td>17062.05</td><td>0.0</td><td>8094.73</td><td>1.51</td><td>70380.0</td><td>0.0</td><td>0.0</td><td>2</td><td>0.0</td><td>0.0</td><td>0.0</td><td>2903</td><td>8094.73</td><td>6</td><td>0</td><td>0.0</td><td>&quot;CONTINUA&quot;</td></tr><tr><td>249221323</td><td>202105</td><td>1</td><td>0</td><td>0</td><td>46</td><td>97</td><td>2489.25</td><td>31505.78</td><td>1008.8</td><td>952.16</td><td>309.95</td><td>8</td><td>1</td><td>1</td><td>0.0</td><td>-263.5</td><td>2</td><td>6204.56</td><td>0.0</td><td>11106.55</td><td>1</td><td>13240.63</td><td>1</td><td>1</td><td>2216.97</td><td>1</td><td>9</td><td>19278.3</td><td>1</td><td>14</td><td>16708.69</td><td>0</td><td>0.0</td><td>0</td><td>0.0</td><td>0</td><td>&hellip;</td><td>7293.92</td><td>43.34</td><td>70380.0</td><td>0.0</td><td>0.0</td><td>5</td><td>0.0</td><td>-21115.45</td><td>49.78</td><td>2934</td><td>7293.92</td><td>10</td><td>0</td><td>4586.43</td><td>0</td><td>0</td><td>63342.0</td><td>-729</td><td>null</td><td>17064.74</td><td>20016.94</td><td>0.0</td><td>9051.98</td><td>1.48</td><td>70380.0</td><td>0.0</td><td>0.0</td><td>5</td><td>0.0</td><td>-17062.05</td><td>0.0</td><td>2934</td><td>9051.98</td><td>6</td><td>0</td><td>2111.4</td><td>null</td></tr></tbody></table></div>"
            ],
            "text/plain": [
              "shape: (5, 155)\n",
              "┌───────────┬──────────┬───────────┬───────────┬───┬───────────┬───────────┬───────────┬───────────┐\n",
              "│ numero_de ┆ foto_mes ┆ active_qu ┆ cliente_v ┆ … ┆ Visa_ccon ┆ Visa_cade ┆ Visa_mpag ┆ clase_ter │\n",
              "│ _cliente  ┆ ---      ┆ arter     ┆ ip        ┆   ┆ sumos     ┆ lantosefe ┆ ominimo   ┆ naria     │\n",
              "│ ---       ┆ i64      ┆ ---       ┆ ---       ┆   ┆ ---       ┆ ctivo     ┆ ---       ┆ ---       │\n",
              "│ i64       ┆          ┆ i64       ┆ i64       ┆   ┆ i64       ┆ ---       ┆ f64       ┆ str       │\n",
              "│           ┆          ┆           ┆           ┆   ┆           ┆ i64       ┆           ┆           │\n",
              "╞═══════════╪══════════╪═══════════╪═══════════╪═══╪═══════════╪═══════════╪═══════════╪═══════════╡\n",
              "│ 249221323 ┆ 202101   ┆ 1         ┆ 0         ┆ … ┆ 6         ┆ 0         ┆ 9559.95   ┆ CONTINUA  │\n",
              "│ 249221323 ┆ 202102   ┆ 1         ┆ 0         ┆ … ┆ 8         ┆ 0         ┆ 7413.36   ┆ CONTINUA  │\n",
              "│ 249221323 ┆ 202103   ┆ 1         ┆ 0         ┆ … ┆ 7         ┆ 0         ┆ 0.0       ┆ CONTINUA  │\n",
              "│ 249221323 ┆ 202104   ┆ 1         ┆ 0         ┆ … ┆ 6         ┆ 0         ┆ 0.0       ┆ CONTINUA  │\n",
              "│ 249221323 ┆ 202105   ┆ 1         ┆ 0         ┆ … ┆ 6         ┆ 0         ┆ 2111.4    ┆ null      │\n",
              "└───────────┴──────────┴───────────┴───────────┴───┴───────────┴───────────┴───────────┴───────────┘"
            ]
          },
          "execution_count": 20,
          "metadata": {},
          "output_type": "execute_result"
        }
      ],
      "source": [
        "# Lectura del dataset\n",
        "dataset = pl.read_csv(\"datasets/competencia_01.csv.gz\", infer_schema_length=100000)\n",
        "dataset.head()"
      ]
    },
    {
      "cell_type": "code",
      "execution_count": 21,
      "metadata": {},
      "outputs": [],
      "source": [
        "#dataset = dataset.group_by(\"clase_ternaria\", maintain_order=True).map_groups(lambda group: group.sample(fraction=0.1, seed=42))"
      ]
    },
    {
      "cell_type": "code",
      "execution_count": 22,
      "metadata": {},
      "outputs": [
        {
          "data": {
            "text/plain": [
              "(978439, 155)"
            ]
          },
          "execution_count": 22,
          "metadata": {},
          "output_type": "execute_result"
        }
      ],
      "source": [
        "dataset.shape"
      ]
    },
    {
      "cell_type": "code",
      "execution_count": 23,
      "metadata": {},
      "outputs": [
        {
          "name": "stderr",
          "output_type": "stream",
          "text": [
            "/tmp/ipykernel_1878865/1420011140.py:9: DeprecationWarning: `NUMERIC_DTYPES` was deprecated in version 1.0.0. Define your own data type groups or use the `polars.selectors` module for selecting columns of a certain data type.\n",
            "  if dt in pl.NUMERIC_DTYPES and c not in excluir]\n"
          ]
        },
        {
          "name": "stdout",
          "output_type": "stream",
          "text": [
            "shape: (5, 4)\n",
            "┌───────────────────┬──────────┬─────────────────────┬───────────────────────┐\n",
            "│ numero_de_cliente ┆ foto_mes ┆ active_quarter_lag1 ┆ active_quarter_delta1 │\n",
            "│ ---               ┆ ---      ┆ ---                 ┆ ---                   │\n",
            "│ i64               ┆ i64      ┆ i64                 ┆ i64                   │\n",
            "╞═══════════════════╪══════════╪═════════════════════╪═══════════════════════╡\n",
            "│ 249221323         ┆ 202101   ┆ null                ┆ null                  │\n",
            "│ 249221323         ┆ 202102   ┆ 1                   ┆ 0                     │\n",
            "│ 249221323         ┆ 202103   ┆ 1                   ┆ 0                     │\n",
            "│ 249221323         ┆ 202104   ┆ 1                   ┆ 0                     │\n",
            "│ 249221323         ┆ 202105   ┆ 1                   ┆ 0                     │\n",
            "└───────────────────┴──────────┴─────────────────────┴───────────────────────┘\n"
          ]
        }
      ],
      "source": [
        "### Lags y deltas\n",
        "\n",
        "# ordenar por cliente y mes para que los shifts sean lags reales\n",
        "dataset = dataset.sort([\"numero_de_cliente\", \"foto_mes\"])\n",
        "\n",
        "# columnas numéricas (excluyendo id/tiempo/target)\n",
        "excluir = {\"numero_de_cliente\", \"foto_mes\", \"clase_ternaria\"}\n",
        "num_cols = [c for c, dt in zip(dataset.columns, dataset.dtypes)\n",
        "            if dt in pl.NUMERIC_DTYPES and c not in excluir]\n",
        "\n",
        "# lags 1 y 2 + deltas 1 y 2 por cliente\n",
        "exprs = []\n",
        "for c in num_cols:\n",
        "    exprs += [\n",
        "        pl.col(c).shift(1).over(\"numero_de_cliente\").alias(f\"{c}_lag1\"),\n",
        "        pl.col(c).shift(2).over(\"numero_de_cliente\").alias(f\"{c}_lag2\"),\n",
        "        (pl.col(c) - pl.col(c).shift(1).over(\"numero_de_cliente\")).alias(f\"{c}_delta1\"),\n",
        "        (pl.col(c) - pl.col(c).shift(2).over(\"numero_de_cliente\")).alias(f\"{c}_delta2\"),\n",
        "    ]\n",
        "\n",
        "dataset = dataset.with_columns(exprs)\n",
        "\n",
        "# vista rápida\n",
        "print(dataset.select([\"numero_de_cliente\",\"foto_mes\"] + [f\"{num_cols[0]}_lag1\", f\"{num_cols[0]}_delta1\"]).head())\n"
      ]
    },
    {
      "cell_type": "code",
      "execution_count": 24,
      "metadata": {},
      "outputs": [],
      "source": [
        "# Intentamos identificar quien recibe aguinaldo\n",
        "# Creo un criterio de identificación de aguinaldo, y la modifico con un factor de proporcion\n",
        "\n",
        "for var in num_cols:\n",
        "    mediana_hist = dataset.filter(pl.col(\"foto_mes\") < 202106)[var].median()\n",
        "    mediana_junio = dataset.filter(pl.col(\"foto_mes\") == 202106)[var].median()\n",
        "\n",
        "    # Evitar división por cero\n",
        "    if mediana_junio == 0 or mediana_junio is None:\n",
        "        factor = 1.0\n",
        "    else:\n",
        "        factor = mediana_hist / mediana_junio\n",
        "\n",
        "    # Corrige solo en junio 202106 para la columna correspondiente\n",
        "    dataset = dataset.with_columns(\n",
        "        pl.when(pl.col(\"foto_mes\") == 202106)\n",
        "        .then(pl.col(var) * factor)\n",
        "        .otherwise(pl.col(var))\n",
        "        .alias(var)\n",
        "    )"
      ]
    },
    {
      "cell_type": "code",
      "execution_count": 25,
      "metadata": {},
      "outputs": [
        {
          "name": "stdout",
          "output_type": "stream",
          "text": [
            "shape: (5, 5)\n",
            "┌───────────────────┬──────────┬───────────┬───────────────┬─────────────────┐\n",
            "│ numero_de_cliente ┆ foto_mes ┆ mpayroll  ┆ mpayroll_lag1 ┆ mpayroll_delta1 │\n",
            "│ ---               ┆ ---      ┆ ---       ┆ ---           ┆ ---             │\n",
            "│ i64               ┆ i64      ┆ f64       ┆ f64           ┆ f64             │\n",
            "╞═══════════════════╪══════════╪═══════════╪═══════════════╪═════════════════╡\n",
            "│ 249221323         ┆ 202101   ┆ 97524.39  ┆ null          ┆ null            │\n",
            "│ 249221323         ┆ 202102   ┆ 97055.19  ┆ 97524.39      ┆ -469.2          │\n",
            "│ 249221323         ┆ 202103   ┆ 97289.79  ┆ 97055.19      ┆ 234.6           │\n",
            "│ 249221323         ┆ 202104   ┆ 97641.69  ┆ 97289.79      ┆ 351.9           │\n",
            "│ 249221323         ┆ 202105   ┆ 113852.55 ┆ 97641.69      ┆ 16210.86        │\n",
            "└───────────────────┴──────────┴───────────┴───────────────┴─────────────────┘\n"
          ]
        }
      ],
      "source": [
        "print(dataset.select([\"numero_de_cliente\",\"foto_mes\", \"mpayroll\", \"mpayroll_lag1\", \"mpayroll_delta1\"]).head())\n"
      ]
    },
    {
      "cell_type": "code",
      "execution_count": 26,
      "metadata": {
        "id": "xElu4s5W4rX7"
      },
      "outputs": [
        {
          "name": "stdout",
          "output_type": "stream",
          "text": [
            "['numero_de_cliente', 'foto_mes', 'active_quarter', 'cliente_vip', 'internet', 'cliente_edad', 'cliente_antiguedad', 'mrentabilidad', 'mrentabilidad_annual', 'mcomisiones', 'mactivos_margen', 'mpasivos_margen', 'cproductos', 'tcuentas', 'ccuenta_corriente', 'mcuenta_corriente_adicional', 'mcuenta_corriente', 'ccaja_ahorro', 'mcaja_ahorro', 'mcaja_ahorro_adicional', 'mcaja_ahorro_dolares', 'cdescubierto_preacordado', 'mcuentas_saldo', 'ctarjeta_debito', 'ctarjeta_debito_transacciones', 'mautoservicio', 'ctarjeta_visa', 'ctarjeta_visa_transacciones', 'mtarjeta_visa_consumo', 'ctarjeta_master', 'ctarjeta_master_transacciones', 'mtarjeta_master_consumo', 'cprestamos_personales', 'mprestamos_personales', 'cprestamos_prendarios', 'mprestamos_prendarios', 'cprestamos_hipotecarios', 'mprestamos_hipotecarios', 'cplazo_fijo', 'mplazo_fijo_dolares', 'mplazo_fijo_pesos', 'cinversion1', 'minversion1_pesos', 'minversion1_dolares', 'cinversion2', 'minversion2', 'cseguro_vida', 'cseguro_auto', 'cseguro_vivienda', 'cseguro_accidentes_personales', 'ccaja_seguridad', 'cpayroll_trx', 'mpayroll', 'mpayroll2', 'cpayroll2_trx', 'ccuenta_debitos_automaticos', 'mcuenta_debitos_automaticos', 'ctarjeta_visa_debitos_automaticos', 'mttarjeta_visa_debitos_automaticos', 'ctarjeta_master_debitos_automaticos', 'mttarjeta_master_debitos_automaticos', 'cpagodeservicios', 'mpagodeservicios', 'cpagomiscuentas', 'mpagomiscuentas', 'ccajeros_propios_descuentos', 'mcajeros_propios_descuentos', 'ctarjeta_visa_descuentos', 'mtarjeta_visa_descuentos', 'ctarjeta_master_descuentos', 'mtarjeta_master_descuentos', 'ccomisiones_mantenimiento', 'mcomisiones_mantenimiento', 'ccomisiones_otras', 'mcomisiones_otras', 'cforex', 'cforex_buy', 'mforex_buy', 'cforex_sell', 'mforex_sell', 'ctransferencias_recibidas', 'mtransferencias_recibidas', 'ctransferencias_emitidas', 'mtransferencias_emitidas', 'cextraccion_autoservicio', 'mextraccion_autoservicio', 'ccheques_depositados', 'mcheques_depositados', 'ccheques_emitidos', 'mcheques_emitidos', 'ccheques_depositados_rechazados', 'mcheques_depositados_rechazados', 'ccheques_emitidos_rechazados', 'mcheques_emitidos_rechazados', 'tcallcenter', 'ccallcenter_transacciones', 'thomebanking', 'chomebanking_transacciones', 'ccajas_transacciones', 'ccajas_consultas', 'ccajas_depositos', 'ccajas_extracciones', 'ccajas_otras', 'catm_trx', 'matm', 'catm_trx_other', 'matm_other', 'ctrx_quarter', 'tmobile_app', 'cmobile_app_trx', 'Master_delinquency', 'Master_status', 'Master_mfinanciacion_limite', 'Master_Fvencimiento', 'Master_Finiciomora', 'Master_msaldototal', 'Master_msaldopesos', 'Master_msaldodolares', 'Master_mconsumospesos', 'Master_mconsumosdolares', 'Master_mlimitecompra', 'Master_madelantopesos', 'Master_madelantodolares', 'Master_fultimo_cierre', 'Master_mpagado', 'Master_mpagospesos', 'Master_mpagosdolares', 'Master_fechaalta', 'Master_mconsumototal', 'Master_cconsumos', 'Master_cadelantosefectivo', 'Master_mpagominimo', 'Visa_delinquency', 'Visa_status', 'Visa_mfinanciacion_limite', 'Visa_Fvencimiento', 'Visa_Finiciomora', 'Visa_msaldototal', 'Visa_msaldopesos', 'Visa_msaldodolares', 'Visa_mconsumospesos', 'Visa_mconsumosdolares', 'Visa_mlimitecompra', 'Visa_madelantopesos', 'Visa_madelantodolares', 'Visa_fultimo_cierre', 'Visa_mpagado', 'Visa_mpagospesos', 'Visa_mpagosdolares', 'Visa_fechaalta', 'Visa_mconsumototal', 'Visa_cconsumos', 'Visa_cadelantosefectivo', 'Visa_mpagominimo', 'active_quarter_lag1', 'active_quarter_lag2', 'active_quarter_delta1', 'active_quarter_delta2', 'cliente_vip_lag1', 'cliente_vip_lag2', 'cliente_vip_delta1', 'cliente_vip_delta2', 'internet_lag1', 'internet_lag2', 'internet_delta1', 'internet_delta2', 'cliente_edad_lag1', 'cliente_edad_lag2', 'cliente_edad_delta1', 'cliente_edad_delta2', 'cliente_antiguedad_lag1', 'cliente_antiguedad_lag2', 'cliente_antiguedad_delta1', 'cliente_antiguedad_delta2', 'mrentabilidad_lag1', 'mrentabilidad_lag2', 'mrentabilidad_delta1', 'mrentabilidad_delta2', 'mrentabilidad_annual_lag1', 'mrentabilidad_annual_lag2', 'mrentabilidad_annual_delta1', 'mrentabilidad_annual_delta2', 'mcomisiones_lag1', 'mcomisiones_lag2', 'mcomisiones_delta1', 'mcomisiones_delta2', 'mactivos_margen_lag1', 'mactivos_margen_lag2', 'mactivos_margen_delta1', 'mactivos_margen_delta2', 'mpasivos_margen_lag1', 'mpasivos_margen_lag2', 'mpasivos_margen_delta1', 'mpasivos_margen_delta2', 'cproductos_lag1', 'cproductos_lag2', 'cproductos_delta1', 'cproductos_delta2', 'tcuentas_lag1', 'tcuentas_lag2', 'tcuentas_delta1', 'tcuentas_delta2', 'ccuenta_corriente_lag1', 'ccuenta_corriente_lag2', 'ccuenta_corriente_delta1', 'ccuenta_corriente_delta2', 'mcuenta_corriente_adicional_lag1', 'mcuenta_corriente_adicional_lag2', 'mcuenta_corriente_adicional_delta1', 'mcuenta_corriente_adicional_delta2', 'mcuenta_corriente_lag1', 'mcuenta_corriente_lag2', 'mcuenta_corriente_delta1', 'mcuenta_corriente_delta2', 'ccaja_ahorro_lag1', 'ccaja_ahorro_lag2', 'ccaja_ahorro_delta1', 'ccaja_ahorro_delta2', 'mcaja_ahorro_lag1', 'mcaja_ahorro_lag2', 'mcaja_ahorro_delta1', 'mcaja_ahorro_delta2', 'mcaja_ahorro_adicional_lag1', 'mcaja_ahorro_adicional_lag2', 'mcaja_ahorro_adicional_delta1', 'mcaja_ahorro_adicional_delta2', 'mcaja_ahorro_dolares_lag1', 'mcaja_ahorro_dolares_lag2', 'mcaja_ahorro_dolares_delta1', 'mcaja_ahorro_dolares_delta2', 'cdescubierto_preacordado_lag1', 'cdescubierto_preacordado_lag2', 'cdescubierto_preacordado_delta1', 'cdescubierto_preacordado_delta2', 'mcuentas_saldo_lag1', 'mcuentas_saldo_lag2', 'mcuentas_saldo_delta1', 'mcuentas_saldo_delta2', 'ctarjeta_debito_lag1', 'ctarjeta_debito_lag2', 'ctarjeta_debito_delta1', 'ctarjeta_debito_delta2', 'ctarjeta_debito_transacciones_lag1', 'ctarjeta_debito_transacciones_lag2', 'ctarjeta_debito_transacciones_delta1', 'ctarjeta_debito_transacciones_delta2', 'mautoservicio_lag1', 'mautoservicio_lag2', 'mautoservicio_delta1', 'mautoservicio_delta2', 'ctarjeta_visa_lag1', 'ctarjeta_visa_lag2', 'ctarjeta_visa_delta1', 'ctarjeta_visa_delta2', 'ctarjeta_visa_transacciones_lag1', 'ctarjeta_visa_transacciones_lag2', 'ctarjeta_visa_transacciones_delta1', 'ctarjeta_visa_transacciones_delta2', 'mtarjeta_visa_consumo_lag1', 'mtarjeta_visa_consumo_lag2', 'mtarjeta_visa_consumo_delta1', 'mtarjeta_visa_consumo_delta2', 'ctarjeta_master_lag1', 'ctarjeta_master_lag2', 'ctarjeta_master_delta1', 'ctarjeta_master_delta2', 'ctarjeta_master_transacciones_lag1', 'ctarjeta_master_transacciones_lag2', 'ctarjeta_master_transacciones_delta1', 'ctarjeta_master_transacciones_delta2', 'mtarjeta_master_consumo_lag1', 'mtarjeta_master_consumo_lag2', 'mtarjeta_master_consumo_delta1', 'mtarjeta_master_consumo_delta2', 'cprestamos_personales_lag1', 'cprestamos_personales_lag2', 'cprestamos_personales_delta1', 'cprestamos_personales_delta2', 'mprestamos_personales_lag1', 'mprestamos_personales_lag2', 'mprestamos_personales_delta1', 'mprestamos_personales_delta2', 'cprestamos_prendarios_lag1', 'cprestamos_prendarios_lag2', 'cprestamos_prendarios_delta1', 'cprestamos_prendarios_delta2', 'mprestamos_prendarios_lag1', 'mprestamos_prendarios_lag2', 'mprestamos_prendarios_delta1', 'mprestamos_prendarios_delta2', 'cprestamos_hipotecarios_lag1', 'cprestamos_hipotecarios_lag2', 'cprestamos_hipotecarios_delta1', 'cprestamos_hipotecarios_delta2', 'mprestamos_hipotecarios_lag1', 'mprestamos_hipotecarios_lag2', 'mprestamos_hipotecarios_delta1', 'mprestamos_hipotecarios_delta2', 'cplazo_fijo_lag1', 'cplazo_fijo_lag2', 'cplazo_fijo_delta1', 'cplazo_fijo_delta2', 'mplazo_fijo_dolares_lag1', 'mplazo_fijo_dolares_lag2', 'mplazo_fijo_dolares_delta1', 'mplazo_fijo_dolares_delta2', 'mplazo_fijo_pesos_lag1', 'mplazo_fijo_pesos_lag2', 'mplazo_fijo_pesos_delta1', 'mplazo_fijo_pesos_delta2', 'cinversion1_lag1', 'cinversion1_lag2', 'cinversion1_delta1', 'cinversion1_delta2', 'minversion1_pesos_lag1', 'minversion1_pesos_lag2', 'minversion1_pesos_delta1', 'minversion1_pesos_delta2', 'minversion1_dolares_lag1', 'minversion1_dolares_lag2', 'minversion1_dolares_delta1', 'minversion1_dolares_delta2', 'cinversion2_lag1', 'cinversion2_lag2', 'cinversion2_delta1', 'cinversion2_delta2', 'minversion2_lag1', 'minversion2_lag2', 'minversion2_delta1', 'minversion2_delta2', 'cseguro_vida_lag1', 'cseguro_vida_lag2', 'cseguro_vida_delta1', 'cseguro_vida_delta2', 'cseguro_auto_lag1', 'cseguro_auto_lag2', 'cseguro_auto_delta1', 'cseguro_auto_delta2', 'cseguro_vivienda_lag1', 'cseguro_vivienda_lag2', 'cseguro_vivienda_delta1', 'cseguro_vivienda_delta2', 'cseguro_accidentes_personales_lag1', 'cseguro_accidentes_personales_lag2', 'cseguro_accidentes_personales_delta1', 'cseguro_accidentes_personales_delta2', 'ccaja_seguridad_lag1', 'ccaja_seguridad_lag2', 'ccaja_seguridad_delta1', 'ccaja_seguridad_delta2', 'cpayroll_trx_lag1', 'cpayroll_trx_lag2', 'cpayroll_trx_delta1', 'cpayroll_trx_delta2', 'mpayroll_lag1', 'mpayroll_lag2', 'mpayroll_delta1', 'mpayroll_delta2', 'mpayroll2_lag1', 'mpayroll2_lag2', 'mpayroll2_delta1', 'mpayroll2_delta2', 'cpayroll2_trx_lag1', 'cpayroll2_trx_lag2', 'cpayroll2_trx_delta1', 'cpayroll2_trx_delta2', 'ccuenta_debitos_automaticos_lag1', 'ccuenta_debitos_automaticos_lag2', 'ccuenta_debitos_automaticos_delta1', 'ccuenta_debitos_automaticos_delta2', 'mcuenta_debitos_automaticos_lag1', 'mcuenta_debitos_automaticos_lag2', 'mcuenta_debitos_automaticos_delta1', 'mcuenta_debitos_automaticos_delta2', 'ctarjeta_visa_debitos_automaticos_lag1', 'ctarjeta_visa_debitos_automaticos_lag2', 'ctarjeta_visa_debitos_automaticos_delta1', 'ctarjeta_visa_debitos_automaticos_delta2', 'mttarjeta_visa_debitos_automaticos_lag1', 'mttarjeta_visa_debitos_automaticos_lag2', 'mttarjeta_visa_debitos_automaticos_delta1', 'mttarjeta_visa_debitos_automaticos_delta2', 'ctarjeta_master_debitos_automaticos_lag1', 'ctarjeta_master_debitos_automaticos_lag2', 'ctarjeta_master_debitos_automaticos_delta1', 'ctarjeta_master_debitos_automaticos_delta2', 'mttarjeta_master_debitos_automaticos_lag1', 'mttarjeta_master_debitos_automaticos_lag2', 'mttarjeta_master_debitos_automaticos_delta1', 'mttarjeta_master_debitos_automaticos_delta2', 'cpagodeservicios_lag1', 'cpagodeservicios_lag2', 'cpagodeservicios_delta1', 'cpagodeservicios_delta2', 'mpagodeservicios_lag1', 'mpagodeservicios_lag2', 'mpagodeservicios_delta1', 'mpagodeservicios_delta2', 'cpagomiscuentas_lag1', 'cpagomiscuentas_lag2', 'cpagomiscuentas_delta1', 'cpagomiscuentas_delta2', 'mpagomiscuentas_lag1', 'mpagomiscuentas_lag2', 'mpagomiscuentas_delta1', 'mpagomiscuentas_delta2', 'ccajeros_propios_descuentos_lag1', 'ccajeros_propios_descuentos_lag2', 'ccajeros_propios_descuentos_delta1', 'ccajeros_propios_descuentos_delta2', 'mcajeros_propios_descuentos_lag1', 'mcajeros_propios_descuentos_lag2', 'mcajeros_propios_descuentos_delta1', 'mcajeros_propios_descuentos_delta2', 'ctarjeta_visa_descuentos_lag1', 'ctarjeta_visa_descuentos_lag2', 'ctarjeta_visa_descuentos_delta1', 'ctarjeta_visa_descuentos_delta2', 'mtarjeta_visa_descuentos_lag1', 'mtarjeta_visa_descuentos_lag2', 'mtarjeta_visa_descuentos_delta1', 'mtarjeta_visa_descuentos_delta2', 'ctarjeta_master_descuentos_lag1', 'ctarjeta_master_descuentos_lag2', 'ctarjeta_master_descuentos_delta1', 'ctarjeta_master_descuentos_delta2', 'mtarjeta_master_descuentos_lag1', 'mtarjeta_master_descuentos_lag2', 'mtarjeta_master_descuentos_delta1', 'mtarjeta_master_descuentos_delta2', 'ccomisiones_mantenimiento_lag1', 'ccomisiones_mantenimiento_lag2', 'ccomisiones_mantenimiento_delta1', 'ccomisiones_mantenimiento_delta2', 'mcomisiones_mantenimiento_lag1', 'mcomisiones_mantenimiento_lag2', 'mcomisiones_mantenimiento_delta1', 'mcomisiones_mantenimiento_delta2', 'ccomisiones_otras_lag1', 'ccomisiones_otras_lag2', 'ccomisiones_otras_delta1', 'ccomisiones_otras_delta2', 'mcomisiones_otras_lag1', 'mcomisiones_otras_lag2', 'mcomisiones_otras_delta1', 'mcomisiones_otras_delta2', 'cforex_lag1', 'cforex_lag2', 'cforex_delta1', 'cforex_delta2', 'cforex_buy_lag1', 'cforex_buy_lag2', 'cforex_buy_delta1', 'cforex_buy_delta2', 'mforex_buy_lag1', 'mforex_buy_lag2', 'mforex_buy_delta1', 'mforex_buy_delta2', 'cforex_sell_lag1', 'cforex_sell_lag2', 'cforex_sell_delta1', 'cforex_sell_delta2', 'mforex_sell_lag1', 'mforex_sell_lag2', 'mforex_sell_delta1', 'mforex_sell_delta2', 'ctransferencias_recibidas_lag1', 'ctransferencias_recibidas_lag2', 'ctransferencias_recibidas_delta1', 'ctransferencias_recibidas_delta2', 'mtransferencias_recibidas_lag1', 'mtransferencias_recibidas_lag2', 'mtransferencias_recibidas_delta1', 'mtransferencias_recibidas_delta2', 'ctransferencias_emitidas_lag1', 'ctransferencias_emitidas_lag2', 'ctransferencias_emitidas_delta1', 'ctransferencias_emitidas_delta2', 'mtransferencias_emitidas_lag1', 'mtransferencias_emitidas_lag2', 'mtransferencias_emitidas_delta1', 'mtransferencias_emitidas_delta2', 'cextraccion_autoservicio_lag1', 'cextraccion_autoservicio_lag2', 'cextraccion_autoservicio_delta1', 'cextraccion_autoservicio_delta2', 'mextraccion_autoservicio_lag1', 'mextraccion_autoservicio_lag2', 'mextraccion_autoservicio_delta1', 'mextraccion_autoservicio_delta2', 'ccheques_depositados_lag1', 'ccheques_depositados_lag2', 'ccheques_depositados_delta1', 'ccheques_depositados_delta2', 'mcheques_depositados_lag1', 'mcheques_depositados_lag2', 'mcheques_depositados_delta1', 'mcheques_depositados_delta2', 'ccheques_emitidos_lag1', 'ccheques_emitidos_lag2', 'ccheques_emitidos_delta1', 'ccheques_emitidos_delta2', 'mcheques_emitidos_lag1', 'mcheques_emitidos_lag2', 'mcheques_emitidos_delta1', 'mcheques_emitidos_delta2', 'ccheques_depositados_rechazados_lag1', 'ccheques_depositados_rechazados_lag2', 'ccheques_depositados_rechazados_delta1', 'ccheques_depositados_rechazados_delta2', 'mcheques_depositados_rechazados_lag1', 'mcheques_depositados_rechazados_lag2', 'mcheques_depositados_rechazados_delta1', 'mcheques_depositados_rechazados_delta2', 'ccheques_emitidos_rechazados_lag1', 'ccheques_emitidos_rechazados_lag2', 'ccheques_emitidos_rechazados_delta1', 'ccheques_emitidos_rechazados_delta2', 'mcheques_emitidos_rechazados_lag1', 'mcheques_emitidos_rechazados_lag2', 'mcheques_emitidos_rechazados_delta1', 'mcheques_emitidos_rechazados_delta2', 'tcallcenter_lag1', 'tcallcenter_lag2', 'tcallcenter_delta1', 'tcallcenter_delta2', 'ccallcenter_transacciones_lag1', 'ccallcenter_transacciones_lag2', 'ccallcenter_transacciones_delta1', 'ccallcenter_transacciones_delta2', 'thomebanking_lag1', 'thomebanking_lag2', 'thomebanking_delta1', 'thomebanking_delta2', 'chomebanking_transacciones_lag1', 'chomebanking_transacciones_lag2', 'chomebanking_transacciones_delta1', 'chomebanking_transacciones_delta2', 'ccajas_transacciones_lag1', 'ccajas_transacciones_lag2', 'ccajas_transacciones_delta1', 'ccajas_transacciones_delta2', 'ccajas_consultas_lag1', 'ccajas_consultas_lag2', 'ccajas_consultas_delta1', 'ccajas_consultas_delta2', 'ccajas_depositos_lag1', 'ccajas_depositos_lag2', 'ccajas_depositos_delta1', 'ccajas_depositos_delta2', 'ccajas_extracciones_lag1', 'ccajas_extracciones_lag2', 'ccajas_extracciones_delta1', 'ccajas_extracciones_delta2', 'ccajas_otras_lag1', 'ccajas_otras_lag2', 'ccajas_otras_delta1', 'ccajas_otras_delta2', 'catm_trx_lag1', 'catm_trx_lag2', 'catm_trx_delta1', 'catm_trx_delta2', 'matm_lag1', 'matm_lag2', 'matm_delta1', 'matm_delta2', 'catm_trx_other_lag1', 'catm_trx_other_lag2', 'catm_trx_other_delta1', 'catm_trx_other_delta2', 'matm_other_lag1', 'matm_other_lag2', 'matm_other_delta1', 'matm_other_delta2', 'ctrx_quarter_lag1', 'ctrx_quarter_lag2', 'ctrx_quarter_delta1', 'ctrx_quarter_delta2', 'tmobile_app_lag1', 'tmobile_app_lag2', 'tmobile_app_delta1', 'tmobile_app_delta2', 'cmobile_app_trx_lag1', 'cmobile_app_trx_lag2', 'cmobile_app_trx_delta1', 'cmobile_app_trx_delta2', 'Master_delinquency_lag1', 'Master_delinquency_lag2', 'Master_delinquency_delta1', 'Master_delinquency_delta2', 'Master_status_lag1', 'Master_status_lag2', 'Master_status_delta1', 'Master_status_delta2', 'Master_mfinanciacion_limite_lag1', 'Master_mfinanciacion_limite_lag2', 'Master_mfinanciacion_limite_delta1', 'Master_mfinanciacion_limite_delta2', 'Master_Fvencimiento_lag1', 'Master_Fvencimiento_lag2', 'Master_Fvencimiento_delta1', 'Master_Fvencimiento_delta2', 'Master_Finiciomora_lag1', 'Master_Finiciomora_lag2', 'Master_Finiciomora_delta1', 'Master_Finiciomora_delta2', 'Master_msaldototal_lag1', 'Master_msaldototal_lag2', 'Master_msaldototal_delta1', 'Master_msaldototal_delta2', 'Master_msaldopesos_lag1', 'Master_msaldopesos_lag2', 'Master_msaldopesos_delta1', 'Master_msaldopesos_delta2', 'Master_msaldodolares_lag1', 'Master_msaldodolares_lag2', 'Master_msaldodolares_delta1', 'Master_msaldodolares_delta2', 'Master_mconsumospesos_lag1', 'Master_mconsumospesos_lag2', 'Master_mconsumospesos_delta1', 'Master_mconsumospesos_delta2', 'Master_mconsumosdolares_lag1', 'Master_mconsumosdolares_lag2', 'Master_mconsumosdolares_delta1', 'Master_mconsumosdolares_delta2', 'Master_mlimitecompra_lag1', 'Master_mlimitecompra_lag2', 'Master_mlimitecompra_delta1', 'Master_mlimitecompra_delta2', 'Master_madelantopesos_lag1', 'Master_madelantopesos_lag2', 'Master_madelantopesos_delta1', 'Master_madelantopesos_delta2', 'Master_madelantodolares_lag1', 'Master_madelantodolares_lag2', 'Master_madelantodolares_delta1', 'Master_madelantodolares_delta2', 'Master_fultimo_cierre_lag1', 'Master_fultimo_cierre_lag2', 'Master_fultimo_cierre_delta1', 'Master_fultimo_cierre_delta2', 'Master_mpagado_lag1', 'Master_mpagado_lag2', 'Master_mpagado_delta1', 'Master_mpagado_delta2', 'Master_mpagospesos_lag1', 'Master_mpagospesos_lag2', 'Master_mpagospesos_delta1', 'Master_mpagospesos_delta2', 'Master_mpagosdolares_lag1', 'Master_mpagosdolares_lag2', 'Master_mpagosdolares_delta1', 'Master_mpagosdolares_delta2', 'Master_fechaalta_lag1', 'Master_fechaalta_lag2', 'Master_fechaalta_delta1', 'Master_fechaalta_delta2', 'Master_mconsumototal_lag1', 'Master_mconsumototal_lag2', 'Master_mconsumototal_delta1', 'Master_mconsumototal_delta2', 'Master_cconsumos_lag1', 'Master_cconsumos_lag2', 'Master_cconsumos_delta1', 'Master_cconsumos_delta2', 'Master_cadelantosefectivo_lag1', 'Master_cadelantosefectivo_lag2', 'Master_cadelantosefectivo_delta1', 'Master_cadelantosefectivo_delta2', 'Master_mpagominimo_lag1', 'Master_mpagominimo_lag2', 'Master_mpagominimo_delta1', 'Master_mpagominimo_delta2', 'Visa_delinquency_lag1', 'Visa_delinquency_lag2', 'Visa_delinquency_delta1', 'Visa_delinquency_delta2', 'Visa_status_lag1', 'Visa_status_lag2', 'Visa_status_delta1', 'Visa_status_delta2', 'Visa_mfinanciacion_limite_lag1', 'Visa_mfinanciacion_limite_lag2', 'Visa_mfinanciacion_limite_delta1', 'Visa_mfinanciacion_limite_delta2', 'Visa_Fvencimiento_lag1', 'Visa_Fvencimiento_lag2', 'Visa_Fvencimiento_delta1', 'Visa_Fvencimiento_delta2', 'Visa_Finiciomora_lag1', 'Visa_Finiciomora_lag2', 'Visa_Finiciomora_delta1', 'Visa_Finiciomora_delta2', 'Visa_msaldototal_lag1', 'Visa_msaldototal_lag2', 'Visa_msaldototal_delta1', 'Visa_msaldototal_delta2', 'Visa_msaldopesos_lag1', 'Visa_msaldopesos_lag2', 'Visa_msaldopesos_delta1', 'Visa_msaldopesos_delta2', 'Visa_msaldodolares_lag1', 'Visa_msaldodolares_lag2', 'Visa_msaldodolares_delta1', 'Visa_msaldodolares_delta2', 'Visa_mconsumospesos_lag1', 'Visa_mconsumospesos_lag2', 'Visa_mconsumospesos_delta1', 'Visa_mconsumospesos_delta2', 'Visa_mconsumosdolares_lag1', 'Visa_mconsumosdolares_lag2', 'Visa_mconsumosdolares_delta1', 'Visa_mconsumosdolares_delta2', 'Visa_mlimitecompra_lag1', 'Visa_mlimitecompra_lag2', 'Visa_mlimitecompra_delta1', 'Visa_mlimitecompra_delta2', 'Visa_madelantopesos_lag1', 'Visa_madelantopesos_lag2', 'Visa_madelantopesos_delta1', 'Visa_madelantopesos_delta2', 'Visa_madelantodolares_lag1', 'Visa_madelantodolares_lag2', 'Visa_madelantodolares_delta1', 'Visa_madelantodolares_delta2', 'Visa_fultimo_cierre_lag1', 'Visa_fultimo_cierre_lag2', 'Visa_fultimo_cierre_delta1', 'Visa_fultimo_cierre_delta2', 'Visa_mpagado_lag1', 'Visa_mpagado_lag2', 'Visa_mpagado_delta1', 'Visa_mpagado_delta2', 'Visa_mpagospesos_lag1', 'Visa_mpagospesos_lag2', 'Visa_mpagospesos_delta1', 'Visa_mpagospesos_delta2', 'Visa_mpagosdolares_lag1', 'Visa_mpagosdolares_lag2', 'Visa_mpagosdolares_delta1', 'Visa_mpagosdolares_delta2', 'Visa_fechaalta_lag1', 'Visa_fechaalta_lag2', 'Visa_fechaalta_delta1', 'Visa_fechaalta_delta2', 'Visa_mconsumototal_lag1', 'Visa_mconsumototal_lag2', 'Visa_mconsumototal_delta1', 'Visa_mconsumototal_delta2', 'Visa_cconsumos_lag1', 'Visa_cconsumos_lag2', 'Visa_cconsumos_delta1', 'Visa_cconsumos_delta2', 'Visa_cadelantosefectivo_lag1', 'Visa_cadelantosefectivo_lag2', 'Visa_cadelantosefectivo_delta1', 'Visa_cadelantosefectivo_delta2', 'Visa_mpagominimo_lag1', 'Visa_mpagominimo_lag2', 'Visa_mpagominimo_delta1', 'Visa_mpagominimo_delta2']\n",
            "762\n"
          ]
        }
      ],
      "source": [
        "# los campos que se van a utilizar\n",
        "\n",
        "excluir = {\"clase_ternaria\",\"clase01\",\"azar\",\"training\",\"periodo0\",\"periodo1\",\"periodo2\"}\n",
        "campos_buenos = [c for c in dataset.columns if c not in excluir]\n",
        "print(campos_buenos)\n",
        "print(len(campos_buenos))"
      ]
    },
    {
      "cell_type": "markdown",
      "metadata": {
        "id": "TKsVZmAnhwX-"
      },
      "source": [
        "## Produccion"
      ]
    },
    {
      "cell_type": "markdown",
      "metadata": {
        "id": "RQ_C33Tr5B_9"
      },
      "source": [
        "### Final Training\n",
        "Construyo el modelo final, que es uno solo, no hace ningun tipo de particion < training, validation, testing>]"
      ]
    },
    {
      "cell_type": "code",
      "execution_count": 27,
      "metadata": {
        "id": "eDqfyA14hzwv"
      },
      "outputs": [],
      "source": [
        "base_exp_dir = \"exp\"\n",
        "experimento = f\"exp{PARAM['experimento']}\"\n",
        "experimento_path = os.path.join(base_exp_dir, experimento)\n",
        "\n",
        "os.makedirs(experimento_path, exist_ok=True)"
      ]
    },
    {
      "cell_type": "markdown",
      "metadata": {
        "id": "8qFmFivf5Iet"
      },
      "source": [
        "#### Final Training Dataset\n",
        "\n",
        "Aqui esta la gran decision de en qué meses hago el Final Training\n",
        "<br> debo utilizar los mejores hiperparámetros que encontré en la  optimización bayesiana"
      ]
    },
    {
      "cell_type": "code",
      "execution_count": 28,
      "metadata": {
        "id": "lg5WVZncvc7H"
      },
      "outputs": [],
      "source": [
        "# clase01\n",
        "dataset = dataset.with_columns(\n",
        "    (pl.col(\"clase_ternaria\").is_in([\"BAJA+2\", \"BAJA+1\"]).cast(pl.Int8)).alias(\"clase01\")\n",
        ")"
      ]
    },
    {
      "cell_type": "code",
      "execution_count": 29,
      "metadata": {
        "id": "yc9QzXREv0xf"
      },
      "outputs": [
        {
          "name": "stdout",
          "output_type": "stream",
          "text": [
            "shape: (3, 2)\n",
            "┌────────────────┬────────┐\n",
            "│ clase_ternaria ┆ N      │\n",
            "│ ---            ┆ ---    │\n",
            "│ str            ┆ u32    │\n",
            "╞════════════════╪════════╡\n",
            "│ BAJA+1         ┆ 2492   │\n",
            "│ BAJA+2         ┆ 2808   │\n",
            "│ CONTINUA       ┆ 481491 │\n",
            "└────────────────┴────────┘\n"
          ]
        }
      ],
      "source": [
        "# --- Filtrar por los meses de entrenamiento final ---\n",
        "dataset_train = dataset.filter(pl.col(\"foto_mes\").is_in(PARAM[\"train_final\"]))\n",
        "\n",
        "resumen = (\n",
        "    dataset_train\n",
        "    .group_by(\"clase_ternaria\")\n",
        "    .len()\n",
        "    .rename({\"len\": \"N\"})\n",
        "    .sort(\"clase_ternaria\")\n",
        ")\n",
        "\n",
        "print(resumen)"
      ]
    },
    {
      "cell_type": "code",
      "execution_count": 30,
      "metadata": {
        "id": "thjdqEBLuvNt"
      },
      "outputs": [
        {
          "name": "stdout",
          "output_type": "stream",
          "text": [
            "nrow_final: 486791\n",
            "ncol_final: 762\n"
          ]
        }
      ],
      "source": [
        "# dejo los datos en el formato que necesita LightGBM\n",
        "# Features y label sobre todo el dataset_train (sin máscara)\n",
        "X_final = (\n",
        "    dataset_train\n",
        "    .select(campos_buenos)\n",
        "    # opcional: emular data.matrix y forzar numérico\n",
        "    # .with_columns(pl.all().cast(pl.Float32))\n",
        "    .to_numpy()\n",
        ")\n",
        "y_final = dataset_train[\"clase01\"].to_numpy()\n",
        "\n",
        "dtrain_final = lgb.Dataset(\n",
        "    data=X_final,\n",
        "    label=y_final,\n",
        "    free_raw_data=False\n",
        ")\n",
        "\n",
        "print(\"nrow_final:\", X_final.shape[0])\n",
        "print(\"ncol_final:\", X_final.shape[1])"
      ]
    },
    {
      "cell_type": "markdown",
      "metadata": {
        "id": "VNUa-WSz5Oqu"
      },
      "source": [
        "#### Final Training Hyperparameters"
      ]
    },
    {
      "cell_type": "code",
      "execution_count": 32,
      "metadata": {
        "id": "FgCcvBfEwImu"
      },
      "outputs": [
        {
          "name": "stdout",
          "output_type": "stream",
          "text": [
            "Parámetros finales de LightGBM:\n",
            " boosting: gbdt\n",
            " objective: binary\n",
            " metric: auc\n",
            " first_metric_only: False\n",
            " boost_from_average: True\n",
            " feature_pre_filter: False\n",
            " force_row_wise: True\n",
            " verbosity: -100\n",
            " seed: 100129\n",
            " min_gain_to_split: 0\n",
            " min_sum_hessian_in_leaf: 0.001\n",
            " max_bin: 31\n",
            " pos_bagging_fraction: 1.0\n",
            " neg_bagging_fraction: 1.0\n",
            " is_unbalance: False\n",
            " scale_pos_weight: 1.0\n",
            " max_drop: 50\n",
            " skip_drop: 0.5\n",
            " extra_trees: False\n",
            " num_iterations: 1200\n",
            " learning_rate: 0.04481089925392504\n",
            " feature_fraction: 0.5170503571975581\n",
            " min_data_in_leaf: 296\n",
            " num_leaves: 2341\n",
            " max_depth: 14\n",
            " lambda_l1: 0.4514108759697508\n",
            " lambda_l2: 9.426450679561881\n",
            " bagging_fraction: 0.886052537529134\n"
          ]
        }
      ],
      "source": [
        "# Fusionar parámetros fijos con los óptimos encontrados\n",
        "# Cargar best parameters\n",
        "with open(\"PARAM_4942.yml\", \"r\") as file:\n",
        "    param_data = yaml.safe_load(file)\n",
        "\n",
        "best_params = param_data[\"out\"][\"lgbm\"][\"mejores_hiperparametros\"]\n",
        "\n",
        "param_final = {**PARAM[\"lgbm\"][\"param_fijos\"], **best_params}\n",
        "\n",
        "# Mostrar el resultado final\n",
        "print(\"Parámetros finales de LightGBM:\")\n",
        "for k, v in param_final.items():\n",
        "    print(f\" {k}: {v}\")"
      ]
    },
    {
      "cell_type": "markdown",
      "metadata": {
        "id": "TZIYn4l95TBH"
      },
      "source": [
        "#### Training\n",
        "Genero el modelo final, siempre sobre TODOS los datos de  final_train, sin hacer ningun tipo de undersampling de la clase mayoritaria y mucho menos cross validation."
      ]
    },
    {
      "cell_type": "code",
      "execution_count": 33,
      "metadata": {
        "id": "vPLsd4mMRe4u"
      },
      "outputs": [
        {
          "name": "stdout",
          "output_type": "stream",
          "text": [
            " Parámetros normalizados:\n",
            "min_data_in_leaf ajustado: 296\n"
          ]
        }
      ],
      "source": [
        "# Copiar los parámetros finales\n",
        "param_normalizado = param_final.copy()\n",
        "\n",
        "# Ajustar min_data_in_leaf según el undersampling usado en la BO\n",
        "param_normalizado[\"min_data_in_leaf\"] = round(\n",
        "    param_final[\"min_data_in_leaf\"] / PARAM[\"trainingstrategy\"][\"undersampling\"]\n",
        ")\n",
        "\n",
        "print(\" Parámetros normalizados:\")\n",
        "print(f\"min_data_in_leaf ajustado: {param_normalizado['min_data_in_leaf']}\")"
      ]
    },
    {
      "cell_type": "code",
      "execution_count": 34,
      "metadata": {
        "id": "WRI_-taRwOXO"
      },
      "outputs": [],
      "source": [
        "# Entrenar el modelo final de LightGBM\n",
        "modelo_final = lgb.train(\n",
        "    params=param_normalizado,\n",
        "    train_set=dtrain_final\n",
        ")"
      ]
    },
    {
      "cell_type": "code",
      "execution_count": 35,
      "metadata": {},
      "outputs": [],
      "source": [
        "gain = modelo_final.feature_importance(importance_type=\"gain\")\n",
        "split = modelo_final.feature_importance(importance_type=\"split\")\n",
        "feat = modelo_final.feature_name()\n",
        "\n",
        "tb_importancia = pl.DataFrame({\n",
        "    \"Feature\": feat,\n",
        "    \"Gain\": gain,\n",
        "    \"Split\": split\n",
        "})\n",
        "\n",
        "tb_importancia = tb_importancia.with_columns(\n",
        "    pl.Series(\"Feature\", campos_buenos)\n",
        ")\n",
        "\n",
        "archivo_importancia = os.path.join(experimento_path, \"impo.txt\")\n",
        "tb_importancia.write_csv(archivo_importancia, separator=\"\\t\")\n"
      ]
    },
    {
      "cell_type": "code",
      "execution_count": 36,
      "metadata": {
        "id": "lZ3sLmbh0kFj"
      },
      "outputs": [
        {
          "name": "stdout",
          "output_type": "stream",
          "text": [
            "Modelo final guardado en: exp/exp49422/modelo.txt\n"
          ]
        }
      ],
      "source": [
        "# Definir ruta completa dentro del experimento\n",
        "modelo_path = os.path.join(experimento_path, \"modelo.txt\")\n",
        "\n",
        "# Guardar el modelo final en formato texto (igual que R)\n",
        "modelo_final.save_model(modelo_path)\n",
        "print(f\"Modelo final guardado en: {modelo_path}\")"
      ]
    },
    {
      "cell_type": "markdown",
      "metadata": {
        "id": "VEtp2--t5Ymg"
      },
      "source": [
        "### Scoring"
      ]
    },
    {
      "cell_type": "markdown",
      "metadata": {
        "id": "hI5008Mj5ZdI"
      },
      "source": [
        "Aplico el modelo final a los datos del futuro"
      ]
    },
    {
      "cell_type": "code",
      "execution_count": 37,
      "metadata": {},
      "outputs": [],
      "source": [
        "# aplico el modelo a los datos sin clase\n",
        "dfuture = dataset.filter(pl.col(\"foto_mes\").is_in(PARAM[\"future\"]))\n",
        "\n",
        "# aplicar el modelo a los datos nuevos\n",
        "prediccion = modelo_final.predict(\n",
        "    dfuture.select(campos_buenos).to_numpy()\n",
        ")"
      ]
    },
    {
      "cell_type": "code",
      "execution_count": 38,
      "metadata": {
        "id": "M9_NCquymhtF"
      },
      "outputs": [],
      "source": [
        "# inicilizo el dataset drealidad\n",
        "drealidad = realidad_inicializar(dfuture, PARAM)"
      ]
    },
    {
      "cell_type": "code",
      "execution_count": 39,
      "metadata": {},
      "outputs": [
        {
          "data": {
            "text/plain": [
              "(163418, 4)"
            ]
          },
          "execution_count": 39,
          "metadata": {},
          "output_type": "execute_result"
        }
      ],
      "source": [
        "drealidad.shape"
      ]
    },
    {
      "cell_type": "markdown",
      "metadata": {
        "id": "D26rNRh55gpw"
      },
      "source": [
        "#### Tabla Prediccion"
      ]
    },
    {
      "cell_type": "code",
      "execution_count": 40,
      "metadata": {},
      "outputs": [],
      "source": [
        "# tabla de prediccion\n",
        "tb_prediccion = (\n",
        "    dfuture\n",
        "    .select([\"numero_de_cliente\", \"foto_mes\"])\n",
        "    .with_columns(pl.Series(\"prob\", prediccion))\n",
        ")"
      ]
    },
    {
      "cell_type": "markdown",
      "metadata": {
        "id": "jOt4eG_55ltv"
      },
      "source": [
        "Kaggle Competition Submit"
      ]
    },
    {
      "cell_type": "code",
      "execution_count": 41,
      "metadata": {
        "id": "Vdu3moTfJ1Vl"
      },
      "outputs": [
        {
          "name": "stdout",
          "output_type": "stream",
          "text": [
            "[6000, 6500, 7000, 7500, 8000, 8500, 9000, 9500, 10000, 10500, 11000, 11500, 12000, 12500, 13000, 13500, 14000, 14500, 15000, 15500, 16000, 16500, 17000, 17500, 18000, 18500, 19000]\n"
          ]
        }
      ],
      "source": [
        "print(PARAM[\"cortes\"])"
      ]
    },
    {
      "cell_type": "code",
      "execution_count": 42,
      "metadata": {},
      "outputs": [
        {
          "name": "stdout",
          "output_type": "stream",
          "text": [
            "Envios=6000\t TOTAL=343200000  Public=375000000.0 Private=329571428.5714286\n",
            "Envios=6500\t TOTAL=348400000  Public=384600000.0 Private=332885714.2857143\n",
            "Envios=7000\t TOTAL=352000000  Public=382400000.0 Private=338971428.5714286\n",
            "Envios=7500\t TOTAL=358000000  Public=388066666.6666667 Private=345114285.71428573\n",
            "Envios=8000\t TOTAL=357600000  Public=384200000.0 Private=346200000.0\n",
            "Envios=8500\t TOTAL=357200000  Public=382600000.0 Private=346314285.71428573\n",
            "Envios=9000\t TOTAL=354400000  Public=383733333.3333334 Private=341828571.42857146\n",
            "Envios=9500\t TOTAL=355600000  Public=379066666.6666667 Private=345542857.1428572\n",
            "Envios=10000\t TOTAL=354400000  Public=375400000.0 Private=345400000.0\n",
            "Envios=10500\t TOTAL=356400000  Public=371133333.3333334 Private=350085714.2857143\n",
            "Envios=11000\t TOTAL=352000000  Public=365866666.6666667 Private=346057142.85714287\n",
            "Envios=11500\t TOTAL=350800000  Public=363333333.3333334 Private=345428571.42857146\n",
            "Envios=12000\t TOTAL=348000000  Public=366733333.3333334 Private=339971428.5714286\n",
            "Envios=12500\t TOTAL=346000000  Public=362333333.3333334 Private=339000000.0\n",
            "Envios=13000\t TOTAL=345600000  Public=360666666.6666667 Private=339142857.1428572\n",
            "Envios=13500\t TOTAL=346000000  Public=366266666.6666667 Private=337314285.71428573\n",
            "Envios=14000\t TOTAL=342400000  Public=364733333.3333334 Private=332828571.42857146\n",
            "Envios=14500\t TOTAL=336400000  Public=356933333.3333334 Private=327600000.0\n",
            "Envios=15000\t TOTAL=333600000  Public=354733333.3333334 Private=324542857.14285713\n",
            "Envios=15500\t TOTAL=333200000  Public=352400000.0 Private=324971428.5714286\n",
            "Envios=16000\t TOTAL=331200000  Public=348733333.3333334 Private=323685714.2857143\n",
            "Envios=16500\t TOTAL=327600000  Public=346066666.6666667 Private=319685714.2857143\n",
            "Envios=17000\t TOTAL=324000000  Public=338000000.0 Private=318000000.0\n",
            "Envios=17500\t TOTAL=324400000  Public=337533333.3333334 Private=318771428.5714286\n",
            "Envios=18000\t TOTAL=315200000  Public=329266666.6666667 Private=309171428.5714286\n",
            "Envios=18500\t TOTAL=311600000  Public=327066666.6666667 Private=304971428.5714286\n",
            "Envios=19000\t TOTAL=304800000  Public=318133333.3333334 Private=299085714.2857143\n"
          ]
        }
      ],
      "source": [
        "# ordenar por probabilidad descendente\n",
        "tb_prediccion_sorted = tb_prediccion.sort(\"prob\", descending=True)\n",
        "\n",
        "for envios in PARAM[\"cortes\"]:\n",
        "    pred = (\n",
        "        tb_prediccion_sorted\n",
        "        .with_row_index(\"rn\")  # <- reemplaza with_row_count\n",
        "        .with_columns(\n",
        "            pl.when(pl.col(\"rn\") < envios).then(1).otherwise(0).alias(\"Predicted\")\n",
        "        )\n",
        "        .drop(\"rn\")\n",
        "    )\n",
        "    res = realidad_evaluar(drealidad, pred)\n",
        "    print(f\"Envios={envios}\\t TOTAL={res['total']}  Public={res['public']} Private={res['private']}\")\n"
      ]
    },
    {
      "cell_type": "code",
      "execution_count": 43,
      "metadata": {
        "id": "B9tB2X4439Hg"
      },
      "outputs": [],
      "source": [
        "param_path = os.path.join(experimento_path, \"PARAM.yml\")\n",
        "\n",
        "# Guardar PARAM en YAML\n",
        "with open(param_path, \"w\", encoding=\"utf-8\") as f:\n",
        "    yaml.safe_dump(PARAM, f, sort_keys=False, allow_unicode=True)"
      ]
    },
    {
      "cell_type": "code",
      "execution_count": 44,
      "metadata": {
        "id": "9zA_W25c15DP"
      },
      "outputs": [
        {
          "name": "stdout",
          "output_type": "stream",
          "text": [
            "Sun Oct 12 15:46:37 2025\n"
          ]
        }
      ],
      "source": [
        "print(datetime.now().strftime(\"%a %b %d %X %Y\"))"
      ]
    },
    {
      "cell_type": "markdown",
      "metadata": {},
      "source": [
        "## Kaggle Submission"
      ]
    },
    {
      "cell_type": "code",
      "execution_count": 45,
      "metadata": {},
      "outputs": [
        {
          "name": "stdout",
          "output_type": "stream",
          "text": [
            "(164313, 764)\n",
            "shape: (1, 2)\n",
            "┌──────────┬────────┐\n",
            "│ foto_mes ┆ N      │\n",
            "│ ---      ┆ ---    │\n",
            "│ i64      ┆ u32    │\n",
            "╞══════════╪════════╡\n",
            "│ 202106   ┆ 164313 │\n",
            "└──────────┴────────┘\n"
          ]
        }
      ],
      "source": [
        "# datos sin clase (kaggle)\n",
        "dfuture = dataset.filter(pl.col(\"foto_mes\").is_in(PARAM[\"kaggle\"]))\n",
        "\n",
        "# aplicar el modelo a los datos nuevos\n",
        "X_future = dfuture.select(campos_buenos).to_numpy()\n",
        "prediccion = modelo_final.predict(X_future)\n",
        "\n",
        "# dimensiones y tabla de foto_mes\n",
        "print(dfuture.shape)\n",
        "print(\n",
        "    dfuture.group_by(\"foto_mes\")\n",
        "           .len()\n",
        "           .rename({\"len\": \"N\"})\n",
        "           .sort(\"foto_mes\")\n",
        ")"
      ]
    },
    {
      "cell_type": "code",
      "execution_count": 46,
      "metadata": {},
      "outputs": [
        {
          "data": {
            "text/plain": [
              "(164313, 4)"
            ]
          },
          "execution_count": 46,
          "metadata": {},
          "output_type": "execute_result"
        }
      ],
      "source": [
        "# inicilizo el dataset  drealidad\n",
        "drealidad = realidad_inicializar(dfuture, PARAM)\n",
        "drealidad.shape"
      ]
    },
    {
      "cell_type": "code",
      "execution_count": 47,
      "metadata": {},
      "outputs": [],
      "source": [
        "# tabla de predicción\n",
        "tb_prediccion = (\n",
        "    dfuture\n",
        "    .select([\"numero_de_cliente\", \"foto_mes\"])\n",
        "    .with_columns(pl.Series(\"prob\", prediccion))\n",
        ")\n",
        "\n",
        "# grabo las probabilidades del modelo\n",
        "archivo_prediccion = os.path.join(experimento_path, \"prediccion.txt\")\n",
        "tb_prediccion.write_csv(archivo_prediccion, separator=\"\\t\")"
      ]
    },
    {
      "cell_type": "code",
      "execution_count": 48,
      "metadata": {},
      "outputs": [],
      "source": [
        "# ordenar por probabilidad descendente\n",
        "tb_prediccion_sorted = tb_prediccion.sort(\"prob\", descending=True)\n",
        "\n",
        "# crear carpeta\n",
        "kaggle_path = os.path.join(experimento_path, \"kaggle\")\n",
        "os.makedirs(kaggle_path, exist_ok=True)\n",
        "\n",
        "for envios in PARAM[\"cortes\"]:\n",
        "    # Predicted = 1 para los primeros 'envios', 0 para el resto\n",
        "    pred = (\n",
        "        tb_prediccion_sorted\n",
        "        .with_row_index(\"rn\")\n",
        "        .with_columns(\n",
        "            pl.when(pl.col(\"rn\") < envios).then(1).otherwise(0).alias(\"Predicted\")\n",
        "        )\n",
        "        .select([\"numero_de_cliente\", \"Predicted\"])\n",
        "    )\n",
        "\n",
        "    archivo_kaggle = os.path.join(kaggle_path, f\"KA{PARAM['experimento']}_{envios}.csv\")\n",
        "    pred.write_csv(archivo_kaggle)\n"
      ]
    }
  ],
  "metadata": {
    "colab": {
      "provenance": []
    },
    "kernelspec": {
      "display_name": "venv",
      "language": "python",
      "name": "python3"
    },
    "language_info": {
      "codemirror_mode": {
        "name": "ipython",
        "version": 3
      },
      "file_extension": ".py",
      "mimetype": "text/x-python",
      "name": "python",
      "nbconvert_exporter": "python",
      "pygments_lexer": "ipython3",
      "version": "3.11.2"
    }
  },
  "nbformat": 4,
  "nbformat_minor": 0
}
